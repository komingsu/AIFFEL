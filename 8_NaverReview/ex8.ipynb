{
 "cells": [
  {
   "cell_type": "markdown",
   "id": "6912bc81-e948-421a-ab3f-1d5a97e388a1",
   "metadata": {},
   "source": [
    "# 1. IMDB 감성분석"
   ]
  },
  {
   "cell_type": "code",
   "execution_count": 1,
   "id": "390a23cb-b292-4b4b-a852-761a391e143b",
   "metadata": {},
   "outputs": [],
   "source": [
    "# 문장 1개를 활용할 딕셔너리와 함께 주면, 단어 인덱스 리스트로 변환해 주는 함수를 만들어 봅시다.\n",
    "# 단, 모든 문장은 <BOS>로 시작하는 것으로 합니다. \n",
    "def get_encoded_sentence(sentence, word_to_index):\n",
    "    return [word_to_index['<BOS>']]+[word_to_index[word] if word in word_to_index else word_to_index['<UNK>'] for word in sentence.split()]\n",
    "\n",
    "# 여러 개의 문장 리스트를 한꺼번에 숫자 텐서로 encode해 주는 함수입니다. \n",
    "def get_encoded_sentences(sentences, word_to_index):\n",
    "    return [get_encoded_sentence(sentence, word_to_index) for sentence in sentences]\n",
    "\n",
    "# 숫자 벡터로 encode된 문장을 원래대로 decode하는 함수입니다. \n",
    "def get_decoded_sentence(encoded_sentence, index_to_word):\n",
    "    return ' '.join(index_to_word[index] if index in index_to_word else '<UNK>' for index in encoded_sentence[1:])  #[1:]를 통해 <BOS>를 제외\n",
    "\n",
    "# 여러 개의 숫자 벡터로 encode된 문장을 한꺼번에 원래대로 decode하는 함수입니다. \n",
    "def get_decoded_sentences(encoded_sentences, index_to_word):\n",
    "    return [get_decoded_sentence(encoded_sentence, index_to_word) for encoded_sentence in encoded_sentences]"
   ]
  },
  {
   "cell_type": "code",
   "execution_count": 2,
   "id": "6d2b67fe-35d0-421c-aef0-bd1f8d9376b4",
   "metadata": {},
   "outputs": [],
   "source": [
    "import numpy as np\n",
    "import tensorflow as tf\n",
    "import os"
   ]
  },
  {
   "cell_type": "code",
   "execution_count": 3,
   "id": "f8437f83-8144-499b-9be1-eeb230ea2fa7",
   "metadata": {},
   "outputs": [
    {
     "name": "stdout",
     "output_type": "stream",
     "text": [
      "{0: '<PAD>', 1: '<BOS>', 2: '<UNK>', 3: 'i', 4: 'feel', 5: 'hungry', 6: 'eat', 7: 'lunch', 8: 'now', 9: 'happy'}\n",
      "{'<PAD>': 0, '<BOS>': 1, '<UNK>': 2, 'i': 3, 'feel': 4, 'hungry': 5, 'eat': 6, 'lunch': 7, 'now': 8, 'happy': 9}\n"
     ]
    }
   ],
   "source": [
    "sentences=['i feel hungry', 'i eat lunch', 'now i feel happy']\n",
    "\n",
    "index_to_word={}  # 빈 딕셔너리를 만들어서\n",
    "\n",
    "# 단어들을 하나씩 채워 봅니다. 채우는 순서는 일단 임의로 하였습니다. 그러나 사실 순서는 중요하지 않습니다. \n",
    "# <BOS>, <PAD>, <UNK>는 관례적으로 딕셔너리 맨 앞에 넣어줍니다. \n",
    "index_to_word[0]='<PAD>'  # 패딩용 단어\n",
    "index_to_word[1]='<BOS>'  # 문장의 시작지점\n",
    "index_to_word[2]='<UNK>'  # 사전에 없는(Unknown) 단어\n",
    "index_to_word[3]='i'\n",
    "index_to_word[4]='feel'\n",
    "index_to_word[5]='hungry'\n",
    "index_to_word[6]='eat'\n",
    "index_to_word[7]='lunch'\n",
    "index_to_word[8]='now'\n",
    "index_to_word[9]='happy'\n",
    "\n",
    "print(index_to_word)\n",
    "\n",
    "word_to_index={word:index for index, word in index_to_word.items()}\n",
    "print(word_to_index)"
   ]
  },
  {
   "cell_type": "code",
   "execution_count": 4,
   "id": "4ce60d9b-add8-4c4f-8d14-a8237b379cb6",
   "metadata": {},
   "outputs": [
    {
     "name": "stdout",
     "output_type": "stream",
     "text": [
      "raw_data : \n",
      "[list([1, 3, 4, 5]) list([1, 3, 6, 7]) list([1, 8, 3, 4, 9])]\n",
      "after padding : \n",
      "[[1 3 4 5 0]\n",
      " [1 3 6 7 0]\n",
      " [1 8 3 4 9]]\n",
      "embedding : \n",
      "tf.Tensor(\n",
      "[[[ 0.01987639  0.01407177  0.03588716  0.0386878 ]\n",
      "  [ 0.03108657 -0.00679178 -0.01059975  0.04344168]\n",
      "  [ 0.04528866  0.03630866 -0.02072189  0.0047208 ]\n",
      "  [ 0.01830124  0.03959924 -0.04661244  0.03019363]\n",
      "  [ 0.01761172 -0.01383747  0.04413981 -0.00980706]]\n",
      "\n",
      " [[ 0.01987639  0.01407177  0.03588716  0.0386878 ]\n",
      "  [ 0.03108657 -0.00679178 -0.01059975  0.04344168]\n",
      "  [ 0.03362622 -0.01770086 -0.02776437  0.02813396]\n",
      "  [ 0.01013235 -0.00832324 -0.00601326  0.04166645]\n",
      "  [ 0.01761172 -0.01383747  0.04413981 -0.00980706]]\n",
      "\n",
      " [[ 0.01987639  0.01407177  0.03588716  0.0386878 ]\n",
      "  [-0.04610703  0.02582109  0.03717225 -0.00241324]\n",
      "  [ 0.03108657 -0.00679178 -0.01059975  0.04344168]\n",
      "  [ 0.04528866  0.03630866 -0.02072189  0.0047208 ]\n",
      "  [-0.00918368 -0.01022034 -0.02538469 -0.00606364]]], shape=(3, 5, 4), dtype=float32)\n"
     ]
    }
   ],
   "source": [
    "vocab_size = len(word_to_index)  # 위 예시에서 딕셔너리에 포함된 단어 개수는 10\n",
    "word_vector_dim = 4    # 위 그림과 같이 4차원의 워드 벡터를 가정합니다. \n",
    "\n",
    "embedding = tf.keras.layers.Embedding(input_dim=vocab_size, output_dim=word_vector_dim, mask_zero=True)\n",
    "\n",
    "encoded_sentences = get_encoded_sentences(sentences, word_to_index)\n",
    "\n",
    "# 숫자로 변환된 텍스트 데이터 [[1, 3, 4, 5], [1, 3, 6, 7], [1, 8, 3, 4, 9]] 에 Embedding 레이어를 적용합니다. \n",
    "raw_inputs = np.array(get_encoded_sentences(sentences, word_to_index), dtype='object')\n",
    "print(\"raw_data : \")\n",
    "print(raw_inputs)\n",
    "raw_inputs = tf.keras.preprocessing.sequence.pad_sequences(raw_inputs,\n",
    "                                                       value=word_to_index['<PAD>'],\n",
    "                                                       padding='post',\n",
    "                                                       maxlen=5)\n",
    "print(\"after padding : \")\n",
    "print(raw_inputs)\n",
    "output = embedding(raw_inputs)\n",
    "\n",
    "print(\"embedding : \")\n",
    "print(output)"
   ]
  },
  {
   "cell_type": "code",
   "execution_count": 5,
   "id": "a6c58e49-571a-4748-82eb-f6b41d82d417",
   "metadata": {},
   "outputs": [
    {
     "name": "stdout",
     "output_type": "stream",
     "text": [
      "훈련 샘플 개수: 25000, 테스트 개수: 25000\n"
     ]
    }
   ],
   "source": [
    "imdb = tf.keras.datasets.imdb\n",
    "\n",
    "# IMDb 데이터셋 다운로드 \n",
    "(x_train, y_train), (x_test, y_test) = imdb.load_data(num_words=10000)\n",
    "print(\"훈련 샘플 개수: {}, 테스트 개수: {}\".format(len(x_train), len(x_test)))"
   ]
  },
  {
   "cell_type": "code",
   "execution_count": 6,
   "id": "df1bdc6e-d674-430f-9aad-147b020b49ff",
   "metadata": {},
   "outputs": [
    {
     "name": "stdout",
     "output_type": "stream",
     "text": [
      "Review sample :  [1, 14, 22, 16, 43, 530, 973, 1622, 1385, 65, 458, 4468, 66, 3941, 4, 173, 36, 256, 5, 25, 100, 43, 838, 112, 50, 670, 2, 9, 35, 480, 284, 5, 150, 4, 172, 112, 167, 2, 336, 385, 39, 4, 172, 4536, 1111, 17, 546, 38, 13, 447, 4, 192, 50, 16, 6, 147, 2025, 19, 14, 22, 4, 1920, 4613, 469, 4, 22, 71, 87, 12, 16, 43, 530, 38, 76, 15, 13, 1247, 4, 22, 17, 515, 17, 12, 16, 626, 18, 2, 5, 62, 386, 12, 8, 316, 8, 106, 5, 4, 2223, 5244, 16, 480, 66, 3785, 33, 4, 130, 12, 16, 38, 619, 5, 25, 124, 51, 36, 135, 48, 25, 1415, 33, 6, 22, 12, 215, 28, 77, 52, 5, 14, 407, 16, 82, 2, 8, 4, 107, 117, 5952, 15, 256, 4, 2, 7, 3766, 5, 723, 36, 71, 43, 530, 476, 26, 400, 317, 46, 7, 4, 2, 1029, 13, 104, 88, 4, 381, 15, 297, 98, 32, 2071, 56, 26, 141, 6, 194, 7486, 18, 4, 226, 22, 21, 134, 476, 26, 480, 5, 144, 30, 5535, 18, 51, 36, 28, 224, 92, 25, 104, 4, 226, 65, 16, 38, 1334, 88, 12, 16, 283, 5, 16, 4472, 113, 103, 32, 15, 16, 5345, 19, 178, 32]\n",
      "라벨:  1\n",
      "1번째 리뷰 문장 길이:  218\n",
      "2번째 리뷰 문장 길이:  189\n"
     ]
    }
   ],
   "source": [
    "print(\"Review sample : \", x_train[0])  # 1번째 리뷰데이터\n",
    "print('라벨: ', y_train[0])  # 1번째 리뷰데이터의 라벨\n",
    "print('1번째 리뷰 문장 길이: ', len(x_train[0]))\n",
    "print('2번째 리뷰 문장 길이: ', len(x_train[1]))"
   ]
  },
  {
   "cell_type": "code",
   "execution_count": 7,
   "id": "704c7506-77af-40f7-be2f-3f5bbed924d4",
   "metadata": {},
   "outputs": [
    {
     "name": "stdout",
     "output_type": "stream",
     "text": [
      "the\n",
      "1\n"
     ]
    }
   ],
   "source": [
    "word_to_index = imdb.get_word_index()\n",
    "index_to_word = {index:word for word, index in word_to_index.items()}\n",
    "print(index_to_word[1])     # 'the' 가 출력됩니다. \n",
    "print(word_to_index['the'])  # 1 이 출력됩니다."
   ]
  },
  {
   "cell_type": "code",
   "execution_count": 8,
   "id": "6752d56c-ce21-404e-90fc-1d4cb88e0d2b",
   "metadata": {},
   "outputs": [
    {
     "name": "stdout",
     "output_type": "stream",
     "text": [
      "law sample : \n",
      "[1, 14, 22, 16, 43, 530, 973, 1622, 1385, 65, 458, 4468, 66, 3941, 4, 173, 36, 256, 5, 25, 100, 43, 838, 112, 50, 670, 2, 9, 35, 480, 284, 5, 150, 4, 172, 112, 167, 2, 336, 385, 39, 4, 172, 4536, 1111, 17, 546, 38, 13, 447, 4, 192, 50, 16, 6, 147, 2025, 19, 14, 22, 4, 1920, 4613, 469, 4, 22, 71, 87, 12, 16, 43, 530, 38, 76, 15, 13, 1247, 4, 22, 17, 515, 17, 12, 16, 626, 18, 2, 5, 62, 386, 12, 8, 316, 8, 106, 5, 4, 2223, 5244, 16, 480, 66, 3785, 33, 4, 130, 12, 16, 38, 619, 5, 25, 124, 51, 36, 135, 48, 25, 1415, 33, 6, 22, 12, 215, 28, 77, 52, 5, 14, 407, 16, 82, 2, 8, 4, 107, 117, 5952, 15, 256, 4, 2, 7, 3766, 5, 723, 36, 71, 43, 530, 476, 26, 400, 317, 46, 7, 4, 2, 1029, 13, 104, 88, 4, 381, 15, 297, 98, 32, 2071, 56, 26, 141, 6, 194, 7486, 18, 4, 226, 22, 21, 134, 476, 26, 480, 5, 144, 30, 5535, 18, 51, 36, 28, 224, 92, 25, 104, 4, 226, 65, 16, 38, 1334, 88, 12, 16, 283, 5, 16, 4472, 113, 103, 32, 15, 16, 5345, 19, 178, 32]\n",
      "decoded sample : \n",
      "this film was just brilliant casting location scenery story direction everyone's really suited the part they played and you could just imagine being there robert <UNK> is an amazing actor and now the same being director <UNK> father came from the same scottish island as myself so i loved the fact there was a real connection with this film the witty remarks throughout the film were great it was just brilliant so much that i bought the film as soon as it was released for <UNK> and would recommend it to everyone to watch and the fly fishing was amazing really cried at the end it was so sad and you know what they say if you cry at a film it must have been good and this definitely was also <UNK> to the two little boy's that played the <UNK> of norman and paul they were just brilliant children are often left out of the <UNK> list i think because the stars that play them all grown up are such a big profile for the whole film but these children are amazing and should be praised for what they have done don't you think the whole story was so lovely because it was true and was someone's life after all that was shared with us all\n",
      "라벨:  1\n"
     ]
    }
   ],
   "source": [
    "#실제 인코딩 인덱스는 제공된 word_to_index에서 index 기준으로 3씩 뒤로 밀려 있습니다.  \n",
    "word_to_index = {k:(v+3) for k,v in word_to_index.items()}\n",
    "\n",
    "# 처음 몇 개 인덱스는 사전에 정의되어 있습니다.\n",
    "word_to_index[\"<PAD>\"] = 0\n",
    "word_to_index[\"<BOS>\"] = 1\n",
    "word_to_index[\"<UNK>\"] = 2  # unknown\n",
    "word_to_index[\"<UNUSED>\"] = 3\n",
    "\n",
    "index_to_word = {index:word for word, index in word_to_index.items()}\n",
    "\n",
    "print(\"law sample : \")\n",
    "print(x_train[0])\n",
    "print(\"decoded sample : \")\n",
    "print(get_decoded_sentence(x_train[0], index_to_word))\n",
    "\n",
    "print('라벨: ', y_train[0])  # 1번째 리뷰데이터의 라벨"
   ]
  },
  {
   "cell_type": "code",
   "execution_count": null,
   "id": "c1686d96-c7c9-4d7e-95ae-3bbe1fed07db",
   "metadata": {},
   "outputs": [],
   "source": []
  },
  {
   "cell_type": "code",
   "execution_count": 9,
   "id": "cae81838-5027-4559-8366-ea33cb621dba",
   "metadata": {},
   "outputs": [
    {
     "name": "stdout",
     "output_type": "stream",
     "text": [
      "문장길이 평균 :  234.75892\n",
      "문장길이 최대 :  2494\n",
      "문장길이 표준편차 :  172.91149458735703\n",
      "pad_sequences maxlen :  580\n",
      "전체 문장의 94.536%가 maxlen 설정값 이내에 포함됩니다. \n"
     ]
    }
   ],
   "source": [
    "total_data_text = list(x_train) + list(x_test)\n",
    "# 텍스트데이터 문장길이의 리스트를 생성한 후\n",
    "num_tokens = [len(tokens) for tokens in total_data_text]\n",
    "num_tokens = np.array(num_tokens)\n",
    "# 문장길이의 평균값, 최대값, 표준편차를 계산해 본다. \n",
    "print('문장길이 평균 : ', np.mean(num_tokens))\n",
    "print('문장길이 최대 : ', np.max(num_tokens))\n",
    "print('문장길이 표준편차 : ', np.std(num_tokens))\n",
    "\n",
    "# 예를들어, 최대 길이를 (평균 + 2*표준편차)로 한다면,  \n",
    "max_tokens = np.mean(num_tokens) + 2 * np.std(num_tokens)\n",
    "maxlen = int(max_tokens)\n",
    "print('pad_sequences maxlen : ', maxlen)\n",
    "print('전체 문장의 {}%가 maxlen 설정값 이내에 포함됩니다. '.format(np.sum(num_tokens < max_tokens) / len(num_tokens) * 100))"
   ]
  },
  {
   "cell_type": "code",
   "execution_count": 10,
   "id": "c8231ffd-91ec-48b0-bd12-6c8a53bdbd83",
   "metadata": {},
   "outputs": [
    {
     "name": "stdout",
     "output_type": "stream",
     "text": [
      "(25000, 580)\n"
     ]
    }
   ],
   "source": [
    "x_train = tf.keras.preprocessing.sequence.pad_sequences(x_train,\n",
    "                                                        value=word_to_index[\"<PAD>\"],\n",
    "                                                        padding='post', # 혹은 'pre'\n",
    "                                                        maxlen=maxlen)\n",
    "\n",
    "x_test = tf.keras.preprocessing.sequence.pad_sequences(x_test,\n",
    "                                                       value=word_to_index[\"<PAD>\"],\n",
    "                                                       padding='post', # 혹은 'pre'\n",
    "                                                       maxlen=maxlen)\n",
    "\n",
    "print(x_train.shape)"
   ]
  },
  {
   "cell_type": "code",
   "execution_count": 11,
   "id": "de111d9d-7fce-456f-9d5a-ffc59752f9ed",
   "metadata": {},
   "outputs": [
    {
     "name": "stdout",
     "output_type": "stream",
     "text": [
      "(15000, 580)\n",
      "(15000,)\n"
     ]
    }
   ],
   "source": [
    "# validation set 10000건 분리\n",
    "x_val = x_train[:10000]   \n",
    "y_val = y_train[:10000]\n",
    "\n",
    "# validation set을 제외한 나머지 15000건\n",
    "partial_x_train = x_train[10000:]  \n",
    "partial_y_train = y_train[10000:]\n",
    "\n",
    "print(partial_x_train.shape)\n",
    "print(partial_y_train.shape)"
   ]
  },
  {
   "cell_type": "code",
   "execution_count": 12,
   "id": "4084816b-96a2-4b3f-8266-eb417818107d",
   "metadata": {},
   "outputs": [
    {
     "name": "stdout",
     "output_type": "stream",
     "text": [
      "Model: \"GAP\"\n",
      "_________________________________________________________________\n",
      " Layer (type)                Output Shape              Param #   \n",
      "=================================================================\n",
      " EMB (Embedding)             (None, 580, 100)          1000000   \n",
      "                                                                 \n",
      " GAP1d (GlobalAveragePooling  (None, 100)              0         \n",
      " 1D)                                                             \n",
      "                                                                 \n",
      " Classification (Dense)      (None, 1)                 101       \n",
      "                                                                 \n",
      "=================================================================\n",
      "Total params: 1,000,101\n",
      "Trainable params: 1,000,101\n",
      "Non-trainable params: 0\n",
      "_________________________________________________________________\n"
     ]
    }
   ],
   "source": [
    "vocab_size = 10000    # 어휘 사전의 크기입니다(10,000개의 단어)\n",
    "word_vector_dim = 100  # 워드 벡터의 차원 수 (변경 가능한 하이퍼파라미터)\n",
    "\n",
    "# model 설계 - 딥러닝 모델 코드를 직접 작성해 주세요.\n",
    "model = tf.keras.Sequential(name=\"GAP\")\n",
    "model.add(tf.keras.layers.Input(shape=maxlen, name=\"Input\"))\n",
    "model.add(tf.keras.layers.Embedding(input_dim=vocab_size, output_dim=word_vector_dim, mask_zero=True, name=\"EMB\"))\n",
    "model.add(tf.keras.layers.GlobalAveragePooling1D(name=\"GAP1d\"))\n",
    "model.add(tf.keras.layers.Dense(1, activation=\"sigmoid\", name=\"Classification\"))\n",
    "\n",
    "optimizer = tf.keras.optimizers.RMSprop(learning_rate=0.001)\n",
    "reduce_lr = tf.keras.callbacks.ReduceLROnPlateau(monitor=\"val_acc\",\n",
    "                                        patience=3,\n",
    "                                        factor=0.1)\n",
    "\n",
    "model.compile(optimizer=optimizer,\n",
    "              loss='binary_crossentropy',\n",
    "              metrics=['acc'])\n",
    "\n",
    "model.summary()"
   ]
  },
  {
   "cell_type": "code",
   "execution_count": 13,
   "id": "fda317ea-4677-43e8-a05e-247fa69b27c0",
   "metadata": {},
   "outputs": [
    {
     "name": "stdout",
     "output_type": "stream",
     "text": [
      "(10000, 100)\n"
     ]
    }
   ],
   "source": [
    "embedding_layer = model.layers[0]\n",
    "weights = embedding_layer.get_weights()[0]\n",
    "print(weights.shape)    # shape: (vocab_size, embedding_dim)"
   ]
  },
  {
   "cell_type": "code",
   "execution_count": 14,
   "id": "755fa1b2-970e-4d80-b747-759d167aa33d",
   "metadata": {},
   "outputs": [
    {
     "data": {
      "text/plain": [
       "(array([[   1,   13,  104, ...,    0,    0,    0],\n",
       "        [   1,   14,   20, ...,    0,    0,    0],\n",
       "        [   1,   86,  125, ...,    0,    0,    0],\n",
       "        ...,\n",
       "        [   1,   11,    6, ...,    0,    0,    0],\n",
       "        [   1, 1446, 7079, ...,    0,    0,    0],\n",
       "        [   1,   17,    6, ...,    0,    0,    0]], dtype=int32),\n",
       " array([0, 0, 0, ..., 0, 1, 0]))"
      ]
     },
     "execution_count": 14,
     "metadata": {},
     "output_type": "execute_result"
    }
   ],
   "source": [
    "partial_x_train, partial_y_train"
   ]
  },
  {
   "cell_type": "code",
   "execution_count": 15,
   "id": "c1120333-295b-4a7a-b981-3bb4d0950ed5",
   "metadata": {},
   "outputs": [
    {
     "name": "stdout",
     "output_type": "stream",
     "text": [
      "Epoch 1/20\n",
      "30/30 - 2s - loss: 0.6808 - acc: 0.7083 - val_loss: 0.6694 - val_acc: 0.7543 - lr: 0.0010 - 2s/epoch - 62ms/step\n",
      "Epoch 2/20\n",
      "30/30 - 0s - loss: 0.6555 - acc: 0.7689 - val_loss: 0.6455 - val_acc: 0.7679 - lr: 0.0010 - 387ms/epoch - 13ms/step\n",
      "Epoch 3/20\n",
      "30/30 - 0s - loss: 0.6282 - acc: 0.7865 - val_loss: 0.6190 - val_acc: 0.7801 - lr: 0.0010 - 389ms/epoch - 13ms/step\n",
      "Epoch 4/20\n",
      "30/30 - 0s - loss: 0.5987 - acc: 0.7965 - val_loss: 0.5919 - val_acc: 0.7932 - lr: 0.0010 - 380ms/epoch - 13ms/step\n",
      "Epoch 5/20\n",
      "30/30 - 0s - loss: 0.5686 - acc: 0.8107 - val_loss: 0.5642 - val_acc: 0.8024 - lr: 0.0010 - 393ms/epoch - 13ms/step\n",
      "Epoch 6/20\n",
      "30/30 - 0s - loss: 0.5383 - acc: 0.8267 - val_loss: 0.5372 - val_acc: 0.8119 - lr: 0.0010 - 375ms/epoch - 13ms/step\n",
      "Epoch 7/20\n",
      "30/30 - 0s - loss: 0.5090 - acc: 0.8363 - val_loss: 0.5104 - val_acc: 0.8182 - lr: 0.0010 - 390ms/epoch - 13ms/step\n",
      "Epoch 8/20\n",
      "30/30 - 0s - loss: 0.4806 - acc: 0.8463 - val_loss: 0.4856 - val_acc: 0.8318 - lr: 0.0010 - 389ms/epoch - 13ms/step\n",
      "Epoch 9/20\n",
      "30/30 - 0s - loss: 0.4537 - acc: 0.8559 - val_loss: 0.4620 - val_acc: 0.8361 - lr: 0.0010 - 393ms/epoch - 13ms/step\n",
      "Epoch 10/20\n",
      "30/30 - 0s - loss: 0.4287 - acc: 0.8640 - val_loss: 0.4404 - val_acc: 0.8450 - lr: 0.0010 - 400ms/epoch - 13ms/step\n",
      "Epoch 11/20\n",
      "30/30 - 0s - loss: 0.4055 - acc: 0.8715 - val_loss: 0.4207 - val_acc: 0.8483 - lr: 0.0010 - 388ms/epoch - 13ms/step\n",
      "Epoch 12/20\n",
      "30/30 - 0s - loss: 0.3843 - acc: 0.8761 - val_loss: 0.4029 - val_acc: 0.8531 - lr: 0.0010 - 400ms/epoch - 13ms/step\n",
      "Epoch 13/20\n",
      "30/30 - 0s - loss: 0.3649 - acc: 0.8809 - val_loss: 0.3871 - val_acc: 0.8578 - lr: 0.0010 - 388ms/epoch - 13ms/step\n",
      "Epoch 14/20\n",
      "30/30 - 0s - loss: 0.3471 - acc: 0.8855 - val_loss: 0.3726 - val_acc: 0.8626 - lr: 0.0010 - 381ms/epoch - 13ms/step\n",
      "Epoch 15/20\n",
      "30/30 - 0s - loss: 0.3309 - acc: 0.8897 - val_loss: 0.3599 - val_acc: 0.8648 - lr: 0.0010 - 387ms/epoch - 13ms/step\n",
      "Epoch 16/20\n",
      "30/30 - 0s - loss: 0.3161 - acc: 0.8927 - val_loss: 0.3485 - val_acc: 0.8687 - lr: 0.0010 - 379ms/epoch - 13ms/step\n",
      "Epoch 17/20\n",
      "30/30 - 0s - loss: 0.3025 - acc: 0.8963 - val_loss: 0.3384 - val_acc: 0.8715 - lr: 0.0010 - 396ms/epoch - 13ms/step\n",
      "Epoch 18/20\n",
      "30/30 - 0s - loss: 0.2899 - acc: 0.9000 - val_loss: 0.3295 - val_acc: 0.8736 - lr: 0.0010 - 393ms/epoch - 13ms/step\n",
      "Epoch 19/20\n",
      "30/30 - 0s - loss: 0.2784 - acc: 0.9029 - val_loss: 0.3212 - val_acc: 0.8771 - lr: 0.0010 - 393ms/epoch - 13ms/step\n",
      "Epoch 20/20\n",
      "30/30 - 0s - loss: 0.2678 - acc: 0.9066 - val_loss: 0.3141 - val_acc: 0.8796 - lr: 0.0010 - 395ms/epoch - 13ms/step\n"
     ]
    }
   ],
   "source": [
    "epochs=20 \n",
    "\n",
    "history_gap = model.fit(partial_x_train,\n",
    "                    partial_y_train,\n",
    "                    epochs=epochs,\n",
    "                    batch_size=512,\n",
    "                    validation_data=(x_val, y_val),\n",
    "                    callbacks=[reduce_lr],\n",
    "                    verbose=2)"
   ]
  },
  {
   "cell_type": "code",
   "execution_count": null,
   "id": "d4e7e553-4eb2-4c05-909e-41f0fd855a23",
   "metadata": {},
   "outputs": [],
   "source": [
    "results = model.evaluate(x_test,  y_test, verbose=2)\n",
    "print(results)"
   ]
  },
  {
   "cell_type": "code",
   "execution_count": null,
   "id": "1b4aee55-c8c6-497e-ae6f-0c7e4437f86e",
   "metadata": {},
   "outputs": [],
   "source": [
    "import matplotlib.pyplot as plt\n",
    "import seaborn as sns\n",
    "def show_lcurve(hists, titles, colors=[\"r\",\"g\",\"b\",\"k\"], size=(12,4), x_itv=1, lw=1):\n",
    "    plt.figure(figsize=size)\n",
    "    # loss \n",
    "    plt.subplot(121)\n",
    "    for i, hist in enumerate(hists):\n",
    "        loss = hist.history['loss']\n",
    "        val_loss = hist.history['val_loss']\n",
    "        epochs = range(1, 1+len(loss))\n",
    "        xbins = range(0, len(loss)+1, x_itv)\n",
    "        plt.plot(epochs, loss, lw=lw,linestyle=':', label=f'{titles[i]} train loss', c=colors[i])\n",
    "        plt.plot(epochs, val_loss, lw=lw,marker='.', label=f'{titles[i]} valid loss', c=colors[i])\n",
    "        plt.legend();plt.grid(True);plt.xticks(xbins)\n",
    "        plt.xlabel('Epochs');plt.ylabel('Loss')\n",
    "        x, y = epochs[-1], hist.history['loss'][-1]\n",
    "        plt.text(x, y, np.round(y,2), c=colors[i])\n",
    "        x, y = epochs[-1], hist.history['val_loss'][-1]\n",
    "        plt.text(x, y, np.round(y,2), c=colors[i])\n",
    "    \n",
    "    # acc\n",
    "    plt.subplot(122)\n",
    "    for i, hist in enumerate(hists):\n",
    "        acc = hist.history['acc']\n",
    "        val_acc = hist.history['val_acc']\n",
    "        plt.plot(epochs, acc, linestyle=':', lw=lw,label=f'{titles[i]} train acc', c=colors[i])\n",
    "        plt.plot(epochs, val_acc, marker='.', lw=lw,label=f'{titles[i]} valid acc', c=colors[i])\n",
    "        plt.legend();plt.grid(True);plt.xticks(xbins)\n",
    "        plt.xlabel('Epochs');plt.ylabel('Acc')\n",
    "        x, y = epochs[-1], hist.history['acc'][-1]\n",
    "        plt.text(x, y, np.round(y,2), c=colors[i])\n",
    "        x, y = epochs[-1], hist.history['val_acc'][-1]\n",
    "        plt.text(x, y, np.round(y,2), c=colors[i])\n",
    "    plt.show()"
   ]
  },
  {
   "cell_type": "code",
   "execution_count": null,
   "id": "c29a3834-014a-4dd3-b669-f63136429b66",
   "metadata": {},
   "outputs": [],
   "source": [
    "show_lcurve([history_gap], [\"gap\"], [\"r\"])"
   ]
  },
  {
   "cell_type": "markdown",
   "id": "7604493e-f6f0-4897-9c61-960ef73add45",
   "metadata": {},
   "source": [
    "# 2. Word2Vec"
   ]
  },
  {
   "cell_type": "markdown",
   "id": "ea784ffa-1e36-475f-baff-9a88c4c32a2b",
   "metadata": {},
   "source": [
    "## 기존에 학습했던 embedding 파라미터를 Word2Vec"
   ]
  },
  {
   "cell_type": "code",
   "execution_count": 18,
   "id": "d49fdc18-02bd-4037-8484-6dba97650c8c",
   "metadata": {},
   "outputs": [],
   "source": [
    "# 학습한 Embedding 파라미터를 파일에 써서 저장합니다. \n",
    "word2vec_file_path = '../data/ex8/word2vec.txt'\n",
    "f = open(word2vec_file_path, 'w')\n",
    "f.write('{} {}\\n'.format(vocab_size-4, word_vector_dim))  # 몇개의 벡터를 얼마 사이즈로 기재할지 타이틀을 씁니다.\n",
    "\n",
    "# 단어 개수(에서 특수문자 4개는 제외하고)만큼의 워드 벡터를 파일에 기록합니다. \n",
    "vectors = model.get_weights()[0]\n",
    "for i in range(4,vocab_size):\n",
    "    f.write('{} {}\\n'.format(index_to_word[i], ' '.join(map(str, list(vectors[i, :])))))\n",
    "f.close()"
   ]
  },
  {
   "cell_type": "code",
   "execution_count": 19,
   "id": "795a0501-f263-4f3c-a722-e33ba26a8293",
   "metadata": {},
   "outputs": [
    {
     "name": "stdout",
     "output_type": "stream",
     "text": [
      "vector shape :  (100,)\n",
      "[ 0.06729073  0.02408931 -0.0672268   0.10377169 -0.10132787  0.06787209\n",
      " -0.06122455 -0.0839781  -0.10017835  0.06628327  0.03583663  0.06026181\n",
      "  0.10059302  0.09976155 -0.03917942 -0.12243404 -0.07490356 -0.05160596\n",
      " -0.10415906 -0.0630994  -0.08078202 -0.12226749  0.05635112  0.08084074\n",
      "  0.08825096  0.06646771 -0.10017493 -0.05706469 -0.06161306 -0.06605622\n",
      " -0.07317947 -0.08012437 -0.07688508  0.08369046  0.11883654  0.04964365\n",
      "  0.04041789 -0.10597809 -0.06153584 -0.07112886 -0.09631634 -0.11245434\n",
      " -0.11811869 -0.02676919  0.07929283 -0.11214355  0.02770824  0.06723518\n",
      "  0.05306452  0.09117542  0.04093561  0.07371701  0.12223455  0.0767356\n",
      " -0.07542486 -0.09309336  0.08500847  0.050916   -0.12082166 -0.05768143\n",
      " -0.12013353 -0.10853477 -0.11601014 -0.07434734 -0.06559448  0.0392463\n",
      " -0.10933106 -0.12070314 -0.04016656 -0.03608408 -0.10799761  0.1172678\n",
      "  0.05763476  0.10253216 -0.05188313 -0.0722108   0.10561933  0.05605313\n",
      " -0.03201813 -0.0474074  -0.10391162  0.04219118  0.09861062  0.05457452\n",
      "  0.09707239 -0.11721586  0.06669239 -0.10939166  0.06298695  0.03299514\n",
      "  0.07883297 -0.03111809 -0.05695726 -0.11009058  0.05222697  0.07719289\n",
      "  0.02445056  0.11957678 -0.06465808  0.10197807]\n"
     ]
    }
   ],
   "source": [
    "from gensim.models.keyedvectors import Word2VecKeyedVectors\n",
    "\n",
    "word_vectors = Word2VecKeyedVectors.load_word2vec_format(word2vec_file_path, binary=False)\n",
    "vector = word_vectors['computer']\n",
    "print(\"vector shape : \", vector.shape)\n",
    "print(vector)"
   ]
  },
  {
   "cell_type": "code",
   "execution_count": 20,
   "id": "23e092c6-4832-4410-a72b-0cfad42ef192",
   "metadata": {},
   "outputs": [
    {
     "data": {
      "text/plain": [
       "[('8', 0.9969772696495056),\n",
       " ('amazing', 0.9966987371444702),\n",
       " ('fantastic', 0.9965243339538574),\n",
       " ('great', 0.9964374303817749),\n",
       " ('incredible', 0.9964191913604736),\n",
       " ('wonderful', 0.9963559508323669),\n",
       " ('definitely', 0.9963542819023132),\n",
       " ('hilarious', 0.996330201625824),\n",
       " ('7', 0.9962878227233887),\n",
       " ('powerful', 0.996279776096344)]"
      ]
     },
     "execution_count": 20,
     "metadata": {},
     "output_type": "execute_result"
    }
   ],
   "source": [
    "word_vectors.similar_by_word(\"love\")"
   ]
  },
  {
   "cell_type": "markdown",
   "id": "ffff3a43-d490-45a4-b0e7-6556ae5d1152",
   "metadata": {},
   "source": [
    "## 구글의 뉴스 데이터로 학습된 Word2Vec을 다시 임베딩에 넣기"
   ]
  },
  {
   "cell_type": "code",
   "execution_count": 21,
   "id": "e0bc0779-6ec4-4ea3-850e-37f50fe8b4bc",
   "metadata": {},
   "outputs": [
    {
     "name": "stdout",
     "output_type": "stream",
     "text": [
      "vector shape :  (300,)\n",
      "[ 1.07421875e-01 -2.01171875e-01  1.23046875e-01  2.11914062e-01\n",
      " -9.13085938e-02  2.16796875e-01 -1.31835938e-01  8.30078125e-02\n",
      "  2.02148438e-01  4.78515625e-02  3.66210938e-02 -2.45361328e-02\n",
      "  2.39257812e-02 -1.60156250e-01 -2.61230469e-02  9.71679688e-02\n",
      " -6.34765625e-02  1.84570312e-01  1.70898438e-01 -1.63085938e-01\n",
      " -1.09375000e-01  1.49414062e-01 -4.65393066e-04  9.61914062e-02\n",
      "  1.68945312e-01  2.60925293e-03  8.93554688e-02  6.49414062e-02\n",
      "  3.56445312e-02 -6.93359375e-02 -1.46484375e-01 -1.21093750e-01\n",
      " -2.27539062e-01  2.45361328e-02 -1.24511719e-01 -3.18359375e-01\n",
      " -2.20703125e-01  1.30859375e-01  3.66210938e-02 -3.63769531e-02\n",
      " -1.13281250e-01  1.95312500e-01  9.76562500e-02  1.26953125e-01\n",
      "  6.59179688e-02  6.93359375e-02  1.02539062e-02  1.75781250e-01\n",
      " -1.68945312e-01  1.21307373e-03 -2.98828125e-01 -1.15234375e-01\n",
      "  5.66406250e-02 -1.77734375e-01 -2.08984375e-01  1.76757812e-01\n",
      "  2.38037109e-02 -2.57812500e-01 -4.46777344e-02  1.88476562e-01\n",
      "  5.51757812e-02  5.02929688e-02 -1.06933594e-01  1.89453125e-01\n",
      " -1.16210938e-01  8.49609375e-02 -1.71875000e-01  2.45117188e-01\n",
      " -1.73828125e-01 -8.30078125e-03  4.56542969e-02 -1.61132812e-02\n",
      "  1.86523438e-01 -6.05468750e-02 -4.17480469e-02  1.82617188e-01\n",
      "  2.20703125e-01 -1.22558594e-01 -2.55126953e-02 -3.08593750e-01\n",
      "  9.13085938e-02  1.60156250e-01  1.70898438e-01  1.19628906e-01\n",
      "  7.08007812e-02 -2.64892578e-02 -3.08837891e-02  4.06250000e-01\n",
      " -1.01562500e-01  5.71289062e-02 -7.26318359e-03 -9.17968750e-02\n",
      " -1.50390625e-01 -2.55859375e-01  2.16796875e-01 -3.63769531e-02\n",
      "  2.24609375e-01  8.00781250e-02  1.56250000e-01  5.27343750e-02\n",
      "  1.50390625e-01 -1.14746094e-01 -8.64257812e-02  1.19140625e-01\n",
      " -7.17773438e-02  2.73437500e-01 -1.64062500e-01  7.29370117e-03\n",
      "  4.21875000e-01 -1.12792969e-01 -1.35742188e-01 -1.31835938e-01\n",
      " -1.37695312e-01 -7.66601562e-02  6.25000000e-02  4.98046875e-02\n",
      " -1.91406250e-01 -6.03027344e-02  2.27539062e-01  5.88378906e-02\n",
      " -3.24218750e-01  5.41992188e-02 -1.35742188e-01  8.17871094e-03\n",
      " -5.24902344e-02 -1.74713135e-03 -9.81445312e-02 -2.86865234e-02\n",
      "  3.61328125e-02  2.15820312e-01  5.98144531e-02 -3.08593750e-01\n",
      " -2.27539062e-01  2.61718750e-01  9.86328125e-02 -5.07812500e-02\n",
      "  1.78222656e-02  1.31835938e-01 -5.35156250e-01 -1.81640625e-01\n",
      "  1.38671875e-01 -3.10546875e-01 -9.71679688e-02  1.31835938e-01\n",
      " -1.16210938e-01  7.03125000e-02  2.85156250e-01  3.51562500e-02\n",
      " -1.01562500e-01 -3.75976562e-02  1.41601562e-01  1.42578125e-01\n",
      " -5.68847656e-02  2.65625000e-01 -2.09960938e-01  9.64355469e-03\n",
      " -6.68945312e-02 -4.83398438e-02 -6.10351562e-02  2.45117188e-01\n",
      " -9.66796875e-02  1.78222656e-02 -1.27929688e-01 -4.78515625e-02\n",
      " -7.26318359e-03  1.79687500e-01  2.78320312e-02 -2.10937500e-01\n",
      " -1.43554688e-01 -1.27929688e-01  1.73339844e-02 -3.60107422e-03\n",
      " -2.04101562e-01  3.63159180e-03 -1.19628906e-01 -6.15234375e-02\n",
      "  5.93261719e-02 -3.23486328e-03 -1.70898438e-01 -3.14941406e-02\n",
      " -8.88671875e-02 -2.89062500e-01  3.44238281e-02 -1.87500000e-01\n",
      "  2.94921875e-01  1.58203125e-01 -1.19628906e-01  7.61718750e-02\n",
      "  6.39648438e-02 -4.68750000e-02 -6.83593750e-02  1.21459961e-02\n",
      " -1.44531250e-01  4.54101562e-02  3.68652344e-02  3.88671875e-01\n",
      "  1.45507812e-01 -2.55859375e-01 -4.46777344e-02 -1.33789062e-01\n",
      " -1.38671875e-01  6.59179688e-02  1.37695312e-01  1.14746094e-01\n",
      "  2.03125000e-01 -4.78515625e-02  1.80664062e-02 -8.54492188e-02\n",
      " -2.48046875e-01 -3.39843750e-01 -2.83203125e-02  1.05468750e-01\n",
      " -2.14843750e-01 -8.74023438e-02  7.12890625e-02  1.87500000e-01\n",
      " -1.12304688e-01  2.73437500e-01 -3.26171875e-01 -1.77734375e-01\n",
      " -4.24804688e-02 -2.69531250e-01  6.64062500e-02 -6.88476562e-02\n",
      " -1.99218750e-01 -7.03125000e-02 -2.43164062e-01 -3.66210938e-02\n",
      " -7.37304688e-02 -1.77734375e-01  9.17968750e-02 -1.25000000e-01\n",
      " -1.65039062e-01 -3.57421875e-01 -2.85156250e-01 -1.66992188e-01\n",
      "  1.97265625e-01 -1.53320312e-01  2.31933594e-02  2.06054688e-01\n",
      "  1.80664062e-01 -2.74658203e-02 -1.92382812e-01 -9.61914062e-02\n",
      " -1.06811523e-02 -4.73632812e-02  6.54296875e-02 -1.25732422e-02\n",
      "  1.78222656e-02 -8.00781250e-02 -2.59765625e-01  9.37500000e-02\n",
      " -7.81250000e-02  4.68750000e-02 -2.22167969e-02  1.86767578e-02\n",
      "  3.11279297e-02  1.04980469e-02 -1.69921875e-01  2.58789062e-02\n",
      " -3.41796875e-02 -1.44042969e-02 -5.46875000e-02 -8.78906250e-02\n",
      "  1.96838379e-03  2.23632812e-01 -1.36718750e-01  1.75781250e-01\n",
      " -1.63085938e-01  1.87500000e-01  3.44238281e-02 -5.63964844e-02\n",
      " -2.27689743e-05  4.27246094e-02  5.81054688e-02 -1.07910156e-01\n",
      " -3.88183594e-02 -2.69531250e-01  3.34472656e-02  9.81445312e-02\n",
      "  5.63964844e-02  2.23632812e-01 -5.49316406e-02  1.46484375e-01\n",
      "  5.93261719e-02 -2.19726562e-01  6.39648438e-02  1.66015625e-02\n",
      "  4.56542969e-02  3.26171875e-01 -3.80859375e-01  1.70898438e-01\n",
      "  5.66406250e-02 -1.04492188e-01  1.38671875e-01 -1.57226562e-01\n",
      "  3.23486328e-03 -4.80957031e-02 -2.48046875e-01 -6.20117188e-02]\n"
     ]
    }
   ],
   "source": [
    "from gensim.models import KeyedVectors\n",
    "\n",
    "word2vec_path = '../data/ex8/GoogleNews-vectors-negative300.bin'\n",
    "word2vec = KeyedVectors.load_word2vec_format(word2vec_path, binary=True, limit=1000000)\n",
    "vector = word2vec['computer']\n",
    "print(\"vector shape : \", vector.shape)\n",
    "print(vector)"
   ]
  },
  {
   "cell_type": "code",
   "execution_count": 22,
   "id": "d927528c-5dd3-4835-adff-6776b02f5c5f",
   "metadata": {},
   "outputs": [
    {
     "data": {
      "text/plain": [
       "[('loved', 0.6907792091369629),\n",
       " ('adore', 0.6816874146461487),\n",
       " ('loves', 0.6618633270263672),\n",
       " ('passion', 0.6100709438323975),\n",
       " ('hate', 0.6003956198692322),\n",
       " ('loving', 0.5886635184288025),\n",
       " ('affection', 0.5664337873458862),\n",
       " ('undying_love', 0.5547305345535278),\n",
       " ('absolutely_adore', 0.5536840558052063),\n",
       " ('adores', 0.5440906882286072)]"
      ]
     },
     "execution_count": 22,
     "metadata": {},
     "output_type": "execute_result"
    }
   ],
   "source": [
    "word2vec.similar_by_word(\"love\")"
   ]
  },
  {
   "cell_type": "code",
   "execution_count": 23,
   "id": "1c72d171-a9c7-4463-be83-3b67242fd050",
   "metadata": {},
   "outputs": [],
   "source": [
    "vocab_size = 10000    # 어휘 사전의 크기입니다(10,000개의 단어)\n",
    "word_vector_dim = 300  # 워드 벡터의 차원수\n",
    "embedding_matrix = np.random.rand(vocab_size, word_vector_dim)\n",
    "\n",
    "# embedding_matrix에 Word2Vec 워드 벡터를 단어 하나씩마다 차례차례 카피한다.\n",
    "for i in range(4,vocab_size):\n",
    "    if index_to_word[i] in word2vec:\n",
    "        embedding_matrix[i] = word2vec[index_to_word[i]]"
   ]
  },
  {
   "cell_type": "code",
   "execution_count": 24,
   "id": "ca4e66dd-1e75-4b97-8c62-a455429c4cc3",
   "metadata": {},
   "outputs": [
    {
     "name": "stdout",
     "output_type": "stream",
     "text": [
      "Model: \"google\"\n",
      "_________________________________________________________________\n",
      " Layer (type)                Output Shape              Param #   \n",
      "=================================================================\n",
      " embedding_1 (Embedding)     (None, 580, 300)          3000000   \n",
      "                                                                 \n",
      " conv1d (Conv1D)             (None, 574, 16)           33616     \n",
      "                                                                 \n",
      " max_pooling1d (MaxPooling1D  (None, 114, 16)          0         \n",
      " )                                                               \n",
      "                                                                 \n",
      " conv1d_1 (Conv1D)           (None, 108, 16)           1808      \n",
      "                                                                 \n",
      " global_max_pooling1d (Globa  (None, 16)               0         \n",
      " lMaxPooling1D)                                                  \n",
      "                                                                 \n",
      " dense (Dense)               (None, 8)                 136       \n",
      "                                                                 \n",
      " dense_1 (Dense)             (None, 1)                 9         \n",
      "                                                                 \n",
      "=================================================================\n",
      "Total params: 3,035,569\n",
      "Trainable params: 3,035,569\n",
      "Non-trainable params: 0\n",
      "_________________________________________________________________\n"
     ]
    }
   ],
   "source": [
    "from tensorflow.keras.initializers import Constant\n",
    "\n",
    "# 모델 구성\n",
    "model = tf.keras.Sequential(name=\"google\")\n",
    "model.add(tf.keras.layers.Embedding(vocab_size, \n",
    "                                 word_vector_dim, \n",
    "                                 embeddings_initializer=Constant(embedding_matrix),  # 카피한 임베딩을 여기서 활용\n",
    "                                 input_length=maxlen, \n",
    "                                 trainable=True))   # trainable을 True로 주면 Fine-tuning\n",
    "model.add(tf.keras.layers.Conv1D(16, 7, activation='relu'))\n",
    "model.add(tf.keras.layers.MaxPooling1D(5))\n",
    "model.add(tf.keras.layers.Conv1D(16, 7, activation='relu'))\n",
    "model.add(tf.keras.layers.GlobalMaxPooling1D())\n",
    "model.add(tf.keras.layers.Dense(8, activation='relu'))\n",
    "model.add(tf.keras.layers.Dense(1, activation='sigmoid')) \n",
    "\n",
    "model.summary()"
   ]
  },
  {
   "cell_type": "code",
   "execution_count": 25,
   "id": "e89031e2-3b90-4c6a-b716-563c2fa5a987",
   "metadata": {},
   "outputs": [
    {
     "name": "stdout",
     "output_type": "stream",
     "text": [
      "Epoch 1/20\n",
      "30/30 - 33s - loss: 0.6974 - acc: 0.5374 - val_loss: 0.6812 - val_acc: 0.5664 - lr: 0.0010 - 33s/epoch - 1s/step\n",
      "Epoch 2/20\n",
      "30/30 - 32s - loss: 0.6633 - acc: 0.6058 - val_loss: 0.6910 - val_acc: 0.5378 - lr: 0.0010 - 32s/epoch - 1s/step\n",
      "Epoch 3/20\n",
      "30/30 - 32s - loss: 0.6099 - acc: 0.6805 - val_loss: 0.5660 - val_acc: 0.7482 - lr: 0.0010 - 32s/epoch - 1s/step\n",
      "Epoch 4/20\n",
      "30/30 - 32s - loss: 0.5138 - acc: 0.7684 - val_loss: 0.4636 - val_acc: 0.8111 - lr: 0.0010 - 32s/epoch - 1s/step\n",
      "Epoch 5/20\n",
      "30/30 - 32s - loss: 0.4292 - acc: 0.8165 - val_loss: 0.4556 - val_acc: 0.7840 - lr: 0.0010 - 32s/epoch - 1s/step\n",
      "Epoch 6/20\n",
      "30/30 - 32s - loss: 0.3699 - acc: 0.8410 - val_loss: 0.3770 - val_acc: 0.8392 - lr: 0.0010 - 32s/epoch - 1s/step\n",
      "Epoch 7/20\n",
      "30/30 - 32s - loss: 0.3309 - acc: 0.8612 - val_loss: 0.3489 - val_acc: 0.8525 - lr: 0.0010 - 32s/epoch - 1s/step\n",
      "Epoch 8/20\n",
      "30/30 - 32s - loss: 0.2857 - acc: 0.8821 - val_loss: 0.3846 - val_acc: 0.8233 - lr: 0.0010 - 32s/epoch - 1s/step\n",
      "Epoch 9/20\n",
      "30/30 - 33s - loss: 0.2574 - acc: 0.8965 - val_loss: 0.3799 - val_acc: 0.8336 - lr: 0.0010 - 33s/epoch - 1s/step\n",
      "Epoch 10/20\n",
      "30/30 - 32s - loss: 0.2317 - acc: 0.9082 - val_loss: 0.3017 - val_acc: 0.8730 - lr: 0.0010 - 32s/epoch - 1s/step\n",
      "Epoch 11/20\n",
      "30/30 - 32s - loss: 0.2077 - acc: 0.9211 - val_loss: 0.3543 - val_acc: 0.8451 - lr: 0.0010 - 32s/epoch - 1s/step\n",
      "Epoch 12/20\n",
      "30/30 - 32s - loss: 0.1923 - acc: 0.9264 - val_loss: 0.3065 - val_acc: 0.8746 - lr: 0.0010 - 32s/epoch - 1s/step\n",
      "Epoch 13/20\n",
      "30/30 - 32s - loss: 0.1694 - acc: 0.9383 - val_loss: 0.3000 - val_acc: 0.8782 - lr: 0.0010 - 32s/epoch - 1s/step\n",
      "Epoch 14/20\n",
      "30/30 - 32s - loss: 0.1504 - acc: 0.9469 - val_loss: 0.4348 - val_acc: 0.8235 - lr: 0.0010 - 32s/epoch - 1s/step\n",
      "Epoch 15/20\n",
      "30/30 - 32s - loss: 0.1365 - acc: 0.9541 - val_loss: 0.2953 - val_acc: 0.8797 - lr: 0.0010 - 32s/epoch - 1s/step\n",
      "Epoch 16/20\n",
      "30/30 - 32s - loss: 0.1279 - acc: 0.9554 - val_loss: 0.3067 - val_acc: 0.8759 - lr: 0.0010 - 32s/epoch - 1s/step\n",
      "Epoch 17/20\n",
      "30/30 - 33s - loss: 0.1181 - acc: 0.9559 - val_loss: 0.3107 - val_acc: 0.8811 - lr: 0.0010 - 33s/epoch - 1s/step\n",
      "Epoch 18/20\n",
      "30/30 - 36s - loss: 0.0874 - acc: 0.9722 - val_loss: 0.4861 - val_acc: 0.8223 - lr: 0.0010 - 36s/epoch - 1s/step\n",
      "Epoch 19/20\n",
      "30/30 - 37s - loss: 0.0876 - acc: 0.9712 - val_loss: 0.3628 - val_acc: 0.8637 - lr: 0.0010 - 37s/epoch - 1s/step\n",
      "Epoch 20/20\n",
      "30/30 - 49s - loss: 0.0768 - acc: 0.9757 - val_loss: 0.3585 - val_acc: 0.8680 - lr: 0.0010 - 49s/epoch - 2s/step\n"
     ]
    }
   ],
   "source": [
    "# 학습의 진행\n",
    "optimizer = tf.keras.optimizers.RMSprop(learning_rate=0.001)\n",
    "reduce_lr = tf.keras.callbacks.ReduceLROnPlateau(monitor=\"val_acc\",\n",
    "                                        patience=3,\n",
    "                                        factor=0.1)\n",
    "\n",
    "model.compile(optimizer=optimizer,\n",
    "              loss='binary_crossentropy',\n",
    "              metrics=['acc'])\n",
    "              \n",
    "epochs=20  # 몇 epoch를 훈련하면 좋을지 결과callbacks=서 바꾸어 봅시다. \n",
    "\n",
    "history = model.fit(partial_x_train,\n",
    "                    partial_y_train,\n",
    "                    epochs=epochs,\n",
    "                    batch_size=512,\n",
    "                    validation_data=(x_val, y_val),\n",
    "                    callbacks=[reduce_lr],\n",
    "                    verbose=2)"
   ]
  },
  {
   "cell_type": "code",
   "execution_count": 26,
   "id": "e7b86784-c181-4e19-986c-8a3d2de0cb27",
   "metadata": {},
   "outputs": [
    {
     "data": {
      "image/png": "[encoded data removed]",
      "text/plain": [
       "<Figure size 1200x400 with 2 Axes>"
      ]
     },
     "metadata": {},
     "output_type": "display_data"
    }
   ],
   "source": [
    "show_lcurve([history_gap, history], [\"my\",\"google\"], [\"r\",\"b\"])"
   ]
  },
  {
   "cell_type": "code",
   "execution_count": 27,
   "id": "42c8d102-0e1f-42ae-b873-8a8e7e323f49",
   "metadata": {},
   "outputs": [
    {
     "name": "stdout",
     "output_type": "stream",
     "text": [
      "782/782 - 8s - loss: 0.3766 - acc: 0.8597 - 8s/epoch - 10ms/step\n",
      "[0.37656739354133606, 0.8596799969673157]\n"
     ]
    }
   ],
   "source": [
    "results = model.evaluate(x_test,  y_test, verbose=2)\n",
    "print(results)"
   ]
  },
  {
   "cell_type": "code",
   "execution_count": null,
   "id": "59a9c694-74d8-49a3-b404-65362ae04ec7",
   "metadata": {},
   "outputs": [],
   "source": []
  }
 ],
 "metadata": {
  "kernelspec": {
   "display_name": "Python 3 (ipykernel)",
   "language": "python",
   "name": "python3"
  },
  "language_info": {
   "codemirror_mode": {
    "name": "ipython",
    "version": 3
   },
   "file_extension": ".py",
   "mimetype": "text/x-python",
   "name": "python",
   "nbconvert_exporter": "python",
   "pygments_lexer": "ipython3",
   "version": "3.9.16"
  }
 },
 "nbformat": 4,
 "nbformat_minor": 5
}
