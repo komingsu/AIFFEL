{
 "cells": [
  {
   "cell_type": "code",
   "execution_count": 107,
   "id": "d1f71bd0",
   "metadata": {
    "ExecuteTime": {
     "end_time": "2023-05-30T12:49:45.025644Z",
     "start_time": "2023-05-30T12:49:45.014516Z"
    }
   },
   "outputs": [],
   "source": [
    "import tarfile\n",
    "import scipy.io\n",
    "import numpy as np\n",
    "import os\n",
    "import cv2\n",
    "import shutil\n",
    "import random\n",
    "from console_progressbar import ProgressBar\n",
    "import seaborn as sns\n",
    "import time"
   ]
  },
  {
   "cell_type": "code",
   "execution_count": 125,
   "id": "a10f3f8d",
   "metadata": {
    "ExecuteTime": {
     "end_time": "2023-05-30T12:55:53.275995Z",
     "start_time": "2023-05-30T12:55:53.264623Z"
    }
   },
   "outputs": [],
   "source": [
    "def ensure_folder(folder):\n",
    "    if not os.path.exists(folder):\n",
    "        os.makedirs(folder)\n",
    "        \n",
    "def save_train_data(fnames, labels, bboxes):\n",
    "    src_folder ='C:/Users/rh987/.fastai/data/stanford-cars/cars_train/'\n",
    "    num_samples = len(fnames)\n",
    "\n",
    "    train_split = 0.8\n",
    "    num_train = int(round(num_samples * train_split))\n",
    "    train_indexes = random.sample(range(num_samples), num_train)\n",
    "\n",
    "    pb = ProgressBar(total=100, prefix='Save train data', suffix='', decimals=3, length=50, fill='=')\n",
    "\n",
    "    for i in range(num_samples):\n",
    "        fname = fnames[i]\n",
    "        print(fname)\n",
    "        label = labels[i]\n",
    "        (x1, y1, x2, y2) = bboxes[i]\n",
    "        src_path = os.path.join(src_folder, fname)\n",
    "        src_image = cv.imread(src_path)\n",
    "        height, width = src_image.shape[:2]\n",
    "        # margins of 16 pixels\n",
    "        margin = 16\n",
    "        x1 = max(0, x1 - margin)\n",
    "        y1 = max(0, y1 - margin)\n",
    "        x2 = min(x2 + margin, width)\n",
    "        y2 = min(y2 + margin, height)\n",
    "        # print(\"{} -> {}\".format(fname, label))\n",
    "        pb.print_progress_bar((i + 1) * 100 / num_samples)\n",
    "\n",
    "        if i in train_indexes:\n",
    "            dst_folder = 'D:/Dataset/dataset/DataSet/CARS/train/'\n",
    "        else:\n",
    "            dst_folder = 'D:/Dataset/dataset/DataSet/CARS/valid/'\n",
    "\n",
    "        dst_path = os.path.join(dst_folder, label)\n",
    "        if not os.path.exists(dst_path):\n",
    "            os.makedirs(dst_path)\n",
    "        dst_path = os.path.join(dst_path, fname)\n",
    "        dst_img = src_image[y1:y2, x1:x2]\n",
    "        cv2.imwrite(dst_path, dst_img)"
   ]
  },
  {
   "cell_type": "code",
   "execution_count": 126,
   "id": "c84a5920",
   "metadata": {
    "ExecuteTime": {
     "end_time": "2023-05-30T12:55:53.760606Z",
     "start_time": "2023-05-30T12:55:53.749077Z"
    }
   },
   "outputs": [],
   "source": [
    "def save_test_data(fnames, bboxes):\n",
    "    src_folder = 'C:/Users/rh987/.fastai/data/stanford-cars/cars_test/'\n",
    "    dst_folder = 'D:/Dataset/dataset/DataSet/CARS/test/'\n",
    "    num_samples = len(fnames)\n",
    "\n",
    "    pb = ProgressBar(total=100, prefix='Save test data', suffix='', decimals=3, length=50, fill='=')\n",
    "\n",
    "    for i in range(num_samples):\n",
    "        fname = fnames[i]\n",
    "        print(fname)\n",
    "        (x1, y1, x2, y2) = bboxes[i]\n",
    "        src_path = os.path.join(src_folder, fname)\n",
    "        src_image = cv.imread(src_path)\n",
    "        height, width = src_image.shape[:2]\n",
    "        # margins of 16 pixels\n",
    "        margin = 16\n",
    "        x1 = max(0, x1 - margin)\n",
    "        y1 = max(0, y1 - margin)\n",
    "        x2 = min(x2 + margin, width)\n",
    "        y2 = min(y2 + margin, height)\n",
    "        # print(fname)\n",
    "        pb.print_progress_bar((i + 1) * 100 / num_samples)\n",
    "\n",
    "        dst_path = os.path.join(dst_folder, fname)\n",
    "        dst_img = src_image[y1:y2, x1:x2]\n",
    "        cv.imwrite(dst_path, dst_img)"
   ]
  },
  {
   "cell_type": "code",
   "execution_count": 127,
   "id": "d93c01bb",
   "metadata": {
    "ExecuteTime": {
     "end_time": "2023-05-30T12:55:54.058297Z",
     "start_time": "2023-05-30T12:55:54.041713Z"
    }
   },
   "outputs": [],
   "source": [
    "def process_train_data():\n",
    "    print(\"Processing train data...\")\n",
    "    cars_annos = scipy.io.loadmat('C:/Users/rh987/.fastai/data/stanford-cars/cars_annos.mat')\n",
    "    annotations = cars_annos['annotations'][0]\n",
    "\n",
    "    fnames = []\n",
    "    class_ids = []\n",
    "    bboxes = []\n",
    "    labels = []\n",
    "\n",
    "    for annotation in annotations:\n",
    "        if not annotation[6][0][0]:\n",
    "            bbox_x1 = annotation[1][0][0]\n",
    "            bbox_y1 = annotation[2][0][0]\n",
    "            bbox_x2 = annotation[3][0][0]\n",
    "            bbox_y2 = annotation[4][0][0]\n",
    "            class_id = annotation[5][0][0]\n",
    "            labels.append('%04d' % (class_id,))\n",
    "            fname = str(i[0][0]).split(\"/\")[-1][-9:]\n",
    "            bboxes.append((bbox_x1, bbox_y1, bbox_x2, bbox_y2))\n",
    "            class_ids.append(class_id)\n",
    "            fnames.append(fname)\n",
    "\n",
    "    labels_count = np.unique(class_ids).shape[0]\n",
    "    print(np.unique(class_ids))\n",
    "    print('The number of different cars is %d' % labels_count)\n",
    "\n",
    "    save_train_data(fnames, labels, bboxes)"
   ]
  },
  {
   "cell_type": "code",
   "execution_count": 128,
   "id": "37a60e29",
   "metadata": {
    "ExecuteTime": {
     "end_time": "2023-05-30T12:55:54.367417Z",
     "start_time": "2023-05-30T12:55:54.346900Z"
    }
   },
   "outputs": [],
   "source": [
    "def process_test_data():\n",
    "    print(\"Processing test data...\")\n",
    "    cars_annos = scipy.io.loadmat('C:/Users/rh987/.fastai/data/stanford-cars/cars_annos.mat')\n",
    "    annotations = cars_annos['annotations'][0]\n",
    "\n",
    "    fnames = []\n",
    "    bboxes = []\n",
    "    for annotation in annotations:\n",
    "        if annotation[6][0][0]:\n",
    "            bbox_x1 = annotation[1][0][0]\n",
    "            bbox_y1 = annotation[2][0][0]\n",
    "            bbox_x2 = annotation[3][0][0]\n",
    "            bbox_y2 = annotation[4][0][0]\n",
    "            fname = str(i[0][0]).split(\"/\")[-1][-9:]\n",
    "            bboxes.append((bbox_x1, bbox_y1, bbox_x2, bbox_y2))\n",
    "            fnames.append(fname)\n",
    "\n",
    "    save_test_data(fnames, bboxes)"
   ]
  },
  {
   "cell_type": "code",
   "execution_count": 129,
   "id": "eacec5cc",
   "metadata": {
    "ExecuteTime": {
     "end_time": "2023-05-30T12:55:54.816641Z",
     "start_time": "2023-05-30T12:55:54.596837Z"
    }
   },
   "outputs": [
    {
     "name": "stdout",
     "output_type": "stream",
     "text": [
      "00001.jpg\n"
     ]
    }
   ],
   "source": [
    "cars_annos = scipy.io.loadmat('C:/Users/rh987/.fastai/data/stanford-cars/cars_annos.mat')\n",
    "annotations = cars_annos['annotations'][0]\n",
    "for annotation in annotations:\n",
    "    fname = str(i[0][0]).split(\"/\")[-1]\n",
    "    print(fname[-9:])\n",
    "    break"
   ]
  },
  {
   "cell_type": "code",
   "execution_count": 130,
   "id": "bfc1ffac",
   "metadata": {
    "ExecuteTime": {
     "end_time": "2023-05-30T12:55:55.999844Z",
     "start_time": "2023-05-30T12:55:55.159470Z"
    }
   },
   "outputs": [
    {
     "name": "stdout",
     "output_type": "stream",
     "text": [
      "class_names.shape: (196, 1)\n",
      "Sample class_name: [Aston Martin V8 Vantage Coupe 2012]\n",
      "Processing train data...\n",
      "[  1   2   3   4   5   6   7   8   9  10  11  12  13  14  15  16  17  18\n",
      "  19  20  21  22  23  24  25  26  27  28  29  30  31  32  33  34  35  36\n",
      "  37  38  39  40  41  42  43  44  45  46  47  48  49  50  51  52  53  54\n",
      "  55  56  57  58  59  60  61  62  63  64  65  66  67  68  69  70  71  72\n",
      "  73  74  75  76  77  78  79  80  81  82  83  84  85  86  87  88  89  90\n",
      "  91  92  93  94  95  96  97  98  99 100 101 102 103 104 105 106 107 108\n",
      " 109 110 111 112 113 114 115 116 117 118 119 120 121 122 123 124 125 126\n",
      " 127 128 129 130 131 132 133 134 135 136 137 138 139 140 141 142 143 144\n",
      " 145 146 147 148 149 150 151 152 153 154 155 156 157 158 159 160 161 162\n",
      " 163 164 165 166 167 168 169 170 171 172 173 174 175 176 177 178 179 180\n",
      " 181 182 183 184 185 186 187 188 189 190 191 192 193 194 195 196]\n",
      "The number of different cars is 196\n",
      "00001.jpg\n",
      "Save train data |--------------------------------------------------| 0.012% 00001.jpg\n",
      "Save train data |--------------------------------------------------| 0.025% 00001.jpg\n",
      "Save train data |--------------------------------------------------| 0.037% 00001.jpg\n",
      "Save train data |--------------------------------------------------| 0.049% 00001.jpg\n",
      "Save train data |--------------------------------------------------| 0.061% 00001.jpg\n",
      "Save train data |--------------------------------------------------| 0.074% 00001.jpg\n",
      "Save train data |--------------------------------------------------| 0.086% 00001.jpg\n",
      "Save train data |--------------------------------------------------| 0.098% 00001.jpg\n",
      "Save train data |--------------------------------------------------| 0.111% 00001.jpg\n",
      "Save train data |--------------------------------------------------| 0.123% 00001.jpg\n",
      "Save train data |--------------------------------------------------| 0.135% 00001.jpg\n",
      "Save train data |--------------------------------------------------| 0.147% 00001.jpg\n",
      "Save train data |--------------------------------------------------| 0.160% 00001.jpg\n",
      "Save train data |--------------------------------------------------| 0.172% 00001.jpg\n",
      "Save train data |--------------------------------------------------| 0.184% 00001.jpg\n",
      "Save train data |--------------------------------------------------| 0.196% 00001.jpg\n",
      "Save train data |--------------------------------------------------| 0.209% 00001.jpg\n",
      "Save train data |--------------------------------------------------| 0.221% 00001.jpg\n",
      "Save train data |--------------------------------------------------| 0.233% 00001.jpg\n",
      "Save train data |--------------------------------------------------| 0.246% 00001.jpg\n",
      "Save train data |--------------------------------------------------| 0.258% 00001.jpg\n",
      "Save train data |--------------------------------------------------| 0.270% 00001.jpg\n",
      "Save train data |--------------------------------------------------| 0.282% 00001.jpg\n",
      "Save train data |--------------------------------------------------| 0.295% 00001.jpg\n",
      "Save train data |--------------------------------------------------| 0.307% 00001.jpg\n",
      "Save train data |--------------------------------------------------| 0.319% 00001.jpg\n",
      "Save train data |--------------------------------------------------| 0.332% 00001.jpg\n",
      "Save train data |--------------------------------------------------| 0.344% 00001.jpg\n",
      "Save train data |--------------------------------------------------| 0.356% 00001.jpg\n",
      "Save train data |--------------------------------------------------| 0.368% 00001.jpg\n",
      "Save train data |--------------------------------------------------| 0.381% "
     ]
    },
    {
     "ename": "error",
     "evalue": "OpenCV(4.7.0) D:\\a\\opencv-python\\opencv-python\\opencv\\modules\\imgcodecs\\src\\loadsave.cpp:783: error: (-215:Assertion failed) !_img.empty() in function 'cv::imwrite'\n",
     "output_type": "error",
     "traceback": [
      "\u001b[1;31m---------------------------------------------------------------------------\u001b[0m",
      "\u001b[1;31merror\u001b[0m                                     Traceback (most recent call last)",
      "Cell \u001b[1;32mIn[130], line 15\u001b[0m\n\u001b[0;32m     12\u001b[0m ensure_folder(\u001b[38;5;124m'\u001b[39m\u001b[38;5;124m/kaggle/working/data/valid\u001b[39m\u001b[38;5;124m'\u001b[39m)\n\u001b[0;32m     13\u001b[0m ensure_folder(\u001b[38;5;124m'\u001b[39m\u001b[38;5;124m/kaggle/working/data/test\u001b[39m\u001b[38;5;124m'\u001b[39m)\n\u001b[1;32m---> 15\u001b[0m \u001b[43mprocess_train_data\u001b[49m\u001b[43m(\u001b[49m\u001b[43m)\u001b[49m\n\u001b[0;32m     16\u001b[0m process_test_data()\n",
      "Cell \u001b[1;32mIn[127], line 28\u001b[0m, in \u001b[0;36mprocess_train_data\u001b[1;34m()\u001b[0m\n\u001b[0;32m     25\u001b[0m \u001b[38;5;28mprint\u001b[39m(np\u001b[38;5;241m.\u001b[39munique(class_ids))\n\u001b[0;32m     26\u001b[0m \u001b[38;5;28mprint\u001b[39m(\u001b[38;5;124m'\u001b[39m\u001b[38;5;124mThe number of different cars is \u001b[39m\u001b[38;5;132;01m%d\u001b[39;00m\u001b[38;5;124m'\u001b[39m \u001b[38;5;241m%\u001b[39m labels_count)\n\u001b[1;32m---> 28\u001b[0m \u001b[43msave_train_data\u001b[49m\u001b[43m(\u001b[49m\u001b[43mfnames\u001b[49m\u001b[43m,\u001b[49m\u001b[43m \u001b[49m\u001b[43mlabels\u001b[49m\u001b[43m,\u001b[49m\u001b[43m \u001b[49m\u001b[43mbboxes\u001b[49m\u001b[43m)\u001b[49m\n",
      "Cell \u001b[1;32mIn[125], line 42\u001b[0m, in \u001b[0;36msave_train_data\u001b[1;34m(fnames, labels, bboxes)\u001b[0m\n\u001b[0;32m     40\u001b[0m dst_path \u001b[38;5;241m=\u001b[39m os\u001b[38;5;241m.\u001b[39mpath\u001b[38;5;241m.\u001b[39mjoin(dst_path, fname)\n\u001b[0;32m     41\u001b[0m dst_img \u001b[38;5;241m=\u001b[39m src_image[y1:y2, x1:x2]\n\u001b[1;32m---> 42\u001b[0m \u001b[43mcv2\u001b[49m\u001b[38;5;241;43m.\u001b[39;49m\u001b[43mimwrite\u001b[49m\u001b[43m(\u001b[49m\u001b[43mdst_path\u001b[49m\u001b[43m,\u001b[49m\u001b[43m \u001b[49m\u001b[43mdst_img\u001b[49m\u001b[43m)\u001b[49m\n",
      "\u001b[1;31merror\u001b[0m: OpenCV(4.7.0) D:\\a\\opencv-python\\opencv-python\\opencv\\modules\\imgcodecs\\src\\loadsave.cpp:783: error: (-215:Assertion failed) !_img.empty() in function 'cv::imwrite'\n"
     ]
    }
   ],
   "source": [
    "img_width, img_height = 224, 224\n",
    "\n",
    "cars_meta = scipy.io.loadmat('C:/Users/rh987/.fastai/data/stanford-cars/cars_annos.mat')\n",
    "\n",
    "\n",
    "class_names = cars_meta['class_names']  # shape=(1, 196)\n",
    "class_names = np.transpose(class_names)\n",
    "print('class_names.shape: ' + str(class_names.shape))\n",
    "print('Sample class_name: [{}]'.format(class_names[8][0][0]))\n",
    "\n",
    "ensure_folder('/kaggle/working/data/train')\n",
    "ensure_folder('/kaggle/working/data/valid')\n",
    "ensure_folder('/kaggle/working/data/test')\n",
    "\n",
    "process_train_data()\n",
    "process_test_data()"
   ]
  },
  {
   "cell_type": "code",
   "execution_count": null,
   "id": "b4567ae6",
   "metadata": {},
   "outputs": [],
   "source": []
  }
 ],
 "metadata": {
  "kernelspec": {
   "display_name": "Python 3 (ipykernel)",
   "language": "python",
   "name": "python3"
  },
  "language_info": {
   "codemirror_mode": {
    "name": "ipython",
    "version": 3
   },
   "file_extension": ".py",
   "mimetype": "text/x-python",
   "name": "python",
   "nbconvert_exporter": "python",
   "pygments_lexer": "ipython3",
   "version": "3.9.0"
  },
  "varInspector": {
   "cols": {
    "lenName": 16,
    "lenType": 16,
    "lenVar": 40
   },
   "kernels_config": {
    "python": {
     "delete_cmd_postfix": "",
     "delete_cmd_prefix": "del ",
     "library": "var_list.py",
     "varRefreshCmd": "print(var_dic_list())"
    },
    "r": {
     "delete_cmd_postfix": ") ",
     "delete_cmd_prefix": "rm(",
     "library": "var_list.r",
     "varRefreshCmd": "cat(var_dic_list()) "
    }
   },
   "types_to_exclude": [
    "module",
    "function",
    "builtin_function_or_method",
    "instance",
    "_Feature"
   ],
   "window_display": false
  }
 },
 "nbformat": 4,
 "nbformat_minor": 5
}
