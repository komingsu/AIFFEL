{
 "cells": [
  {
   "cell_type": "code",
   "execution_count": 36,
   "id": "b1918faa",
   "metadata": {
    "ExecuteTime": {
     "end_time": "2023-05-30T13:14:35.680303Z",
     "start_time": "2023-05-30T13:14:35.664576Z"
    }
   },
   "outputs": [],
   "source": [
    "from collections import defaultdict\n",
    "import copy\n",
    "import random\n",
    "import os\n",
    "import glob\n",
    "import shutil\n",
    "import numpy as np\n",
    "\n",
    "import matplotlib.pyplot as plt\n",
    "import cv2\n",
    "import albumentations as A\n",
    "from albumentations.pytorch import ToTensorV2\n",
    "\n",
    "from torch.utils.data import DataLoader, Dataset"
   ]
  },
  {
   "cell_type": "code",
   "execution_count": 37,
   "id": "c7a5c737",
   "metadata": {
    "ExecuteTime": {
     "end_time": "2023-05-30T13:14:35.962447Z",
     "start_time": "2023-05-30T13:14:35.863756Z"
    }
   },
   "outputs": [
    {
     "name": "stdout",
     "output_type": "stream",
     "text": [
      "12500 12500\n"
     ]
    }
   ],
   "source": [
    "cat_directory = \"D:Dataset/dataset/etc/dogs_cats/cat/\"\n",
    "dog_directory = \"D:Dataset/dataset/etc/dogs_cats/dog/\"\n",
    "\n",
    "cat_images_filepaths = sorted(glob.glob(cat_directory+\"*\"))\n",
    "dog_images_filepaths = sorted(glob.glob(dog_directory+\"*\"))\n",
    "print(len(cat_images_filepaths), len(dog_images_filepaths))\n",
    "images_filepaths = [*cat_images_filepaths, *dog_images_filepaths]\n",
    "label = [*[1.0]*12500,*[0.0]*12500]\n",
    "dataset = list(zip(images_filepaths, label))"
   ]
  },
  {
   "cell_type": "code",
   "execution_count": 65,
   "id": "93ddc2ac",
   "metadata": {
    "ExecuteTime": {
     "end_time": "2023-05-30T13:29:30.892304Z",
     "start_time": "2023-05-30T13:29:30.879193Z"
    }
   },
   "outputs": [],
   "source": [
    "params = {\n",
    "    \"model\": \"resnet50\",\n",
    "    \"device\": \"cuda:0\",\n",
    "    \"lr\": 0.001,\n",
    "    \"batch_size\": 16,\n",
    "    \"num_workers\": 0,\n",
    "    \"epochs\": 10,\n",
    "}"
   ]
  },
  {
   "cell_type": "code",
   "execution_count": 38,
   "id": "168b8c36",
   "metadata": {
    "ExecuteTime": {
     "end_time": "2023-05-30T13:14:36.182041Z",
     "start_time": "2023-05-30T13:14:36.155050Z"
    }
   },
   "outputs": [
    {
     "name": "stdout",
     "output_type": "stream",
     "text": [
      "20000 4900 100\n"
     ]
    }
   ],
   "source": [
    "random.shuffle(dataset)\n",
    "train_ds = dataset[:20000]\n",
    "val_ds = dataset[20000:-100]\n",
    "test_ds = dataset[-100:]\n",
    "print(len(train_images_filepaths), len(val_images_filepaths), len(test_images_filepaths))"
   ]
  },
  {
   "cell_type": "code",
   "execution_count": 39,
   "id": "9f2c4f89",
   "metadata": {
    "ExecuteTime": {
     "end_time": "2023-05-30T13:14:36.728983Z",
     "start_time": "2023-05-30T13:14:36.722731Z"
    }
   },
   "outputs": [
    {
     "data": {
      "text/plain": [
       "[('D:Dataset/dataset/etc/dogs_cats/cat\\\\cat.11203.jpg', 1.0),\n",
       " ('D:Dataset/dataset/etc/dogs_cats/dog\\\\dog.4900.jpg', 0.0),\n",
       " ('D:Dataset/dataset/etc/dogs_cats/cat\\\\cat.3244.jpg', 1.0),\n",
       " ('D:Dataset/dataset/etc/dogs_cats/cat\\\\cat.4514.jpg', 1.0),\n",
       " ('D:Dataset/dataset/etc/dogs_cats/cat\\\\cat.4893.jpg', 1.0),\n",
       " ('D:Dataset/dataset/etc/dogs_cats/dog\\\\dog.10065.jpg', 0.0),\n",
       " ('D:Dataset/dataset/etc/dogs_cats/dog\\\\dog.1199.jpg', 0.0),\n",
       " ('D:Dataset/dataset/etc/dogs_cats/dog\\\\dog.6925.jpg', 0.0),\n",
       " ('D:Dataset/dataset/etc/dogs_cats/dog\\\\dog.2106.jpg', 0.0),\n",
       " ('D:Dataset/dataset/etc/dogs_cats/cat\\\\cat.11733.jpg', 1.0)]"
      ]
     },
     "execution_count": 39,
     "metadata": {},
     "output_type": "execute_result"
    }
   ],
   "source": [
    "train_ds[:10]"
   ]
  },
  {
   "cell_type": "code",
   "execution_count": 60,
   "id": "a8cc2251",
   "metadata": {
    "ExecuteTime": {
     "end_time": "2023-05-30T13:25:33.933838Z",
     "start_time": "2023-05-30T13:25:33.928942Z"
    }
   },
   "outputs": [],
   "source": [
    "class CatsVsDogsDataset(Dataset):\n",
    "    def __init__(self, dataset, transform=None):\n",
    "        self.dataset = dataset\n",
    "        self.transform = transform\n",
    "\n",
    "    def __len__(self):\n",
    "        return len(self.dataset)\n",
    "\n",
    "    def __getitem__(self, idx):\n",
    "        (image_filepath, label) = self.dataset[idx]\n",
    "        image = cv2.imread(image_filepath)\n",
    "        image = cv2.cvtColor(image, cv2.COLOR_BGR2RGB)\n",
    "\n",
    "        if self.transform is not None:\n",
    "            image = self.transform(image=image)[\"image\"]\n",
    "        return image, label"
   ]
  },
  {
   "cell_type": "code",
   "execution_count": 63,
   "id": "eda11924",
   "metadata": {
    "ExecuteTime": {
     "end_time": "2023-05-30T13:28:31.579602Z",
     "start_time": "2023-05-30T13:28:31.567885Z"
    }
   },
   "outputs": [],
   "source": [
    "train_transform = A.Compose(\n",
    "    [\n",
    "        A.SmallestMaxSize(max_size=160),\n",
    "        A.ShiftScaleRotate(shift_limit=0.05, scale_limit=0.05, rotate_limit=15, p=0.5),\n",
    "        A.RandomCrop(height=128, width=128),\n",
    "        A.RGBShift(r_shift_limit=15, g_shift_limit=15, b_shift_limit=15, p=0.5),\n",
    "        A.RandomBrightnessContrast(p=0.5),\n",
    "        A.Normalize(mean=(0.485, 0.456, 0.406), std=(0.229, 0.224, 0.225)),\n",
    "        ToTensorV2(),\n",
    "    ]\n",
    ")\n",
    "train_dataset = CatsVsDogsDataset(dataset=train_ds, transform=train_transform)\n",
    "\n",
    "val_transform = A.Compose(\n",
    "    [\n",
    "        A.SmallestMaxSize(max_size=160),\n",
    "        A.CenterCrop(height=128, width=128),\n",
    "        A.Normalize(mean=(0.485, 0.456, 0.406), std=(0.229, 0.224, 0.225)),\n",
    "        ToTensorV2(),\n",
    "    ]\n",
    ")\n",
    "val_dataset = CatsVsDogsDataset(dataset=val_ds, transform=val_transform)\n",
    "test_dataset = CatsVsDogsDataset(dataset=test_ds, transform=val_transform)"
   ]
  },
  {
   "cell_type": "code",
   "execution_count": 67,
   "id": "0a866b1c",
   "metadata": {
    "ExecuteTime": {
     "end_time": "2023-05-30T13:30:16.581166Z",
     "start_time": "2023-05-30T13:30:16.567685Z"
    }
   },
   "outputs": [],
   "source": [
    "train_loader = DataLoader(\n",
    "    train_dataset, batch_size=params[\"batch_size\"], shuffle=True, num_workers=params[\"num_workers\"], pin_memory=True,\n",
    ")\n",
    "val_loader = DataLoader(\n",
    "    val_dataset, batch_size=params[\"batch_size\"], shuffle=False, num_workers=params[\"num_workers\"], pin_memory=True,\n",
    ")\n",
    "test_loader = DataLoader(\n",
    "    test_dataset, batch_size=params[\"batch_size\"], shuffle=False, num_workers=params[\"num_workers\"], pin_memory=True,\n",
    ")"
   ]
  },
  {
   "cell_type": "code",
   "execution_count": 68,
   "id": "eefc7da7",
   "metadata": {
    "ExecuteTime": {
     "end_time": "2023-05-30T13:30:19.272311Z",
     "start_time": "2023-05-30T13:30:17.425060Z"
    }
   },
   "outputs": [
    {
     "name": "stdout",
     "output_type": "stream",
     "text": [
      "torch.Size([16, 3, 128, 128])\n"
     ]
    }
   ],
   "source": [
    "for img, label in train_loader:\n",
    "    print(img.shape)\n",
    "    break"
   ]
  },
  {
   "cell_type": "code",
   "execution_count": 72,
   "id": "bd3eb256",
   "metadata": {
    "ExecuteTime": {
     "end_time": "2023-05-30T13:32:45.345558Z",
     "start_time": "2023-05-30T13:32:45.045273Z"
    }
   },
   "outputs": [],
   "source": [
    "import torchvision.models as models\n",
    "import torch.nn as nn\n",
    "import torch\n",
    "\n",
    "model = getattr(models, params[\"model\"])(pretrained=False, num_classes=1,)\n",
    "model = model.to(params[\"device\"])\n",
    "criterion = nn.BCEWithLogitsLoss().to(params[\"device\"])\n",
    "optimizer = torch.optim.Adam(model.parameters(), lr=params[\"lr\"])"
   ]
  },
  {
   "cell_type": "code",
   "execution_count": null,
   "id": "21ad37f1",
   "metadata": {},
   "outputs": [],
   "source": []
  }
 ],
 "metadata": {
  "kernelspec": {
   "display_name": "Python 3 (ipykernel)",
   "language": "python",
   "name": "python3"
  },
  "language_info": {
   "codemirror_mode": {
    "name": "ipython",
    "version": 3
   },
   "file_extension": ".py",
   "mimetype": "text/x-python",
   "name": "python",
   "nbconvert_exporter": "python",
   "pygments_lexer": "ipython3",
   "version": "3.9.0"
  },
  "varInspector": {
   "cols": {
    "lenName": 16,
    "lenType": 16,
    "lenVar": 40
   },
   "kernels_config": {
    "python": {
     "delete_cmd_postfix": "",
     "delete_cmd_prefix": "del ",
     "library": "var_list.py",
     "varRefreshCmd": "print(var_dic_list())"
    },
    "r": {
     "delete_cmd_postfix": ") ",
     "delete_cmd_prefix": "rm(",
     "library": "var_list.r",
     "varRefreshCmd": "cat(var_dic_list()) "
    }
   },
   "types_to_exclude": [
    "module",
    "function",
    "builtin_function_or_method",
    "instance",
    "_Feature"
   ],
   "window_display": false
  }
 },
 "nbformat": 4,
 "nbformat_minor": 5
}
