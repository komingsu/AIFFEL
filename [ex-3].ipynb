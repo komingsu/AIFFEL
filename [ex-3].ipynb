{
 "cells": [
  {
   "cell_type": "markdown",
   "metadata": {},
   "source": [
    "# 준비"
   ]
  },
  {
   "cell_type": "markdown",
   "metadata": {},
   "source": [
    "## 라이브러리"
   ]
  },
  {
   "cell_type": "code",
   "execution_count": 20,
   "metadata": {},
   "outputs": [],
   "source": [
    "import pandas as pd\n",
    "import numpy as np\n",
    "import scipy as sp\n",
    "\n",
    "import missingno as msno\n",
    "\n",
    "import matplotlib.pyplot as plt\n",
    "import seaborn as sns\n",
    "\n",
    "import warnings\n",
    "warnings.filterwarnings('ignore')\n",
    "\n",
    "%matplotlib inline\n",
    "%config InlineBackend.figure_format = 'retina'\n",
    "\n",
    "pd.options.display.max_columns = 50 # 칼럼수 50개까지\n",
    "\n",
    "from sklearn.model_selection import train_test_split\n",
    "\n",
    "from sklearn.preprocessing import LabelEncoder, StandardScaler, RobustScaler\n",
    "from sklearn.model_selection import KFold\n",
    "from sklearn.metrics import mean_squared_error\n",
    "from sklearn.decomposition import PCA\n",
    "from sklearn.cluster import KMeans\n",
    "from sklearn.model_selection import cross_val_score\n",
    "import xgboost as xgb\n",
    "import lightgbm as lgb\n",
    "from bayes_opt import BayesianOptimization\n",
    "\n",
    "from tqdm import tqdm\n",
    "\n",
    "RANDOM_SEED = 42"
   ]
  },
  {
   "cell_type": "markdown",
   "metadata": {},
   "source": [
    "## 데이터"
   ]
  },
  {
   "cell_type": "code",
   "execution_count": 2,
   "metadata": {},
   "outputs": [],
   "source": [
    "train_df = pd.read_csv(\"kaggle-kakr-housing-data/train.csv\")\n",
    "test_df = pd.read_csv(\"kaggle-kakr-housing-data/test.csv\")\n",
    "sub = pd.read_csv(\"kaggle-kakr-housing-data/sample_submission.csv\")"
   ]
  },
  {
   "cell_type": "markdown",
   "metadata": {},
   "source": [
    "1. ID : 집을 구분하는 번호\n",
    "2. date : 집을 구매한 날짜\n",
    "3. price : 타겟 변수인 집의 가격\n",
    "4. bedrooms : 침실의 수\n",
    "5. bathrooms : 침실당 화장실 개수\n",
    "6. sqft_living : 주거 공간의 평방 피트\n",
    "7. sqft_lot : 부지의 평방 피트\n",
    "8. floors : 집의 층수\n",
    "9. waterfront : 집의 전방에 강이 흐르는지 유무 (a.k.a. 리버뷰)\n",
    "10. view : 집이 얼마나 좋아 보이는지의 정도\n",
    "11. condition : 집의 전반적인 상태\n",
    "12. grade : King County grading 시스템 기준으로 매긴 집의 등급\n",
    "13. sqft_above : 지하실을 제외한 평방 피트\n",
    "14. sqft_basement : 지하실의 평방 피트\n",
    "15. yr_built : 집을 지은 년도\n",
    "16. yr_renovated : 집을 재건축한 년도\n",
    "17. zipcode : 우편번호\n",
    "18. lat : 위도\n",
    "19. long : 경도\n",
    "20. sqft_living15 : 근처 15 가구의 주거 공간, 평방 피트\n",
    "21. sqft_lot15 : 근처 15가구의 부지, 평방 피트"
   ]
  },
  {
   "cell_type": "code",
   "execution_count": 3,
   "metadata": {},
   "outputs": [
    {
     "name": "stdout",
     "output_type": "stream",
     "text": [
      "<class 'pandas.core.frame.DataFrame'>\n",
      "RangeIndex: 15035 entries, 0 to 15034\n",
      "Data columns (total 21 columns):\n",
      " #   Column         Non-Null Count  Dtype  \n",
      "---  ------         --------------  -----  \n",
      " 0   id             15035 non-null  int64  \n",
      " 1   date           15035 non-null  object \n",
      " 2   price          15035 non-null  float64\n",
      " 3   bedrooms       15035 non-null  int64  \n",
      " 4   bathrooms      15035 non-null  float64\n",
      " 5   sqft_living    15035 non-null  int64  \n",
      " 6   sqft_lot       15035 non-null  int64  \n",
      " 7   floors         15035 non-null  float64\n",
      " 8   waterfront     15035 non-null  int64  \n",
      " 9   view           15035 non-null  int64  \n",
      " 10  condition      15035 non-null  int64  \n",
      " 11  grade          15035 non-null  int64  \n",
      " 12  sqft_above     15035 non-null  int64  \n",
      " 13  sqft_basement  15035 non-null  int64  \n",
      " 14  yr_built       15035 non-null  int64  \n",
      " 15  yr_renovated   15035 non-null  int64  \n",
      " 16  zipcode        15035 non-null  int64  \n",
      " 17  lat            15035 non-null  float64\n",
      " 18  long           15035 non-null  float64\n",
      " 19  sqft_living15  15035 non-null  int64  \n",
      " 20  sqft_lot15     15035 non-null  int64  \n",
      "dtypes: float64(5), int64(15), object(1)\n",
      "memory usage: 2.4+ MB\n"
     ]
    }
   ],
   "source": [
    "train_df.info()"
   ]
  },
  {
   "cell_type": "markdown",
   "metadata": {},
   "source": [
    "## helper"
   ]
  },
  {
   "cell_type": "code",
   "execution_count": 2,
   "metadata": {},
   "outputs": [],
   "source": [
    "def show_price_corr(data):\n",
    "    df = data\n",
    "    df = df[~df[\"price\"].isna()]\n",
    "    cor_abs = abs(df.corr(method='spearman')) \n",
    "    cor_cols = cor_abs.nlargest(n=10, columns='price').index\n",
    "    cor = np.array(sp.stats.spearmanr(df[cor_cols].values))[0] # 10 x 10\n",
    "    print(cor_cols.values)\n",
    "    plt.figure(figsize=(8,8))\n",
    "    sns.set(font_scale=1)\n",
    "    sns.heatmap(cor, fmt='.2f', annot=True, square=True , annot_kws={'size' : 6} ,xticklabels=cor_cols.values, yticklabels=cor_cols.values)\n",
    "    plt.show()"
   ]
  },
  {
   "cell_type": "code",
   "execution_count": 3,
   "metadata": {},
   "outputs": [],
   "source": [
    "def rmse_exp(y_true, y_pred):\n",
    "    return np.sqrt(mean_squared_error(np.expm1(y_true), np.expm1(y_pred)))"
   ]
  },
  {
   "cell_type": "code",
   "execution_count": 4,
   "metadata": {},
   "outputs": [],
   "source": [
    "def TTS(data, do_ohe=True):\n",
    "    df = data.drop(['id','price','data'], axis=1).copy()\n",
    "    cat_cols = df.select_dtypes('object').columns\n",
    "    for col in cat_cols:\n",
    "        if do_ohe:\n",
    "            ohe_df = pd.get_dummies(df[[col]], prefix='ohe_'+col)\n",
    "            df.drop(col, axis=1, inplace=True)\n",
    "            df = pd.concat([df, ohe_df], axis=1)\n",
    "        else:\n",
    "            le = LabelEncoder()\n",
    "            df[col] = le.fit_transform(df[col])\n",
    "\n",
    "    train_len = data[data['data'] == 'train'].shape[0]\n",
    "    X_train = df.iloc[:train_len]\n",
    "    X_test = df.iloc[train_len:]\n",
    "    y_train = data[data['data'] == 'train']['price']\n",
    "    \n",
    "    return X_train, X_test, y_train\n",
    "\n",
    "def get_oof_lgb(X_train, y_train, X_test, lgb_param, verbose_eval=False, return_cv_score_only=False):\n",
    "\n",
    "    folds = KFold(n_splits=5, shuffle=True, random_state=RANDOM_SEED)\n",
    "    oof = np.zeros(len(X_train))\n",
    "    predictions = np.zeros(len(X_test))\n",
    "    feature_importance_df = pd.DataFrame()\n",
    "    params = {'verbose': -1}\n",
    "    for fold_, (trn_idx, val_idx) in enumerate(folds.split(X_train.values, y_train.values)):\n",
    "        if verbose_eval > 0: print(f'Fold : {fold_ + 1}')\n",
    "        trn_data = lgb.Dataset(X_train.iloc[trn_idx], label=y_train.iloc[trn_idx], params=params)\n",
    "        val_data = lgb.Dataset(X_train.iloc[val_idx], label=y_train.iloc[val_idx])\n",
    "\n",
    "        num_round = 100000\n",
    "        clf = lgb.train(lgb_param, trn_data, num_round, valid_sets=[trn_data, val_data],\n",
    "                        verbose_eval=verbose_eval, early_stopping_rounds=200)\n",
    "        oof[val_idx] = clf.predict(X_train.iloc[val_idx], num_iteration=clf.best_iteration)\n",
    "        predictions += clf.predict(X_test, num_iteration=clf.best_iteration) / folds.n_splits\n",
    "        \n",
    "        cv_fold_score = rmse_exp(y_train.iloc[val_idx], oof[val_idx])\n",
    "        \n",
    "        if verbose_eval > 0: print(f'Fold {fold_ + 1} / CV-Score: {cv_fold_score:.6f}')\n",
    "        \n",
    "        fold_importance_df = pd.DataFrame()\n",
    "        fold_importance_df['feature'] = X_train.columns.tolist()\n",
    "        fold_importance_df['importance'] = clf.feature_importance('gain')\n",
    "        fold_importance_df['fold'] = fold_ + 1\n",
    "        feature_importance_df = pd.concat([feature_importance_df, fold_importance_df], axis=0)\n",
    "\n",
    "    cv_score = rmse_exp(y_train, oof)\n",
    "    print(f'CV-Score: {cv_score:.6f}')\n",
    "    if return_cv_score_only: return cv_score\n",
    "    else: return oof, predictions, cv_score, feature_importance_df\n",
    "    \n",
    "def plot_feature_importance(fi_df, num_feature=20):\n",
    "    cols = (fi_df[['feature', 'importance']]\n",
    "            .groupby('feature')\n",
    "            .mean()\n",
    "            .sort_values(by='importance', ascending=False)[:num_feature].index)\n",
    "    best_features = fi_df.loc[fi_df.feature.isin(cols)]\n",
    "\n",
    "    sns.barplot(x='importance', y='feature', data=best_features.sort_values(by='importance', ascending=False))\n",
    "    plt.title('Feature Importances (averaged over folds)')\n",
    "    plt.tight_layout()\n",
    "    plt.show()\n",
    "    \n",
    "def plot_numeric_for_regression(df, field, target_field='price'):\n",
    "    df = df[df[field].notnull()]\n",
    "\n",
    "    fig = plt.figure(figsize = (16, 7))\n",
    "    ax1 = plt.subplot(121)\n",
    "    \n",
    "    sns.distplot(df[df['data'] == 'train'][field], label='Train', hist_kws={'alpha': 0.5}, ax=ax1)\n",
    "    sns.distplot(df[df['data'] == 'test'][field], label='Test', hist_kws={'alpha': 0.5}, ax=ax1)\n",
    "\n",
    "    plt.xlabel(field)\n",
    "    plt.ylabel('Density')\n",
    "    plt.legend()\n",
    "    \n",
    "    ax2 = plt.subplot(122)\n",
    "    \n",
    "    df_copy = df[df['data'] == 'train'].copy()\n",
    "\n",
    "    sns.scatterplot(x=field, y=target_field, data=df_copy, ax=ax2)\n",
    "    \n",
    "    plt.show()\n",
    "    \n",
    "def plot_categorical_for_regression(df, field, target_field='price', show_missing=True, missing_value='NA'):\n",
    "    df_copy = df.copy()\n",
    "    if show_missing: df_copy[field] = df_copy[field].fillna(missing_value)\n",
    "    df_copy = df_copy[df_copy[field].notnull()]\n",
    "\n",
    "    ax1_param = 121\n",
    "    ax2_param = 122\n",
    "    fig_size = (16, 7)\n",
    "    if df_copy[field].nunique() > 30:\n",
    "        ax1_param = 211\n",
    "        ax2_param = 212\n",
    "        fig_size = (16, 10)\n",
    "    \n",
    "    fig = plt.figure(figsize = fig_size)\n",
    "    ax1 = plt.subplot(ax1_param)\n",
    "    \n",
    "    sns.countplot(x=field, hue='data', order=np.sort(df_copy[field].unique()), data=df_copy)\n",
    "    plt.xticks(rotation=90, fontsize=11)\n",
    "    \n",
    "    ax2 = plt.subplot(ax2_param)\n",
    "    \n",
    "    df_copy = df_copy[df_copy['data'] == 'train']\n",
    "\n",
    "    sns.boxplot(x=field, y=target_field, data=df_copy, order=np.sort(df_copy[field].unique()), ax=ax2)\n",
    "    plt.xticks(rotation=90, fontsize=11)\n",
    "    \n",
    "    plt.show()\n",
    "    \n",
    "def load_original_data():\n",
    "    train = pd.read_csv('../input/train.csv')\n",
    "    test = pd.read_csv('../input/test.csv')\n",
    "\n",
    "    train_copy = train.copy()\n",
    "    train_copy['data'] = 'train'\n",
    "    test_copy = test.copy()\n",
    "    test_copy['data'] = 'test'\n",
    "    test_copy['price'] = np.nan\n",
    "\n",
    "    # remove outlier\n",
    "    train_copy = train_copy[~((train_copy['sqft_living'] > 12000) & (train_copy['price'] < 3000000))].reset_index(drop=True)\n",
    "\n",
    "    # concat train, test data to preprocess\n",
    "    data = pd.concat([train_copy, test_copy], sort=False).reset_index(drop=True)\n",
    "    data = data[train_copy.columns]\n",
    "\n",
    "    data.drop('date', axis=1, inplace=True)\n",
    "    data['zipcode'] = data['zipcode'].astype(str)\n",
    "\n",
    "    # fix skew feature\n",
    "    skew_columns = ['price']\n",
    "\n",
    "    for c in skew_columns:\n",
    "        data[c] = np.log1p(data[c])\n",
    "        \n",
    "    return data"
   ]
  },
  {
   "cell_type": "markdown",
   "metadata": {},
   "source": [
    "# 전처리"
   ]
  },
  {
   "cell_type": "code",
   "execution_count": 164,
   "metadata": {
    "scrolled": false
   },
   "outputs": [
    {
     "data": {
      "text/html": [
       "<div>\n",
       "<style scoped>\n",
       "    .dataframe tbody tr th:only-of-type {\n",
       "        vertical-align: middle;\n",
       "    }\n",
       "\n",
       "    .dataframe tbody tr th {\n",
       "        vertical-align: top;\n",
       "    }\n",
       "\n",
       "    .dataframe thead th {\n",
       "        text-align: right;\n",
       "    }\n",
       "</style>\n",
       "<table border=\"1\" class=\"dataframe\">\n",
       "  <thead>\n",
       "    <tr style=\"text-align: right;\">\n",
       "      <th></th>\n",
       "      <th>id</th>\n",
       "      <th>date</th>\n",
       "      <th>price</th>\n",
       "      <th>bedrooms</th>\n",
       "      <th>bathrooms</th>\n",
       "      <th>sqft_living</th>\n",
       "      <th>sqft_lot</th>\n",
       "      <th>floors</th>\n",
       "      <th>waterfront</th>\n",
       "      <th>view</th>\n",
       "      <th>condition</th>\n",
       "      <th>grade</th>\n",
       "      <th>sqft_above</th>\n",
       "      <th>sqft_basement</th>\n",
       "      <th>yr_built</th>\n",
       "      <th>yr_renovated</th>\n",
       "      <th>zipcode</th>\n",
       "      <th>lat</th>\n",
       "      <th>long</th>\n",
       "      <th>sqft_living15</th>\n",
       "      <th>sqft_lot15</th>\n",
       "      <th>data</th>\n",
       "    </tr>\n",
       "  </thead>\n",
       "  <tbody>\n",
       "    <tr>\n",
       "      <th>0</th>\n",
       "      <td>0</td>\n",
       "      <td>20141013T000000</td>\n",
       "      <td>221900.0</td>\n",
       "      <td>3</td>\n",
       "      <td>1.0</td>\n",
       "      <td>1180</td>\n",
       "      <td>5650</td>\n",
       "      <td>1.0</td>\n",
       "      <td>0</td>\n",
       "      <td>0</td>\n",
       "      <td>3</td>\n",
       "      <td>7</td>\n",
       "      <td>1180</td>\n",
       "      <td>0</td>\n",
       "      <td>1955</td>\n",
       "      <td>0</td>\n",
       "      <td>98178</td>\n",
       "      <td>47.5112</td>\n",
       "      <td>-122.257</td>\n",
       "      <td>1340</td>\n",
       "      <td>5650</td>\n",
       "      <td>train</td>\n",
       "    </tr>\n",
       "    <tr>\n",
       "      <th>1</th>\n",
       "      <td>1</td>\n",
       "      <td>20150225T000000</td>\n",
       "      <td>180000.0</td>\n",
       "      <td>2</td>\n",
       "      <td>1.0</td>\n",
       "      <td>770</td>\n",
       "      <td>10000</td>\n",
       "      <td>1.0</td>\n",
       "      <td>0</td>\n",
       "      <td>0</td>\n",
       "      <td>3</td>\n",
       "      <td>6</td>\n",
       "      <td>770</td>\n",
       "      <td>0</td>\n",
       "      <td>1933</td>\n",
       "      <td>0</td>\n",
       "      <td>98028</td>\n",
       "      <td>47.7379</td>\n",
       "      <td>-122.233</td>\n",
       "      <td>2720</td>\n",
       "      <td>8062</td>\n",
       "      <td>train</td>\n",
       "    </tr>\n",
       "    <tr>\n",
       "      <th>2</th>\n",
       "      <td>2</td>\n",
       "      <td>20150218T000000</td>\n",
       "      <td>510000.0</td>\n",
       "      <td>3</td>\n",
       "      <td>2.0</td>\n",
       "      <td>1680</td>\n",
       "      <td>8080</td>\n",
       "      <td>1.0</td>\n",
       "      <td>0</td>\n",
       "      <td>0</td>\n",
       "      <td>3</td>\n",
       "      <td>8</td>\n",
       "      <td>1680</td>\n",
       "      <td>0</td>\n",
       "      <td>1987</td>\n",
       "      <td>0</td>\n",
       "      <td>98074</td>\n",
       "      <td>47.6168</td>\n",
       "      <td>-122.045</td>\n",
       "      <td>1800</td>\n",
       "      <td>7503</td>\n",
       "      <td>train</td>\n",
       "    </tr>\n",
       "  </tbody>\n",
       "</table>\n",
       "</div>"
      ],
      "text/plain": [
       "   id             date     price  bedrooms  bathrooms  sqft_living  sqft_lot  \\\n",
       "0   0  20141013T000000  221900.0         3        1.0         1180      5650   \n",
       "1   1  20150225T000000  180000.0         2        1.0          770     10000   \n",
       "2   2  20150218T000000  510000.0         3        2.0         1680      8080   \n",
       "\n",
       "   floors  waterfront  view  condition  grade  sqft_above  sqft_basement  \\\n",
       "0     1.0           0     0          3      7        1180              0   \n",
       "1     1.0           0     0          3      6         770              0   \n",
       "2     1.0           0     0          3      8        1680              0   \n",
       "\n",
       "   yr_built  yr_renovated  zipcode      lat     long  sqft_living15  \\\n",
       "0      1955             0    98178  47.5112 -122.257           1340   \n",
       "1      1933             0    98028  47.7379 -122.233           2720   \n",
       "2      1987             0    98074  47.6168 -122.045           1800   \n",
       "\n",
       "   sqft_lot15   data  \n",
       "0        5650  train  \n",
       "1        8062  train  \n",
       "2        7503  train  "
      ]
     },
     "execution_count": 164,
     "metadata": {},
     "output_type": "execute_result"
    }
   ],
   "source": [
    "# 데이터 합치기\n",
    "train_df[\"data\"]=\"train\"\n",
    "test_df[\"data\"]=\"test\"\n",
    "df = pd.concat([train_df, test_df], axis=0)\n",
    "df.head(3)"
   ]
  },
  {
   "cell_type": "code",
   "execution_count": 165,
   "metadata": {},
   "outputs": [],
   "source": [
    "# price\n",
    "df[\"price\"] = df[\"price\"].apply(lambda x: np.log1p(x))"
   ]
  },
  {
   "cell_type": "code",
   "execution_count": 166,
   "metadata": {},
   "outputs": [],
   "source": [
    "# date\n",
    "df[\"date\"] = df[\"date\"].apply(lambda x: str(x)[:8])\n",
    "df[\"year\"] = df[\"date\"].apply(lambda x: x[:4])\n",
    "df[\"month\"] = df[\"date\"].apply(lambda x: int(x[4:6]))"
   ]
  },
  {
   "cell_type": "code",
   "execution_count": 167,
   "metadata": {},
   "outputs": [],
   "source": [
    "# backup\n",
    "df = df.reset_index(drop=True)\n",
    "original_df = df.copy()"
   ]
  },
  {
   "cell_type": "code",
   "execution_count": 175,
   "metadata": {},
   "outputs": [
    {
     "name": "stdout",
     "output_type": "stream",
     "text": [
      "(15035, 394) (6468, 394)\n",
      "CV-Score: 119571.897666\n"
     ]
    }
   ],
   "source": [
    "# basemodel\n",
    "X_train, X_test, y_train = TTS(df)\n",
    "print(X_train.shape, X_test.shape)\n",
    "\n",
    "lgb_param = {\n",
    "    'objective': 'regression',\n",
    "    'learning_rate': 0.05,\n",
    "    'num_leaves': 15,\n",
    "    'bagging_fraction': 0.7,\n",
    "    'bagging_freq': 1,\n",
    "    'feature_fraction': 0.7,\n",
    "    'seed': RANDOM_SEED,\n",
    "    'metric': ['rmse'],\n",
    "    'verbose': -1,\n",
    "}\n",
    "\n",
    "oof, pred, cv_score, fi_df = get_oof_lgb(X_train, y_train, X_test, lgb_param)"
   ]
  },
  {
   "cell_type": "code",
   "execution_count": 178,
   "metadata": {},
   "outputs": [
    {
     "name": "stdout",
     "output_type": "stream",
     "text": [
      "CV-Score: 119571.897666\n"
     ]
    }
   ],
   "source": [
    "# live / lot False\n",
    "df = original_df.copy()\n",
    "df[\"live_per_lot\"] = df[\"sqft_living\"] / df[\"sqft_lot\"]\n",
    "X_train, X_test, y_train = TTS(df)\n",
    "oof, pred, cv_score, fi_df = get_oof_lgb(X_train, y_train, X_test, lgb_param)"
   ]
  },
  {
   "cell_type": "code",
   "execution_count": 185,
   "metadata": {},
   "outputs": [
    {
     "name": "stdout",
     "output_type": "stream",
     "text": [
      "CV-Score: 118434.275475\n"
     ]
    }
   ],
   "source": [
    "# renovated\n",
    "df = original_df.copy()\n",
    "last_built = []\n",
    "for idx, row in df.iterrows():\n",
    "    if row[\"yr_built\"] < row[\"yr_renovated\"]:\n",
    "        last_built.append(row[\"yr_renovated\"])\n",
    "    else:\n",
    "        last_built.append(row[\"yr_built\"])\n",
    "       \n",
    "df[\"last_built\"] = last_built\n",
    "df = df.drop([\"yr_built\",\"yr_renovated\"], axis=1)\n",
    "X_train, X_test, y_train = TTS(df)\n",
    "oof, pred, cv_score, fi_df = get_oof_lgb(X_train, y_train, X_test, lgb_param)"
   ]
  },
  {
   "cell_type": "code",
   "execution_count": 177,
   "metadata": {},
   "outputs": [
    {
     "name": "stdout",
     "output_type": "stream",
     "text": [
      "CV-Score: 117817.094319\n"
     ]
    }
   ],
   "source": [
    "# yr_built\n",
    "df = original_df.copy()\n",
    "df[\"yr_built\"] = 2015-df[\"yr_built\"]\n",
    "X_train, X_test, y_train = TTS(df)\n",
    "oof, pred, cv_score, fi_df = get_oof_lgb(X_train, y_train, X_test, lgb_param)"
   ]
  },
  {
   "cell_type": "code",
   "execution_count": 54,
   "metadata": {},
   "outputs": [
    {
     "name": "stdout",
     "output_type": "stream",
     "text": [
      "CV-Score: 116842.144618\n"
     ]
    }
   ],
   "source": [
    "# zipcode seperate\n",
    "df = original_df.copy()\n",
    "\n",
    "df[\"zipcode\"] = df[\"zipcode\"].apply(lambda x: str(x)[2:])\n",
    "df[\"zipcode-1\"] = df[\"zipcode\"].apply(lambda x: \"zip_\"+str(x)[:1])\n",
    "df[\"zipcode-2\"] = df[\"zipcode\"].apply(lambda x: \"zip_\"+str(x)[1:2])\n",
    "df[\"zipcode-3\"] = df[\"zipcode\"].apply(lambda x: \"zip_\"+str(x)[2:])\n",
    "\n",
    "X_train, X_test, y_train = TTS(df)\n",
    "oof, pred, cv_score, fi_df = get_oof_lgb(X_train, y_train, X_test, lgb_param)"
   ]
  },
  {
   "cell_type": "code",
   "execution_count": 55,
   "metadata": {},
   "outputs": [
    {
     "name": "stdout",
     "output_type": "stream",
     "text": [
      "CV-Score: 116415.573613\n"
     ]
    }
   ],
   "source": [
    "# zipcode combination\n",
    "df[\"zipcode-12\"] = df[\"zipcode\"].apply(lambda x: \"zip_\"+str(x)[:2])\n",
    "df[\"zipcode-13\"] = df[\"zipcode\"].apply(lambda x: \"zip_\"+str(x)[:1]+str(x)[2:])\n",
    "df[\"zipcode-23\"] = df[\"zipcode\"].apply(lambda x: \"zip_\"+str(x)[1:])\n",
    "\n",
    "X_train, X_test, y_train = TTS(df)\n",
    "oof, pred, cv_score, fi_df = get_oof_lgb(X_train, y_train, X_test, lgb_param)"
   ]
  },
  {
   "cell_type": "code",
   "execution_count": 53,
   "metadata": {},
   "outputs": [
    {
     "name": "stdout",
     "output_type": "stream",
     "text": [
      "CV-Score: 116249.246033\n"
     ]
    }
   ],
   "source": [
    "# lat long - PCA component:1 <=\n",
    "df = original_df.copy()\n",
    "\n",
    "coord = df[['lat','long']]\n",
    "pca = PCA(n_components=1)\n",
    "pca.fit(coord)\n",
    "coord_pca = pca.transform(coord)\n",
    "df['coord_pca1'] = coord_pca[:, 0]\n",
    "\n",
    "X_train, X_test, y_train = TTS(df)\n",
    "oof, pred, cv_score, fi_df = get_oof_lgb(X_train, y_train, X_test, lgb_param)"
   ]
  },
  {
   "cell_type": "code",
   "execution_count": 52,
   "metadata": {},
   "outputs": [
    {
     "name": "stdout",
     "output_type": "stream",
     "text": [
      "CV-Score: 117021.270829\n"
     ]
    }
   ],
   "source": [
    "# lat long - PCA component: 2 => False\n",
    "df = original_df.copy()\n",
    "\n",
    "coord = df[['lat','long']]\n",
    "pca = PCA(n_components=2)\n",
    "pca.fit(coord)\n",
    "coord_pca = pca.transform(coord)\n",
    "df['coord_pca1'] = coord_pca[:, 0]\n",
    "df['coord_pca2'] = coord_pca[:, 1]\n",
    "\n",
    "X_train, X_test, y_train = TTS(df)\n",
    "oof, pred, cv_score, fi_df = get_oof_lgb(X_train, y_train, X_test, lgb_param)"
   ]
  },
  {
   "cell_type": "code",
   "execution_count": 65,
   "metadata": {
    "collapsed": true
   },
   "outputs": [
    {
     "name": "stdout",
     "output_type": "stream",
     "text": [
      "K : 3\n",
      "CV-Score: 115380.173709\n",
      "\n",
      "K : 4\n",
      "CV-Score: 116272.473179\n",
      "\n",
      "K : 5\n",
      "CV-Score: 116677.051501\n",
      "\n",
      "K : 6\n",
      "CV-Score: 116172.262792\n",
      "\n",
      "K : 7\n",
      "CV-Score: 114936.908439\n",
      "\n",
      "K : 8\n",
      "CV-Score: 115856.724413\n",
      "\n",
      "K : 9\n",
      "CV-Score: 116398.236962\n",
      "\n",
      "K : 10\n",
      "CV-Score: 115772.735695\n",
      "\n",
      "K : 11\n",
      "CV-Score: 118542.069559\n",
      "\n",
      "K : 12\n",
      "CV-Score: 116696.261773\n",
      "\n",
      "K : 13\n",
      "CV-Score: 117202.111614\n",
      "\n",
      "K : 14\n",
      "CV-Score: 116946.552685\n",
      "\n",
      "K : 15\n",
      "CV-Score: 117844.281331\n",
      "\n",
      "K : 16\n",
      "CV-Score: 118026.728299\n",
      "\n",
      "K : 17\n",
      "CV-Score: 117036.451056\n",
      "\n",
      "K : 18\n",
      "CV-Score: 116229.235762\n",
      "\n",
      "K : 19\n",
      "CV-Score: 115908.161469\n",
      "\n",
      "K : 20\n",
      "CV-Score: 116367.811538\n",
      "\n",
      "K : 21\n",
      "CV-Score: 116443.820134\n",
      "\n",
      "K : 22\n",
      "CV-Score: 116884.102800\n",
      "\n",
      "K : 23\n",
      "CV-Score: 116997.806480\n",
      "\n",
      "K : 24\n",
      "CV-Score: 116546.456531\n",
      "\n",
      "K : 25\n",
      "CV-Score: 117445.533713\n",
      "\n",
      "K : 26\n",
      "CV-Score: 116033.046960\n",
      "\n",
      "K : 27\n",
      "CV-Score: 115849.854419\n",
      "\n",
      "K : 28\n",
      "CV-Score: 117088.229659\n",
      "\n",
      "K : 29\n",
      "CV-Score: 116761.047245\n",
      "\n",
      "K : 30\n",
      "CV-Score: 117584.581981\n",
      "\n",
      "K : 31\n",
      "CV-Score: 116544.435343\n",
      "\n",
      "K : 32\n",
      "CV-Score: 116197.244265\n",
      "\n",
      "K : 33\n",
      "CV-Score: 115619.382725\n",
      "\n",
      "K : 34\n",
      "CV-Score: 117739.221677\n",
      "\n",
      "K : 35\n",
      "CV-Score: 117426.514015\n",
      "\n",
      "K : 36\n",
      "CV-Score: 116343.264938\n",
      "\n",
      "K : 37\n",
      "CV-Score: 116503.008766\n",
      "\n",
      "K : 38\n",
      "CV-Score: 115997.940281\n",
      "\n",
      "K : 39\n",
      "CV-Score: 114244.698779\n",
      "\n",
      "K : 40\n",
      "CV-Score: 116480.853434\n",
      "\n",
      "K : 41\n",
      "CV-Score: 116392.476364\n",
      "\n",
      "K : 42\n",
      "CV-Score: 115356.738052\n",
      "\n",
      "K : 43\n",
      "CV-Score: 115872.144836\n",
      "\n",
      "K : 44\n",
      "CV-Score: 117133.042913\n",
      "\n",
      "K : 45\n",
      "CV-Score: 115990.606343\n",
      "\n",
      "K : 46\n",
      "CV-Score: 117462.667809\n",
      "\n",
      "K : 47\n",
      "CV-Score: 117144.943192\n",
      "\n",
      "K : 48\n",
      "CV-Score: 117263.789348\n",
      "\n",
      "K : 49\n",
      "CV-Score: 117599.904682\n",
      "\n"
     ]
    }
   ],
   "source": [
    "# lat long - Kmeans K:39 <=\n",
    "df = original_df.copy()\n",
    "\n",
    "k_range = range(3, 50)\n",
    "\n",
    "for k in k_range:\n",
    "    kmeans = KMeans(n_clusters=k, random_state=RANDOM_SEED).fit(coord)\n",
    "    coord_cluster = kmeans.predict(coord)\n",
    "    df['coord_cluster'] = coord_cluster\n",
    "    df['coord_cluster'] = df['coord_cluster'].map(lambda x: str(x).rjust(2, '0'))\n",
    "    \n",
    "    X_train, X_test, y_train = TTS(df)\n",
    "\n",
    "    print('K :', k)\n",
    "    get_oof_lgb(X_train, y_train, X_test, lgb_param)\n",
    "    print()"
   ]
  },
  {
   "cell_type": "code",
   "execution_count": 138,
   "metadata": {
    "scrolled": false
   },
   "outputs": [],
   "source": [
    "# haversine distance \n",
    "def haversine_array(lat1, lng1, lat2, lng2): \n",
    "    lat1, lng1, lat2, lng2 = map(np.radians, (lat1, lng1, lat2, lng2)) \n",
    "    AVG_EARTH_RADIUS = 6371 # in km \n",
    "    lat = lat2 - lat1 \n",
    "    lng = lng2 - lng1 \n",
    "    d = np.sin(lat * 0.5) ** 2 + np.cos(lat1) * np.cos(lat2) * np.sin(lng * 0.5) ** 2 \n",
    "    h = 2 * AVG_EARTH_RADIUS * np.arcsin(np.sqrt(d)) \n",
    "    return h"
   ]
  },
  {
   "cell_type": "code",
   "execution_count": 198,
   "metadata": {},
   "outputs": [
    {
     "name": "stdout",
     "output_type": "stream",
     "text": [
      "distance :  10.0\n"
     ]
    },
    {
     "name": "stderr",
     "output_type": "stream",
     "text": [
      "100%|████████████████████████████████████████████████████████████████████████████| 21503/21503 [00:58<00:00, 366.60it/s]\n"
     ]
    }
   ],
   "source": [
    "# distence 0.5\n",
    "df = original_df.copy()\n",
    "last_built = []\n",
    "for idx, row in df.iterrows():\n",
    "    if row[\"yr_built\"] < row[\"yr_renovated\"]:\n",
    "        last_built.append(row[\"yr_renovated\"])\n",
    "    else:\n",
    "        last_built.append(row[\"yr_built\"])\n",
    "\n",
    "df[\"last_built\"] = last_built\n",
    "df = df.drop([\"yr_built\",\"yr_renovated\"], axis=1)\n",
    "\n",
    "count10_list=[]\n",
    "condi10_list=[]\n",
    "grad10_list=[]\n",
    "yr_built10_list = []\n",
    "\n",
    "print(\"distance : \",dist*2)\n",
    "for i in tqdm(range(len(df))):\n",
    "    lat2 = df['lat'].values\n",
    "    long2 = df['long'].values\n",
    "\n",
    "    lat1 = df.loc[i, 'lat'] # id = 0 house lat\n",
    "    long1 = df.loc[i, 'long'] # id = 0 house long\n",
    "    dist_arr = haversine_array(lat1, long1, lat2, long2)\n",
    "    neighbor_df = pd.DataFrame({\n",
    "        'id': np.tile(np.array([df.loc[i, 'id']]), df.shape[0]),\n",
    "        'neighbor_id': df['id'],\n",
    "        'neighbor_lat': lat2,\n",
    "        'neighbor_long': long2,\n",
    "        'distance': dist_arr,\n",
    "    })\n",
    "\n",
    "    condi10_list.append(df[\"condition\"][neighbor_df[\"distance\"]<0.5].mean())\n",
    "    grad10_list.append(df[\"grade\"][neighbor_df[\"distance\"]<0.5].mean())\n",
    "    yr_built10_list.append(df[\"condition\"][neighbor_df[\"distance\"]<0.5].mean())\n",
    "    count10_list.append(sum(neighbor_df[\"distance\"]<=0.5))\n",
    "df[f\"count_1km\"]=count10_list\n",
    "df[f\"conditon_1km\"]=condi10_list\n",
    "df[f\"grade_1km\"]=grad10_list\n",
    "df[f\"yr_built_1km\"]=yr_built10_list"
   ]
  },
  {
   "cell_type": "code",
   "execution_count": 206,
   "metadata": {},
   "outputs": [
    {
     "name": "stdout",
     "output_type": "stream",
     "text": [
      "CV-Score: 117639.268041\n"
     ]
    }
   ],
   "source": [
    "# 1km house count\n",
    "temp = df.drop([\"yr_built_1km\",\"conditon_1km\",\"grade_1km\"],axis=1)\n",
    "X_train, X_test, y_train = TTS(temp)\n",
    "\n",
    "oof, pred, cv_score, fi_df = get_oof_lgb(X_train, y_train, X_test, lgb_param)"
   ]
  },
  {
   "cell_type": "code",
   "execution_count": 203,
   "metadata": {},
   "outputs": [
    {
     "name": "stdout",
     "output_type": "stream",
     "text": [
      "CV-Score: 120004.360741\n"
     ]
    }
   ],
   "source": [
    "# 1km yr_lastbuilt mean => False\n",
    "temp = df.drop([\"count_1km\",\"conditon_1km\",\"grade_1km\"],axis=1)\n",
    "X_train, X_test, y_train = TTS(temp)\n",
    "\n",
    "oof, pred, cv_score, fi_df = get_oof_lgb(X_train, y_train, X_test, lgb_param)"
   ]
  },
  {
   "cell_type": "code",
   "execution_count": 204,
   "metadata": {},
   "outputs": [
    {
     "name": "stdout",
     "output_type": "stream",
     "text": [
      "CV-Score: 116922.818722\n"
     ]
    }
   ],
   "source": [
    "# 1km grade mean\n",
    "temp = df.drop([\"count_1km\",\"conditon_1km\",\"yr_built_1km\"],axis=1)\n",
    "X_train, X_test, y_train = TTS(temp)\n",
    "\n",
    "oof, pred, cv_score, fi_df = get_oof_lgb(X_train, y_train, X_test, lgb_param)"
   ]
  },
  {
   "cell_type": "code",
   "execution_count": 205,
   "metadata": {},
   "outputs": [
    {
     "name": "stdout",
     "output_type": "stream",
     "text": [
      "CV-Score: 120004.360741\n"
     ]
    }
   ],
   "source": [
    "# 1km condition mean => False\n",
    "temp = df.drop([\"count_1km\",\"yr_built_1km\",\"grade_1km\"],axis=1)\n",
    "X_train, X_test, y_train = TTS(temp)\n",
    "\n",
    "oof, pred, cv_score, fi_df = get_oof_lgb(X_train, y_train, X_test, lgb_param)"
   ]
  },
  {
   "cell_type": "code",
   "execution_count": 207,
   "metadata": {},
   "outputs": [],
   "source": [
    "distance_1km = df[[\"count_1km\",\"grade_1km\"]].copy()"
   ]
  },
  {
   "cell_type": "code",
   "execution_count": 212,
   "metadata": {},
   "outputs": [],
   "source": [
    "# all\n",
    "\n",
    "# last_built\n",
    "df = original_df.copy()\n",
    "last_built = []\n",
    "for idx, row in df.iterrows():\n",
    "    if row[\"yr_built\"] < row[\"yr_renovated\"]:\n",
    "        last_built.append(row[\"yr_renovated\"])\n",
    "    else:\n",
    "        last_built.append(row[\"yr_built\"])\n",
    "       \n",
    "df[\"last_built\"] = last_built\n",
    "df = df.drop([\"yr_built\",\"yr_renovated\"], axis=1)\n",
    "\n",
    "# 2015 - built \n",
    "df[\"last_built\"] = 2015-df[\"last_built\"]\n",
    "\n",
    "# zipcode\n",
    "df[\"zipcode\"] = df[\"zipcode\"].apply(lambda x: str(x)[2:])\n",
    "df[\"zipcode-1\"] = df[\"zipcode\"].apply(lambda x: \"zip_\"+str(x)[:1])\n",
    "df[\"zipcode-2\"] = df[\"zipcode\"].apply(lambda x: \"zip_\"+str(x)[1:2])\n",
    "df[\"zipcode-3\"] = df[\"zipcode\"].apply(lambda x: \"zip_\"+str(x)[2:])\n",
    "df[\"zipcode-12\"] = df[\"zipcode\"].apply(lambda x: \"zip_\"+str(x)[:2])\n",
    "df[\"zipcode-13\"] = df[\"zipcode\"].apply(lambda x: \"zip_\"+str(x)[:1]+str(x)[2:])\n",
    "df[\"zipcode-23\"] = df[\"zipcode\"].apply(lambda x: \"zip_\"+str(x)[1:])\n",
    "\n",
    "# lat long : PCA\n",
    "coord = df[['lat','long']]\n",
    "pca = PCA(n_components=1)\n",
    "pca.fit(coord)\n",
    "coord_pca = pca.transform(coord)\n",
    "df['coord_pca1'] = coord_pca[:, 0]\n",
    "\n",
    "# lat long : K means\n",
    "kmeans = KMeans(n_clusters=39, random_state=RANDOM_SEED).fit(coord)\n",
    "coord_cluster = kmeans.predict(coord)\n",
    "df['coord_cluster'] = coord_cluster\n",
    "df['coord_cluster'] = df['coord_cluster'].map(lambda x: str(x).rjust(2, '0'))\n",
    "\n",
    "# distance 1km : haversine distance \n",
    "df[\"count_1km\"]=distance_1km[\"count_1km\"]\n",
    "df[\"grade_1km\"]=distance_1km[\"grade_1km\"]"
   ]
  },
  {
   "cell_type": "code",
   "execution_count": 215,
   "metadata": {},
   "outputs": [],
   "source": [
    "df.to_csv(\"kaggle-kakr-housing-data/prep_df.csv\",index=False)"
   ]
  },
  {
   "cell_type": "code",
   "execution_count": 213,
   "metadata": {},
   "outputs": [
    {
     "name": "stdout",
     "output_type": "stream",
     "text": [
      "CV-Score: 115337.970625\n"
     ]
    }
   ],
   "source": [
    "# all\n",
    "X_train, X_test, y_train = TTS(df)\n",
    "oof, pred, cv_score, fi_df = get_oof_lgb(X_train, y_train, X_test, lgb_param)"
   ]
  },
  {
   "cell_type": "markdown",
   "metadata": {},
   "source": [
    "# 모델링"
   ]
  },
  {
   "cell_type": "code",
   "execution_count": 6,
   "metadata": {},
   "outputs": [],
   "source": [
    "df = pd.read_csv(\"kaggle-kakr-housing-data/prep_df.csv\")\n",
    "X_train, X_test, y_train = TTS(df)"
   ]
  },
  {
   "cell_type": "code",
   "execution_count": 23,
   "metadata": {
    "scrolled": false
   },
   "outputs": [
    {
     "name": "stdout",
     "output_type": "stream",
     "text": [
      "|   iter    |  target   | colsam... | learni... | max_depth | min_ch... | n_esti... | num_le... | subsample |\n",
      "-------------------------------------------------------------------------------------------------------------\n",
      "| \u001b[0m1        \u001b[0m | \u001b[0m-0.03241 \u001b[0m | \u001b[0m0.6873   \u001b[0m | \u001b[0m0.1902   \u001b[0m | \u001b[0m8.124    \u001b[0m | \u001b[0m6.388    \u001b[0m | \u001b[0m173.3    \u001b[0m | \u001b[0m4.184    \u001b[0m | \u001b[0m0.529    \u001b[0m |\n",
      "| \u001b[95m2        \u001b[0m | \u001b[95m-0.02667 \u001b[0m | \u001b[95m0.9331   \u001b[0m | \u001b[95m0.1204   \u001b[0m | \u001b[95m7.957    \u001b[0m | \u001b[95m1.185    \u001b[0m | \u001b[95m993.7    \u001b[0m | \u001b[95m13.65    \u001b[0m | \u001b[95m0.6062   \u001b[0m |\n",
      "| \u001b[0m3        \u001b[0m | \u001b[0m-0.03252 \u001b[0m | \u001b[0m0.5909   \u001b[0m | \u001b[0m0.03709  \u001b[0m | \u001b[0m5.13     \u001b[0m | \u001b[0m5.723    \u001b[0m | \u001b[0m451.4    \u001b[0m | \u001b[0m6.077    \u001b[0m | \u001b[0m0.8059   \u001b[0m |\n",
      "| \u001b[0m4        \u001b[0m | \u001b[0m-0.02819 \u001b[0m | \u001b[0m0.5697   \u001b[0m | \u001b[0m0.05878  \u001b[0m | \u001b[0m5.565    \u001b[0m | \u001b[0m5.105    \u001b[0m | \u001b[0m807.5    \u001b[0m | \u001b[0m4.795    \u001b[0m | \u001b[0m0.7571   \u001b[0m |\n",
      "| \u001b[0m5        \u001b[0m | \u001b[0m-0.1208  \u001b[0m | \u001b[0m0.7962   \u001b[0m | \u001b[0m0.009767 \u001b[0m | \u001b[0m7.253    \u001b[0m | \u001b[0m2.535    \u001b[0m | \u001b[0m81.57    \u001b[0m | \u001b[0m15.28    \u001b[0m | \u001b[0m0.9828   \u001b[0m |\n",
      "| \u001b[0m6        \u001b[0m | \u001b[0m-0.03317 \u001b[0m | \u001b[0m0.9042   \u001b[0m | \u001b[0m0.06127  \u001b[0m | \u001b[0m3.684    \u001b[0m | \u001b[0m7.158    \u001b[0m | \u001b[0m459.7    \u001b[0m | \u001b[0m3.709    \u001b[0m | \u001b[0m0.7476   \u001b[0m |\n",
      "| \u001b[0m7        \u001b[0m | \u001b[0m-0.02705 \u001b[0m | \u001b[0m0.5172   \u001b[0m | \u001b[0m0.1819   \u001b[0m | \u001b[0m4.811    \u001b[0m | \u001b[0m6.963    \u001b[0m | \u001b[0m330.2    \u001b[0m | \u001b[0m9.281    \u001b[0m | \u001b[0m0.7734   \u001b[0m |\n",
      "| \u001b[0m8        \u001b[0m | \u001b[0m-0.02723 \u001b[0m | \u001b[0m0.5924   \u001b[0m | \u001b[0m0.1939   \u001b[0m | \u001b[0m8.426    \u001b[0m | \u001b[0m9.455    \u001b[0m | \u001b[0m918.0    \u001b[0m | \u001b[0m10.37    \u001b[0m | \u001b[0m0.9609   \u001b[0m |\n",
      "| \u001b[0m9        \u001b[0m | \u001b[0m-0.034   \u001b[0m | \u001b[0m0.5442   \u001b[0m | \u001b[0m0.0396   \u001b[0m | \u001b[0m3.317    \u001b[0m | \u001b[0m3.928    \u001b[0m | \u001b[0m407.8    \u001b[0m | \u001b[0m5.799    \u001b[0m | \u001b[0m0.9144   \u001b[0m |\n",
      "| \u001b[0m10       \u001b[0m | \u001b[0m-0.03301 \u001b[0m | \u001b[0m0.6784   \u001b[0m | \u001b[0m0.05655  \u001b[0m | \u001b[0m6.799    \u001b[0m | \u001b[0m2.268    \u001b[0m | \u001b[0m824.6    \u001b[0m | \u001b[0m3.044    \u001b[0m | \u001b[0m0.9934   \u001b[0m |\n",
      "| \u001b[95m11       \u001b[0m | \u001b[95m-0.02651 \u001b[0m | \u001b[95m0.8857   \u001b[0m | \u001b[95m0.118    \u001b[0m | \u001b[95m4.925    \u001b[0m | \u001b[95m9.442    \u001b[0m | \u001b[95m674.5    \u001b[0m | \u001b[95m15.59    \u001b[0m | \u001b[95m0.7901   \u001b[0m |\n",
      "| \u001b[0m12       \u001b[0m | \u001b[0m-0.02772 \u001b[0m | \u001b[0m0.9724   \u001b[0m | \u001b[0m0.03122  \u001b[0m | \u001b[0m5.228    \u001b[0m | \u001b[0m9.504    \u001b[0m | \u001b[0m672.8    \u001b[0m | \u001b[0m14.83    \u001b[0m | \u001b[0m0.6274   \u001b[0m |\n",
      "| \u001b[0m13       \u001b[0m | \u001b[0m-0.2589  \u001b[0m | \u001b[0m0.5      \u001b[0m | \u001b[0m0.0005   \u001b[0m | \u001b[0m3.0      \u001b[0m | \u001b[0m10.0     \u001b[0m | \u001b[0m246.4    \u001b[0m | \u001b[0m2.0      \u001b[0m | \u001b[0m0.5      \u001b[0m |\n",
      "| \u001b[0m14       \u001b[0m | \u001b[0m-0.03077 \u001b[0m | \u001b[0m0.6904   \u001b[0m | \u001b[0m0.08761  \u001b[0m | \u001b[0m6.361    \u001b[0m | \u001b[0m2.053    \u001b[0m | \u001b[0m737.8    \u001b[0m | \u001b[0m2.807    \u001b[0m | \u001b[0m0.6873   \u001b[0m |\n",
      "| \u001b[0m15       \u001b[0m | \u001b[0m-0.02733 \u001b[0m | \u001b[0m0.6931   \u001b[0m | \u001b[0m0.1745   \u001b[0m | \u001b[0m9.778    \u001b[0m | \u001b[0m2.647    \u001b[0m | \u001b[0m558.8    \u001b[0m | \u001b[0m14.86    \u001b[0m | \u001b[0m0.719    \u001b[0m |\n",
      "| \u001b[0m16       \u001b[0m | \u001b[0m-0.03605 \u001b[0m | \u001b[0m0.6382   \u001b[0m | \u001b[0m0.1414   \u001b[0m | \u001b[0m3.918    \u001b[0m | \u001b[0m5.219    \u001b[0m | \u001b[0m608.0    \u001b[0m | \u001b[0m2.006    \u001b[0m | \u001b[0m0.6669   \u001b[0m |\n",
      "| \u001b[0m17       \u001b[0m | \u001b[0m-0.02743 \u001b[0m | \u001b[0m0.9795   \u001b[0m | \u001b[0m0.1948   \u001b[0m | \u001b[0m9.99     \u001b[0m | \u001b[0m3.413    \u001b[0m | \u001b[0m511.6    \u001b[0m | \u001b[0m15.94    \u001b[0m | \u001b[0m0.5536   \u001b[0m |\n",
      "| \u001b[0m18       \u001b[0m | \u001b[0m-0.2129  \u001b[0m | \u001b[0m0.8062   \u001b[0m | \u001b[0m0.0005   \u001b[0m | \u001b[0m3.0      \u001b[0m | \u001b[0m10.0     \u001b[0m | \u001b[0m1.024e+03\u001b[0m | \u001b[0m2.0      \u001b[0m | \u001b[0m1.0      \u001b[0m |\n",
      "| \u001b[0m19       \u001b[0m | \u001b[0m-0.02799 \u001b[0m | \u001b[0m0.6292   \u001b[0m | \u001b[0m0.2      \u001b[0m | \u001b[0m10.0     \u001b[0m | \u001b[0m1.0      \u001b[0m | \u001b[0m959.5    \u001b[0m | \u001b[0m16.0     \u001b[0m | \u001b[0m0.5      \u001b[0m |\n",
      "| \u001b[0m20       \u001b[0m | \u001b[0m-0.02806 \u001b[0m | \u001b[0m0.5      \u001b[0m | \u001b[0m0.2      \u001b[0m | \u001b[0m10.0     \u001b[0m | \u001b[0m10.0     \u001b[0m | \u001b[0m873.3    \u001b[0m | \u001b[0m16.0     \u001b[0m | \u001b[0m0.5      \u001b[0m |\n",
      "| \u001b[0m21       \u001b[0m | \u001b[0m-0.0269  \u001b[0m | \u001b[0m0.9163   \u001b[0m | \u001b[0m0.1179   \u001b[0m | \u001b[0m9.998    \u001b[0m | \u001b[0m1.646    \u001b[0m | \u001b[0m367.7    \u001b[0m | \u001b[0m15.7     \u001b[0m | \u001b[0m0.5086   \u001b[0m |\n",
      "| \u001b[0m22       \u001b[0m | \u001b[0m-0.1296  \u001b[0m | \u001b[0m0.6408   \u001b[0m | \u001b[0m0.1314   \u001b[0m | \u001b[0m8.383    \u001b[0m | \u001b[0m9.615    \u001b[0m | \u001b[0m16.93    \u001b[0m | \u001b[0m2.44     \u001b[0m | \u001b[0m0.895    \u001b[0m |\n",
      "| \u001b[0m23       \u001b[0m | \u001b[0m-0.04694 \u001b[0m | \u001b[0m0.5      \u001b[0m | \u001b[0m0.2      \u001b[0m | \u001b[0m3.0      \u001b[0m | \u001b[0m10.0     \u001b[0m | \u001b[0m137.1    \u001b[0m | \u001b[0m2.0      \u001b[0m | \u001b[0m1.0      \u001b[0m |\n",
      "| \u001b[95m24       \u001b[0m | \u001b[95m-0.02649 \u001b[0m | \u001b[95m0.7936   \u001b[0m | \u001b[95m0.08374  \u001b[0m | \u001b[95m3.148    \u001b[0m | \u001b[95m9.863    \u001b[0m | \u001b[95m767.9    \u001b[0m | \u001b[95m15.9     \u001b[0m | \u001b[95m0.8772   \u001b[0m |\n",
      "| \u001b[0m25       \u001b[0m | \u001b[0m-0.03353 \u001b[0m | \u001b[0m0.8448   \u001b[0m | \u001b[0m0.1921   \u001b[0m | \u001b[0m9.893    \u001b[0m | \u001b[0m7.531    \u001b[0m | \u001b[0m704.4    \u001b[0m | \u001b[0m2.486    \u001b[0m | \u001b[0m0.6073   \u001b[0m |\n",
      "| \u001b[0m26       \u001b[0m | \u001b[0m-0.04883 \u001b[0m | \u001b[0m0.5421   \u001b[0m | \u001b[0m0.04395  \u001b[0m | \u001b[0m6.824    \u001b[0m | \u001b[0m9.786    \u001b[0m | \u001b[0m534.0    \u001b[0m | \u001b[0m2.063    \u001b[0m | \u001b[0m0.9477   \u001b[0m |\n",
      "| \u001b[0m27       \u001b[0m | \u001b[0m-0.219   \u001b[0m | \u001b[0m1.0      \u001b[0m | \u001b[0m0.0005   \u001b[0m | \u001b[0m3.0      \u001b[0m | \u001b[0m1.0      \u001b[0m | \u001b[0m891.7    \u001b[0m | \u001b[0m2.0      \u001b[0m | \u001b[0m0.5      \u001b[0m |\n",
      "| \u001b[0m28       \u001b[0m | \u001b[0m-0.02803 \u001b[0m | \u001b[0m0.5      \u001b[0m | \u001b[0m0.2      \u001b[0m | \u001b[0m10.0     \u001b[0m | \u001b[0m10.0     \u001b[0m | \u001b[0m850.2    \u001b[0m | \u001b[0m16.0     \u001b[0m | \u001b[0m0.7805   \u001b[0m |\n",
      "| \u001b[0m29       \u001b[0m | \u001b[0m-0.03215 \u001b[0m | \u001b[0m1.0      \u001b[0m | \u001b[0m0.2      \u001b[0m | \u001b[0m10.0     \u001b[0m | \u001b[0m10.0     \u001b[0m | \u001b[0m939.8    \u001b[0m | \u001b[0m2.0      \u001b[0m | \u001b[0m1.0      \u001b[0m |\n",
      "| \u001b[0m30       \u001b[0m | \u001b[0m-0.03966 \u001b[0m | \u001b[0m0.5661   \u001b[0m | \u001b[0m0.0892   \u001b[0m | \u001b[0m9.757    \u001b[0m | \u001b[0m9.662    \u001b[0m | \u001b[0m579.8    \u001b[0m | \u001b[0m2.158    \u001b[0m | \u001b[0m0.79     \u001b[0m |\n",
      "| \u001b[0m31       \u001b[0m | \u001b[0m-0.02695 \u001b[0m | \u001b[0m0.9811   \u001b[0m | \u001b[0m0.1261   \u001b[0m | \u001b[0m8.534    \u001b[0m | \u001b[0m1.503    \u001b[0m | \u001b[0m638.6    \u001b[0m | \u001b[0m15.72    \u001b[0m | \u001b[0m0.7777   \u001b[0m |\n",
      "| \u001b[0m32       \u001b[0m | \u001b[0m-0.2112  \u001b[0m | \u001b[0m0.5      \u001b[0m | \u001b[0m0.0005   \u001b[0m | \u001b[0m10.0     \u001b[0m | \u001b[0m1.0      \u001b[0m | \u001b[0m484.2    \u001b[0m | \u001b[0m16.0     \u001b[0m | \u001b[0m1.0      \u001b[0m |\n",
      "| \u001b[0m33       \u001b[0m | \u001b[0m-0.02684 \u001b[0m | \u001b[0m0.6951   \u001b[0m | \u001b[0m0.08286  \u001b[0m | \u001b[0m5.631    \u001b[0m | \u001b[0m9.687    \u001b[0m | \u001b[0m974.2    \u001b[0m | \u001b[0m4.891    \u001b[0m | \u001b[0m0.9907   \u001b[0m |\n",
      "| \u001b[0m34       \u001b[0m | \u001b[0m-0.03702 \u001b[0m | \u001b[0m1.0      \u001b[0m | \u001b[0m0.2      \u001b[0m | \u001b[0m3.0      \u001b[0m | \u001b[0m10.0     \u001b[0m | \u001b[0m383.0    \u001b[0m | \u001b[0m2.0      \u001b[0m | \u001b[0m1.0      \u001b[0m |\n",
      "| \u001b[0m35       \u001b[0m | \u001b[0m-0.03763 \u001b[0m | \u001b[0m1.0      \u001b[0m | \u001b[0m0.2      \u001b[0m | \u001b[0m3.0      \u001b[0m | \u001b[0m1.0      \u001b[0m | \u001b[0m351.4    \u001b[0m | \u001b[0m2.0      \u001b[0m | \u001b[0m0.5      \u001b[0m |\n",
      "| \u001b[0m36       \u001b[0m | \u001b[0m-0.03544 \u001b[0m | \u001b[0m0.8945   \u001b[0m | \u001b[0m0.1195   \u001b[0m | \u001b[0m7.513    \u001b[0m | \u001b[0m2.341    \u001b[0m | \u001b[0m784.8    \u001b[0m | \u001b[0m2.088    \u001b[0m | \u001b[0m0.614    \u001b[0m |\n",
      "| \u001b[0m37       \u001b[0m | \u001b[0m-0.0273  \u001b[0m | \u001b[0m0.8469   \u001b[0m | \u001b[0m0.08487  \u001b[0m | \u001b[0m8.746    \u001b[0m | \u001b[0m1.762    \u001b[0m | \u001b[0m303.7    \u001b[0m | \u001b[0m15.09    \u001b[0m | \u001b[0m0.7438   \u001b[0m |\n",
      "| \u001b[0m38       \u001b[0m | \u001b[0m-0.2451  \u001b[0m | \u001b[0m1.0      \u001b[0m | \u001b[0m0.0005   \u001b[0m | \u001b[0m10.0     \u001b[0m | \u001b[0m1.0      \u001b[0m | \u001b[0m195.3    \u001b[0m | \u001b[0m16.0     \u001b[0m | \u001b[0m0.7899   \u001b[0m |\n",
      "| \u001b[0m39       \u001b[0m | \u001b[0m-0.0287  \u001b[0m | \u001b[0m0.6055   \u001b[0m | \u001b[0m0.08148  \u001b[0m | \u001b[0m7.653    \u001b[0m | \u001b[0m1.814    \u001b[0m | \u001b[0m154.3    \u001b[0m | \u001b[0m15.94    \u001b[0m | \u001b[0m0.627    \u001b[0m |\n",
      "| \u001b[0m40       \u001b[0m | \u001b[0m-0.1799  \u001b[0m | \u001b[0m0.5      \u001b[0m | \u001b[0m0.0005   \u001b[0m | \u001b[0m3.0      \u001b[0m | \u001b[0m1.0      \u001b[0m | \u001b[0m934.3    \u001b[0m | \u001b[0m16.0     \u001b[0m | \u001b[0m0.5      \u001b[0m |\n",
      "| \u001b[0m41       \u001b[0m | \u001b[0m-0.02709 \u001b[0m | \u001b[0m0.863    \u001b[0m | \u001b[0m0.1499   \u001b[0m | \u001b[0m9.657    \u001b[0m | \u001b[0m3.374    \u001b[0m | \u001b[0m757.6    \u001b[0m | \u001b[0m3.593    \u001b[0m | \u001b[0m0.8687   \u001b[0m |\n",
      "| \u001b[0m42       \u001b[0m | \u001b[0m-0.2298  \u001b[0m | \u001b[0m1.0      \u001b[0m | \u001b[0m0.0005   \u001b[0m | \u001b[0m3.0      \u001b[0m | \u001b[0m1.0      \u001b[0m | \u001b[0m684.9    \u001b[0m | \u001b[0m2.0      \u001b[0m | \u001b[0m0.5      \u001b[0m |\n",
      "| \u001b[0m43       \u001b[0m | \u001b[0m-0.0349  \u001b[0m | \u001b[0m0.5591   \u001b[0m | \u001b[0m0.03871  \u001b[0m | \u001b[0m9.724    \u001b[0m | \u001b[0m7.883    \u001b[0m | \u001b[0m957.3    \u001b[0m | \u001b[0m3.226    \u001b[0m | \u001b[0m0.8258   \u001b[0m |\n",
      "| \u001b[0m44       \u001b[0m | \u001b[0m-0.02664 \u001b[0m | \u001b[0m0.9324   \u001b[0m | \u001b[0m0.08577  \u001b[0m | \u001b[0m3.0      \u001b[0m | \u001b[0m9.976    \u001b[0m | \u001b[0m749.6    \u001b[0m | \u001b[0m15.08    \u001b[0m | \u001b[0m0.967    \u001b[0m |\n"
     ]
    },
    {
     "name": "stdout",
     "output_type": "stream",
     "text": [
      "| \u001b[0m45       \u001b[0m | \u001b[0m-0.02688 \u001b[0m | \u001b[0m0.8431   \u001b[0m | \u001b[0m0.2      \u001b[0m | \u001b[0m10.0     \u001b[0m | \u001b[0m10.0     \u001b[0m | \u001b[0m720.9    \u001b[0m | \u001b[0m7.895    \u001b[0m | \u001b[0m0.8434   \u001b[0m |\n",
      "| \u001b[0m46       \u001b[0m | \u001b[0m-0.02661 \u001b[0m | \u001b[0m0.5      \u001b[0m | \u001b[0m0.1249   \u001b[0m | \u001b[0m10.0     \u001b[0m | \u001b[0m10.0     \u001b[0m | \u001b[0m348.3    \u001b[0m | \u001b[0m16.0     \u001b[0m | \u001b[0m0.8676   \u001b[0m |\n",
      "| \u001b[0m47       \u001b[0m | \u001b[0m-0.03395 \u001b[0m | \u001b[0m0.8211   \u001b[0m | \u001b[0m0.2      \u001b[0m | \u001b[0m3.0      \u001b[0m | \u001b[0m10.0     \u001b[0m | \u001b[0m629.4    \u001b[0m | \u001b[0m2.0      \u001b[0m | \u001b[0m1.0      \u001b[0m |\n",
      "| \u001b[0m48       \u001b[0m | \u001b[0m-0.02764 \u001b[0m | \u001b[0m0.7243   \u001b[0m | \u001b[0m0.1906   \u001b[0m | \u001b[0m9.963    \u001b[0m | \u001b[0m1.038    \u001b[0m | \u001b[0m621.1    \u001b[0m | \u001b[0m15.57    \u001b[0m | \u001b[0m0.6246   \u001b[0m |\n",
      "| \u001b[0m49       \u001b[0m | \u001b[0m-0.02985 \u001b[0m | \u001b[0m0.7157   \u001b[0m | \u001b[0m0.0251   \u001b[0m | \u001b[0m9.899    \u001b[0m | \u001b[0m1.08     \u001b[0m | \u001b[0m390.5    \u001b[0m | \u001b[0m14.7     \u001b[0m | \u001b[0m0.6175   \u001b[0m |\n",
      "| \u001b[0m50       \u001b[0m | \u001b[0m-0.03771 \u001b[0m | \u001b[0m1.0      \u001b[0m | \u001b[0m0.1584   \u001b[0m | \u001b[0m10.0     \u001b[0m | \u001b[0m10.0     \u001b[0m | \u001b[0m428.5    \u001b[0m | \u001b[0m2.0      \u001b[0m | \u001b[0m0.5      \u001b[0m |\n",
      "| \u001b[0m51       \u001b[0m | \u001b[0m-0.2544  \u001b[0m | \u001b[0m0.5      \u001b[0m | \u001b[0m0.0005   \u001b[0m | \u001b[0m3.0      \u001b[0m | \u001b[0m10.0     \u001b[0m | \u001b[0m311.3    \u001b[0m | \u001b[0m2.0      \u001b[0m | \u001b[0m1.0      \u001b[0m |\n",
      "| \u001b[95m52       \u001b[0m | \u001b[95m-0.02628 \u001b[0m | \u001b[95m0.9678   \u001b[0m | \u001b[95m0.07114  \u001b[0m | \u001b[95m9.193    \u001b[0m | \u001b[95m1.854    \u001b[0m | \u001b[95m979.0    \u001b[0m | \u001b[95m15.47    \u001b[0m | \u001b[95m0.8345   \u001b[0m |\n",
      "| \u001b[0m53       \u001b[0m | \u001b[0m-0.2648  \u001b[0m | \u001b[0m1.0      \u001b[0m | \u001b[0m0.0005   \u001b[0m | \u001b[0m3.0      \u001b[0m | \u001b[0m10.0     \u001b[0m | \u001b[0m157.9    \u001b[0m | \u001b[0m2.0      \u001b[0m | \u001b[0m0.8381   \u001b[0m |\n",
      "| \u001b[0m54       \u001b[0m | \u001b[0m-0.02751 \u001b[0m | \u001b[0m1.0      \u001b[0m | \u001b[0m0.2      \u001b[0m | \u001b[0m8.616    \u001b[0m | \u001b[0m1.0      \u001b[0m | \u001b[0m340.6    \u001b[0m | \u001b[0m10.64    \u001b[0m | \u001b[0m0.5      \u001b[0m |\n",
      "| \u001b[0m55       \u001b[0m | \u001b[0m-0.02679 \u001b[0m | \u001b[0m0.9432   \u001b[0m | \u001b[0m0.05853  \u001b[0m | \u001b[0m3.262    \u001b[0m | \u001b[0m8.742    \u001b[0m | \u001b[0m968.5    \u001b[0m | \u001b[0m15.94    \u001b[0m | \u001b[0m0.8244   \u001b[0m |\n",
      "| \u001b[0m56       \u001b[0m | \u001b[0m-0.02702 \u001b[0m | \u001b[0m0.6416   \u001b[0m | \u001b[0m0.1516   \u001b[0m | \u001b[0m5.292    \u001b[0m | \u001b[0m8.89     \u001b[0m | \u001b[0m733.6    \u001b[0m | \u001b[0m16.0     \u001b[0m | \u001b[0m0.8722   \u001b[0m |\n",
      "| \u001b[0m57       \u001b[0m | \u001b[0m-0.02814 \u001b[0m | \u001b[0m0.762    \u001b[0m | \u001b[0m0.1301   \u001b[0m | \u001b[0m8.597    \u001b[0m | \u001b[0m9.84     \u001b[0m | \u001b[0m363.2    \u001b[0m | \u001b[0m6.226    \u001b[0m | \u001b[0m0.6513   \u001b[0m |\n",
      "| \u001b[0m58       \u001b[0m | \u001b[0m-0.03457 \u001b[0m | \u001b[0m0.6276   \u001b[0m | \u001b[0m0.141    \u001b[0m | \u001b[0m4.837    \u001b[0m | \u001b[0m9.965    \u001b[0m | \u001b[0m771.7    \u001b[0m | \u001b[0m2.415    \u001b[0m | \u001b[0m0.5154   \u001b[0m |\n",
      "| \u001b[0m59       \u001b[0m | \u001b[0m-0.2164  \u001b[0m | \u001b[0m0.5      \u001b[0m | \u001b[0m0.0005   \u001b[0m | \u001b[0m3.0      \u001b[0m | \u001b[0m1.0      \u001b[0m | \u001b[0m986.2    \u001b[0m | \u001b[0m2.0      \u001b[0m | \u001b[0m0.5      \u001b[0m |\n",
      "| \u001b[0m60       \u001b[0m | \u001b[0m-0.02714 \u001b[0m | \u001b[0m0.6118   \u001b[0m | \u001b[0m0.1931   \u001b[0m | \u001b[0m3.0      \u001b[0m | \u001b[0m1.292    \u001b[0m | \u001b[0m355.8    \u001b[0m | \u001b[0m15.9     \u001b[0m | \u001b[0m0.5      \u001b[0m |\n",
      "| \u001b[0m61       \u001b[0m | \u001b[0m-0.02767 \u001b[0m | \u001b[0m0.6173   \u001b[0m | \u001b[0m0.04691  \u001b[0m | \u001b[0m7.957    \u001b[0m | \u001b[0m9.989    \u001b[0m | \u001b[0m378.1    \u001b[0m | \u001b[0m14.57    \u001b[0m | \u001b[0m0.9562   \u001b[0m |\n",
      "| \u001b[0m62       \u001b[0m | \u001b[0m-0.1534  \u001b[0m | \u001b[0m0.9387   \u001b[0m | \u001b[0m0.002123 \u001b[0m | \u001b[0m9.566    \u001b[0m | \u001b[0m1.251    \u001b[0m | \u001b[0m375.8    \u001b[0m | \u001b[0m3.733    \u001b[0m | \u001b[0m0.6318   \u001b[0m |\n",
      "| \u001b[0m63       \u001b[0m | \u001b[0m-0.02661 \u001b[0m | \u001b[0m0.8146   \u001b[0m | \u001b[0m0.2      \u001b[0m | \u001b[0m3.0      \u001b[0m | \u001b[0m10.0     \u001b[0m | \u001b[0m394.2    \u001b[0m | \u001b[0m10.36    \u001b[0m | \u001b[0m1.0      \u001b[0m |\n",
      "| \u001b[0m64       \u001b[0m | \u001b[0m-0.02646 \u001b[0m | \u001b[0m0.7594   \u001b[0m | \u001b[0m0.1294   \u001b[0m | \u001b[0m9.745    \u001b[0m | \u001b[0m2.848    \u001b[0m | \u001b[0m744.6    \u001b[0m | \u001b[0m13.53    \u001b[0m | \u001b[0m0.5403   \u001b[0m |\n",
      "| \u001b[0m65       \u001b[0m | \u001b[0m-0.241   \u001b[0m | \u001b[0m0.5      \u001b[0m | \u001b[0m0.0005   \u001b[0m | \u001b[0m3.0      \u001b[0m | \u001b[0m10.0     \u001b[0m | \u001b[0m341.9    \u001b[0m | \u001b[0m4.482    \u001b[0m | \u001b[0m1.0      \u001b[0m |\n",
      "| \u001b[0m66       \u001b[0m | \u001b[0m-0.02665 \u001b[0m | \u001b[0m0.7147   \u001b[0m | \u001b[0m0.1566   \u001b[0m | \u001b[0m8.282    \u001b[0m | \u001b[0m3.22     \u001b[0m | \u001b[0m969.6    \u001b[0m | \u001b[0m9.617    \u001b[0m | \u001b[0m0.8088   \u001b[0m |\n",
      "| \u001b[0m67       \u001b[0m | \u001b[0m-0.03255 \u001b[0m | \u001b[0m0.7011   \u001b[0m | \u001b[0m0.01894  \u001b[0m | \u001b[0m7.128    \u001b[0m | \u001b[0m9.22     \u001b[0m | \u001b[0m358.5    \u001b[0m | \u001b[0m15.54    \u001b[0m | \u001b[0m0.6948   \u001b[0m |\n",
      "| \u001b[0m68       \u001b[0m | \u001b[0m-0.1394  \u001b[0m | \u001b[0m0.6574   \u001b[0m | \u001b[0m0.0008541\u001b[0m | \u001b[0m8.397    \u001b[0m | \u001b[0m4.054    \u001b[0m | \u001b[0m759.2    \u001b[0m | \u001b[0m15.25    \u001b[0m | \u001b[0m0.6164   \u001b[0m |\n",
      "| \u001b[0m69       \u001b[0m | \u001b[0m-0.02672 \u001b[0m | \u001b[0m0.8843   \u001b[0m | \u001b[0m0.1831   \u001b[0m | \u001b[0m4.047    \u001b[0m | \u001b[0m9.215    \u001b[0m | \u001b[0m740.9    \u001b[0m | \u001b[0m7.751    \u001b[0m | \u001b[0m0.5048   \u001b[0m |\n",
      "| \u001b[0m70       \u001b[0m | \u001b[0m-0.02754 \u001b[0m | \u001b[0m0.6875   \u001b[0m | \u001b[0m0.1001   \u001b[0m | \u001b[0m8.924    \u001b[0m | \u001b[0m1.976    \u001b[0m | \u001b[0m355.5    \u001b[0m | \u001b[0m8.332    \u001b[0m | \u001b[0m0.9428   \u001b[0m |\n",
      "| \u001b[0m71       \u001b[0m | \u001b[0m-0.0274  \u001b[0m | \u001b[0m0.9718   \u001b[0m | \u001b[0m0.2      \u001b[0m | \u001b[0m10.0     \u001b[0m | \u001b[0m1.0      \u001b[0m | \u001b[0m331.2    \u001b[0m | \u001b[0m16.0     \u001b[0m | \u001b[0m0.5      \u001b[0m |\n",
      "| \u001b[0m72       \u001b[0m | \u001b[0m-0.2263  \u001b[0m | \u001b[0m1.0      \u001b[0m | \u001b[0m0.0005   \u001b[0m | \u001b[0m10.0     \u001b[0m | \u001b[0m9.655    \u001b[0m | \u001b[0m748.6    \u001b[0m | \u001b[0m2.0      \u001b[0m | \u001b[0m1.0      \u001b[0m |\n",
      "| \u001b[0m73       \u001b[0m | \u001b[0m-0.02639 \u001b[0m | \u001b[0m0.9685   \u001b[0m | \u001b[0m0.08307  \u001b[0m | \u001b[0m3.892    \u001b[0m | \u001b[0m2.568    \u001b[0m | \u001b[0m738.1    \u001b[0m | \u001b[0m10.9     \u001b[0m | \u001b[0m0.9467   \u001b[0m |\n",
      "| \u001b[0m74       \u001b[0m | \u001b[0m-0.02712 \u001b[0m | \u001b[0m0.5697   \u001b[0m | \u001b[0m0.1008   \u001b[0m | \u001b[0m4.362    \u001b[0m | \u001b[0m7.312    \u001b[0m | \u001b[0m729.2    \u001b[0m | \u001b[0m5.294    \u001b[0m | \u001b[0m0.6071   \u001b[0m |\n",
      "| \u001b[0m75       \u001b[0m | \u001b[0m-0.02767 \u001b[0m | \u001b[0m1.0      \u001b[0m | \u001b[0m0.2      \u001b[0m | \u001b[0m10.0     \u001b[0m | \u001b[0m1.0      \u001b[0m | \u001b[0m348.7    \u001b[0m | \u001b[0m16.0     \u001b[0m | \u001b[0m0.9928   \u001b[0m |\n",
      "| \u001b[0m76       \u001b[0m | \u001b[0m-0.02669 \u001b[0m | \u001b[0m0.6152   \u001b[0m | \u001b[0m0.1485   \u001b[0m | \u001b[0m8.845    \u001b[0m | \u001b[0m7.107    \u001b[0m | \u001b[0m629.2    \u001b[0m | \u001b[0m12.32    \u001b[0m | \u001b[0m0.7206   \u001b[0m |\n",
      "| \u001b[0m77       \u001b[0m | \u001b[0m-0.0754  \u001b[0m | \u001b[0m0.7629   \u001b[0m | \u001b[0m0.003638 \u001b[0m | \u001b[0m4.661    \u001b[0m | \u001b[0m3.325    \u001b[0m | \u001b[0m620.3    \u001b[0m | \u001b[0m5.872    \u001b[0m | \u001b[0m0.6069   \u001b[0m |\n",
      "| \u001b[0m78       \u001b[0m | \u001b[0m-0.03305 \u001b[0m | \u001b[0m1.0      \u001b[0m | \u001b[0m0.2      \u001b[0m | \u001b[0m10.0     \u001b[0m | \u001b[0m1.0      \u001b[0m | \u001b[0m766.8    \u001b[0m | \u001b[0m2.0      \u001b[0m | \u001b[0m1.0      \u001b[0m |\n",
      "| \u001b[0m79       \u001b[0m | \u001b[0m-0.02687 \u001b[0m | \u001b[0m0.8387   \u001b[0m | \u001b[0m0.1671   \u001b[0m | \u001b[0m3.503    \u001b[0m | \u001b[0m7.981    \u001b[0m | \u001b[0m778.6    \u001b[0m | \u001b[0m11.83    \u001b[0m | \u001b[0m0.5897   \u001b[0m |\n",
      "| \u001b[0m80       \u001b[0m | \u001b[0m-0.02646 \u001b[0m | \u001b[0m0.5502   \u001b[0m | \u001b[0m0.1209   \u001b[0m | \u001b[0m9.481    \u001b[0m | \u001b[0m1.055    \u001b[0m | \u001b[0m726.5    \u001b[0m | \u001b[0m12.89    \u001b[0m | \u001b[0m0.5928   \u001b[0m |\n",
      "| \u001b[0m81       \u001b[0m | \u001b[0m-0.03059 \u001b[0m | \u001b[0m0.667    \u001b[0m | \u001b[0m0.09388  \u001b[0m | \u001b[0m6.973    \u001b[0m | \u001b[0m1.341    \u001b[0m | \u001b[0m717.7    \u001b[0m | \u001b[0m2.522    \u001b[0m | \u001b[0m0.6427   \u001b[0m |\n",
      "| \u001b[0m82       \u001b[0m | \u001b[0m-0.02654 \u001b[0m | \u001b[0m0.9947   \u001b[0m | \u001b[0m0.2      \u001b[0m | \u001b[0m3.0      \u001b[0m | \u001b[0m4.574    \u001b[0m | \u001b[0m716.0    \u001b[0m | \u001b[0m13.88    \u001b[0m | \u001b[0m0.9548   \u001b[0m |\n",
      "| \u001b[0m83       \u001b[0m | \u001b[0m-0.02653 \u001b[0m | \u001b[0m0.6361   \u001b[0m | \u001b[0m0.1256   \u001b[0m | \u001b[0m6.239    \u001b[0m | \u001b[0m9.376    \u001b[0m | \u001b[0m639.8    \u001b[0m | \u001b[0m6.428    \u001b[0m | \u001b[0m0.9178   \u001b[0m |\n",
      "| \u001b[95m84       \u001b[0m | \u001b[95m-0.02626 \u001b[0m | \u001b[95m0.5243   \u001b[0m | \u001b[95m0.05164  \u001b[0m | \u001b[95m8.095    \u001b[0m | \u001b[95m7.785    \u001b[0m | \u001b[95m862.2    \u001b[0m | \u001b[95m12.16    \u001b[0m | \u001b[95m0.9838   \u001b[0m |\n",
      "| \u001b[0m85       \u001b[0m | \u001b[0m-0.03678 \u001b[0m | \u001b[0m0.5      \u001b[0m | \u001b[0m0.2      \u001b[0m | \u001b[0m3.0      \u001b[0m | \u001b[0m1.195    \u001b[0m | \u001b[0m395.8    \u001b[0m | \u001b[0m2.0      \u001b[0m | \u001b[0m0.5      \u001b[0m |\n",
      "| \u001b[0m86       \u001b[0m | \u001b[0m-0.02699 \u001b[0m | \u001b[0m0.7723   \u001b[0m | \u001b[0m0.1763   \u001b[0m | \u001b[0m3.416    \u001b[0m | \u001b[0m1.477    \u001b[0m | \u001b[0m400.6    \u001b[0m | \u001b[0m15.93    \u001b[0m | \u001b[0m0.9471   \u001b[0m |\n",
      "| \u001b[0m87       \u001b[0m | \u001b[0m-0.02752 \u001b[0m | \u001b[0m1.0      \u001b[0m | \u001b[0m0.2      \u001b[0m | \u001b[0m10.0     \u001b[0m | \u001b[0m10.0     \u001b[0m | \u001b[0m404.1    \u001b[0m | \u001b[0m14.7     \u001b[0m | \u001b[0m0.5      \u001b[0m |\n",
      "| \u001b[0m88       \u001b[0m | \u001b[0m-0.02686 \u001b[0m | \u001b[0m0.6142   \u001b[0m | \u001b[0m0.1561   \u001b[0m | \u001b[0m5.767    \u001b[0m | \u001b[0m6.878    \u001b[0m | \u001b[0m794.0    \u001b[0m | \u001b[0m10.71    \u001b[0m | \u001b[0m0.6602   \u001b[0m |\n",
      "| \u001b[0m89       \u001b[0m | \u001b[0m-0.1877  \u001b[0m | \u001b[0m0.5      \u001b[0m | \u001b[0m0.0005   \u001b[0m | \u001b[0m10.0     \u001b[0m | \u001b[0m10.0     \u001b[0m | \u001b[0m707.7    \u001b[0m | \u001b[0m15.75    \u001b[0m | \u001b[0m0.5      \u001b[0m |\n"
     ]
    },
    {
     "name": "stdout",
     "output_type": "stream",
     "text": [
      "| \u001b[0m90       \u001b[0m | \u001b[0m-0.02662 \u001b[0m | \u001b[0m0.9692   \u001b[0m | \u001b[0m0.09848  \u001b[0m | \u001b[0m4.928    \u001b[0m | \u001b[0m6.57     \u001b[0m | \u001b[0m851.2    \u001b[0m | \u001b[0m5.668    \u001b[0m | \u001b[0m0.9325   \u001b[0m |\n",
      "| \u001b[0m91       \u001b[0m | \u001b[0m-0.02638 \u001b[0m | \u001b[0m0.9235   \u001b[0m | \u001b[0m0.08543  \u001b[0m | \u001b[0m7.914    \u001b[0m | \u001b[0m6.077    \u001b[0m | \u001b[0m838.8    \u001b[0m | \u001b[0m8.278    \u001b[0m | \u001b[0m0.9118   \u001b[0m |\n",
      "| \u001b[0m92       \u001b[0m | \u001b[0m-0.02698 \u001b[0m | \u001b[0m0.6903   \u001b[0m | \u001b[0m0.1562   \u001b[0m | \u001b[0m5.514    \u001b[0m | \u001b[0m8.97     \u001b[0m | \u001b[0m817.0    \u001b[0m | \u001b[0m13.14    \u001b[0m | \u001b[0m0.7186   \u001b[0m |\n",
      "| \u001b[0m93       \u001b[0m | \u001b[0m-0.02772 \u001b[0m | \u001b[0m1.0      \u001b[0m | \u001b[0m0.1679   \u001b[0m | \u001b[0m10.0     \u001b[0m | \u001b[0m3.258    \u001b[0m | \u001b[0m805.6    \u001b[0m | \u001b[0m16.0     \u001b[0m | \u001b[0m0.9561   \u001b[0m |\n",
      "| \u001b[95m94       \u001b[0m | \u001b[95m-0.02621 \u001b[0m | \u001b[95m0.6106   \u001b[0m | \u001b[95m0.09897  \u001b[0m | \u001b[95m3.342    \u001b[0m | \u001b[95m8.65     \u001b[0m | \u001b[95m829.5    \u001b[0m | \u001b[95m15.59    \u001b[0m | \u001b[95m0.884    \u001b[0m |\n",
      "| \u001b[0m95       \u001b[0m | \u001b[0m-0.02684 \u001b[0m | \u001b[0m0.894    \u001b[0m | \u001b[0m0.08103  \u001b[0m | \u001b[0m9.885    \u001b[0m | \u001b[0m2.986    \u001b[0m | \u001b[0m417.0    \u001b[0m | \u001b[0m15.84    \u001b[0m | \u001b[0m0.5397   \u001b[0m |\n",
      "| \u001b[0m96       \u001b[0m | \u001b[0m-0.02623 \u001b[0m | \u001b[0m0.7354   \u001b[0m | \u001b[0m0.1119   \u001b[0m | \u001b[0m3.555    \u001b[0m | \u001b[0m1.322    \u001b[0m | \u001b[0m843.6    \u001b[0m | \u001b[0m15.93    \u001b[0m | \u001b[0m0.7576   \u001b[0m |\n",
      "| \u001b[0m97       \u001b[0m | \u001b[0m-0.02749 \u001b[0m | \u001b[0m0.9135   \u001b[0m | \u001b[0m0.1785   \u001b[0m | \u001b[0m7.366    \u001b[0m | \u001b[0m8.616    \u001b[0m | \u001b[0m651.1    \u001b[0m | \u001b[0m15.16    \u001b[0m | \u001b[0m0.915    \u001b[0m |\n",
      "| \u001b[0m98       \u001b[0m | \u001b[0m-0.02683 \u001b[0m | \u001b[0m0.9645   \u001b[0m | \u001b[0m0.1611   \u001b[0m | \u001b[0m8.485    \u001b[0m | \u001b[0m1.313    \u001b[0m | \u001b[0m650.5    \u001b[0m | \u001b[0m4.633    \u001b[0m | \u001b[0m0.6012   \u001b[0m |\n",
      "| \u001b[0m99       \u001b[0m | \u001b[0m-0.177   \u001b[0m | \u001b[0m0.5      \u001b[0m | \u001b[0m0.0005   \u001b[0m | \u001b[0m10.0     \u001b[0m | \u001b[0m1.0      \u001b[0m | \u001b[0m824.3    \u001b[0m | \u001b[0m16.0     \u001b[0m | \u001b[0m1.0      \u001b[0m |\n",
      "| \u001b[0m100      \u001b[0m | \u001b[0m-0.02682 \u001b[0m | \u001b[0m0.5553   \u001b[0m | \u001b[0m0.1582   \u001b[0m | \u001b[0m3.595    \u001b[0m | \u001b[0m9.899    \u001b[0m | \u001b[0m804.4    \u001b[0m | \u001b[0m15.47    \u001b[0m | \u001b[0m0.8403   \u001b[0m |\n",
      "| \u001b[0m101      \u001b[0m | \u001b[0m-0.2341  \u001b[0m | \u001b[0m0.5      \u001b[0m | \u001b[0m0.0005   \u001b[0m | \u001b[0m10.0     \u001b[0m | \u001b[0m1.0      \u001b[0m | \u001b[0m636.5    \u001b[0m | \u001b[0m2.0      \u001b[0m | \u001b[0m0.5      \u001b[0m |\n",
      "| \u001b[0m102      \u001b[0m | \u001b[0m-0.02629 \u001b[0m | \u001b[0m0.7323   \u001b[0m | \u001b[0m0.1207   \u001b[0m | \u001b[0m4.081    \u001b[0m | \u001b[0m9.55     \u001b[0m | \u001b[0m638.1    \u001b[0m | \u001b[0m14.51    \u001b[0m | \u001b[0m0.8946   \u001b[0m |\n",
      "| \u001b[0m103      \u001b[0m | \u001b[0m-0.032   \u001b[0m | \u001b[0m0.6294   \u001b[0m | \u001b[0m0.03462  \u001b[0m | \u001b[0m4.662    \u001b[0m | \u001b[0m8.868    \u001b[0m | \u001b[0m658.2    \u001b[0m | \u001b[0m5.035    \u001b[0m | \u001b[0m0.7498   \u001b[0m |\n",
      "| \u001b[0m104      \u001b[0m | \u001b[0m-0.02709 \u001b[0m | \u001b[0m1.0      \u001b[0m | \u001b[0m0.2      \u001b[0m | \u001b[0m10.0     \u001b[0m | \u001b[0m10.0     \u001b[0m | \u001b[0m415.9    \u001b[0m | \u001b[0m6.967    \u001b[0m | \u001b[0m0.5      \u001b[0m |\n",
      "| \u001b[0m105      \u001b[0m | \u001b[0m-0.02626 \u001b[0m | \u001b[0m0.5      \u001b[0m | \u001b[0m0.2      \u001b[0m | \u001b[0m3.0      \u001b[0m | \u001b[0m1.0      \u001b[0m | \u001b[0m657.2    \u001b[0m | \u001b[0m12.95    \u001b[0m | \u001b[0m1.0      \u001b[0m |\n",
      "| \u001b[0m106      \u001b[0m | \u001b[0m-0.03739 \u001b[0m | \u001b[0m0.741    \u001b[0m | \u001b[0m0.0832   \u001b[0m | \u001b[0m3.534    \u001b[0m | \u001b[0m9.397    \u001b[0m | \u001b[0m817.9    \u001b[0m | \u001b[0m2.119    \u001b[0m | \u001b[0m0.9756   \u001b[0m |\n",
      "| \u001b[0m107      \u001b[0m | \u001b[0m-0.02762 \u001b[0m | \u001b[0m0.8155   \u001b[0m | \u001b[0m0.1189   \u001b[0m | \u001b[0m3.74     \u001b[0m | \u001b[0m1.221    \u001b[0m | \u001b[0m420.2    \u001b[0m | \u001b[0m6.134    \u001b[0m | \u001b[0m0.7448   \u001b[0m |\n",
      "| \u001b[0m108      \u001b[0m | \u001b[0m-0.02669 \u001b[0m | \u001b[0m0.8147   \u001b[0m | \u001b[0m0.186    \u001b[0m | \u001b[0m3.0      \u001b[0m | \u001b[0m10.0     \u001b[0m | \u001b[0m424.1    \u001b[0m | \u001b[0m14.04    \u001b[0m | \u001b[0m1.0      \u001b[0m |\n",
      "| \u001b[0m109      \u001b[0m | \u001b[0m-0.0268  \u001b[0m | \u001b[0m0.7953   \u001b[0m | \u001b[0m0.1239   \u001b[0m | \u001b[0m9.548    \u001b[0m | \u001b[0m1.095    \u001b[0m | \u001b[0m430.4    \u001b[0m | \u001b[0m13.24    \u001b[0m | \u001b[0m0.9864   \u001b[0m |\n",
      "| \u001b[0m110      \u001b[0m | \u001b[0m-0.2242  \u001b[0m | \u001b[0m0.5      \u001b[0m | \u001b[0m0.0005   \u001b[0m | \u001b[0m3.0      \u001b[0m | \u001b[0m9.313    \u001b[0m | \u001b[0m437.7    \u001b[0m | \u001b[0m10.9     \u001b[0m | \u001b[0m0.5      \u001b[0m |\n",
      "| \u001b[0m111      \u001b[0m | \u001b[0m-0.2403  \u001b[0m | \u001b[0m0.5      \u001b[0m | \u001b[0m0.0005   \u001b[0m | \u001b[0m10.0     \u001b[0m | \u001b[0m10.0     \u001b[0m | \u001b[0m399.7    \u001b[0m | \u001b[0m3.073    \u001b[0m | \u001b[0m1.0      \u001b[0m |\n",
      "| \u001b[0m112      \u001b[0m | \u001b[0m-0.02959 \u001b[0m | \u001b[0m0.9191   \u001b[0m | \u001b[0m0.06869  \u001b[0m | \u001b[0m3.192    \u001b[0m | \u001b[0m4.608    \u001b[0m | \u001b[0m411.3    \u001b[0m | \u001b[0m14.79    \u001b[0m | \u001b[0m0.7677   \u001b[0m |\n",
      "| \u001b[95m113      \u001b[0m | \u001b[95m-0.02619 \u001b[0m | \u001b[95m0.5907   \u001b[0m | \u001b[95m0.06689  \u001b[0m | \u001b[95m3.769    \u001b[0m | \u001b[95m9.839    \u001b[0m | \u001b[95m840.1    \u001b[0m | \u001b[95m15.66    \u001b[0m | \u001b[95m0.9053   \u001b[0m |\n",
      "| \u001b[0m114      \u001b[0m | \u001b[0m-0.02648 \u001b[0m | \u001b[0m0.5      \u001b[0m | \u001b[0m0.2      \u001b[0m | \u001b[0m3.0      \u001b[0m | \u001b[0m10.0     \u001b[0m | \u001b[0m830.9    \u001b[0m | \u001b[0m5.008    \u001b[0m | \u001b[0m0.5      \u001b[0m |\n",
      "| \u001b[0m115      \u001b[0m | \u001b[0m-0.03189 \u001b[0m | \u001b[0m0.5619   \u001b[0m | \u001b[0m0.0494   \u001b[0m | \u001b[0m3.287    \u001b[0m | \u001b[0m8.863    \u001b[0m | \u001b[0m387.7    \u001b[0m | \u001b[0m15.15    \u001b[0m | \u001b[0m0.5292   \u001b[0m |\n",
      "| \u001b[0m116      \u001b[0m | \u001b[0m-0.02814 \u001b[0m | \u001b[0m1.0      \u001b[0m | \u001b[0m0.2      \u001b[0m | \u001b[0m10.0     \u001b[0m | \u001b[0m10.0     \u001b[0m | \u001b[0m975.1    \u001b[0m | \u001b[0m15.28    \u001b[0m | \u001b[0m1.0      \u001b[0m |\n",
      "| \u001b[0m117      \u001b[0m | \u001b[0m-0.02658 \u001b[0m | \u001b[0m0.9129   \u001b[0m | \u001b[0m0.07233  \u001b[0m | \u001b[0m3.04     \u001b[0m | \u001b[0m3.289    \u001b[0m | \u001b[0m855.4    \u001b[0m | \u001b[0m13.89    \u001b[0m | \u001b[0m0.6609   \u001b[0m |\n",
      "| \u001b[0m118      \u001b[0m | \u001b[0m-0.1741  \u001b[0m | \u001b[0m1.0      \u001b[0m | \u001b[0m0.0005   \u001b[0m | \u001b[0m10.0     \u001b[0m | \u001b[0m1.0      \u001b[0m | \u001b[0m785.9    \u001b[0m | \u001b[0m16.0     \u001b[0m | \u001b[0m1.0      \u001b[0m |\n",
      "| \u001b[0m119      \u001b[0m | \u001b[0m-0.1004  \u001b[0m | \u001b[0m0.6726   \u001b[0m | \u001b[0m0.005185 \u001b[0m | \u001b[0m3.0      \u001b[0m | \u001b[0m10.0     \u001b[0m | \u001b[0m796.6    \u001b[0m | \u001b[0m2.0      \u001b[0m | \u001b[0m0.9955   \u001b[0m |\n",
      "| \u001b[0m120      \u001b[0m | \u001b[0m-0.02664 \u001b[0m | \u001b[0m1.0      \u001b[0m | \u001b[0m0.2      \u001b[0m | \u001b[0m3.0      \u001b[0m | \u001b[0m9.689    \u001b[0m | \u001b[0m724.1    \u001b[0m | \u001b[0m14.47    \u001b[0m | \u001b[0m0.5      \u001b[0m |\n",
      "| \u001b[0m121      \u001b[0m | \u001b[0m-0.04056 \u001b[0m | \u001b[0m0.9264   \u001b[0m | \u001b[0m0.008344 \u001b[0m | \u001b[0m3.203    \u001b[0m | \u001b[0m9.974    \u001b[0m | \u001b[0m958.3    \u001b[0m | \u001b[0m13.83    \u001b[0m | \u001b[0m0.8259   \u001b[0m |\n",
      "| \u001b[0m122      \u001b[0m | \u001b[0m-0.02671 \u001b[0m | \u001b[0m0.5682   \u001b[0m | \u001b[0m0.1497   \u001b[0m | \u001b[0m3.55     \u001b[0m | \u001b[0m1.699    \u001b[0m | \u001b[0m647.8    \u001b[0m | \u001b[0m15.81    \u001b[0m | \u001b[0m0.8241   \u001b[0m |\n",
      "| \u001b[0m123      \u001b[0m | \u001b[0m-0.02662 \u001b[0m | \u001b[0m0.6699   \u001b[0m | \u001b[0m0.1379   \u001b[0m | \u001b[0m8.176    \u001b[0m | \u001b[0m4.458    \u001b[0m | \u001b[0m568.6    \u001b[0m | \u001b[0m8.558    \u001b[0m | \u001b[0m0.7583   \u001b[0m |\n",
      "| \u001b[0m124      \u001b[0m | \u001b[0m-0.03364 \u001b[0m | \u001b[0m0.5884   \u001b[0m | \u001b[0m0.0342   \u001b[0m | \u001b[0m3.319    \u001b[0m | \u001b[0m2.86     \u001b[0m | \u001b[0m558.7    \u001b[0m | \u001b[0m5.263    \u001b[0m | \u001b[0m0.6094   \u001b[0m |\n",
      "| \u001b[0m125      \u001b[0m | \u001b[0m-0.02639 \u001b[0m | \u001b[0m0.7788   \u001b[0m | \u001b[0m0.0859   \u001b[0m | \u001b[0m3.837    \u001b[0m | \u001b[0m9.773    \u001b[0m | \u001b[0m647.6    \u001b[0m | \u001b[0m8.716    \u001b[0m | \u001b[0m0.6421   \u001b[0m |\n",
      "| \u001b[0m126      \u001b[0m | \u001b[0m-0.02933 \u001b[0m | \u001b[0m0.7483   \u001b[0m | \u001b[0m0.101    \u001b[0m | \u001b[0m7.266    \u001b[0m | \u001b[0m1.207    \u001b[0m | \u001b[0m861.1    \u001b[0m | \u001b[0m3.327    \u001b[0m | \u001b[0m0.981    \u001b[0m |\n",
      "| \u001b[0m127      \u001b[0m | \u001b[0m-0.2113  \u001b[0m | \u001b[0m0.5      \u001b[0m | \u001b[0m0.0005   \u001b[0m | \u001b[0m3.0      \u001b[0m | \u001b[0m10.0     \u001b[0m | \u001b[0m564.2    \u001b[0m | \u001b[0m16.0     \u001b[0m | \u001b[0m1.0      \u001b[0m |\n",
      "| \u001b[0m128      \u001b[0m | \u001b[0m-0.02904 \u001b[0m | \u001b[0m0.8921   \u001b[0m | \u001b[0m0.03649  \u001b[0m | \u001b[0m9.925    \u001b[0m | \u001b[0m1.578    \u001b[0m | \u001b[0m547.7    \u001b[0m | \u001b[0m9.004    \u001b[0m | \u001b[0m0.6693   \u001b[0m |\n",
      "| \u001b[0m129      \u001b[0m | \u001b[0m-0.02682 \u001b[0m | \u001b[0m1.0      \u001b[0m | \u001b[0m0.2      \u001b[0m | \u001b[0m10.0     \u001b[0m | \u001b[0m1.0      \u001b[0m | \u001b[0m661.9    \u001b[0m | \u001b[0m6.734    \u001b[0m | \u001b[0m0.5      \u001b[0m |\n",
      "| \u001b[0m130      \u001b[0m | \u001b[0m-0.02669 \u001b[0m | \u001b[0m1.0      \u001b[0m | \u001b[0m0.2      \u001b[0m | \u001b[0m3.0      \u001b[0m | \u001b[0m10.0     \u001b[0m | \u001b[0m868.0    \u001b[0m | \u001b[0m4.351    \u001b[0m | \u001b[0m0.5      \u001b[0m |\n",
      "| \u001b[0m131      \u001b[0m | \u001b[0m-0.02711 \u001b[0m | \u001b[0m0.8916   \u001b[0m | \u001b[0m0.1775   \u001b[0m | \u001b[0m4.709    \u001b[0m | \u001b[0m1.235    \u001b[0m | \u001b[0m871.0    \u001b[0m | \u001b[0m10.11    \u001b[0m | \u001b[0m0.7525   \u001b[0m |\n",
      "| \u001b[0m132      \u001b[0m | \u001b[0m-0.1861  \u001b[0m | \u001b[0m1.0      \u001b[0m | \u001b[0m0.0005   \u001b[0m | \u001b[0m10.0     \u001b[0m | \u001b[0m7.646    \u001b[0m | \u001b[0m662.0    \u001b[0m | \u001b[0m16.0     \u001b[0m | \u001b[0m1.0      \u001b[0m |\n",
      "| \u001b[0m133      \u001b[0m | \u001b[0m-0.02773 \u001b[0m | \u001b[0m1.0      \u001b[0m | \u001b[0m0.2      \u001b[0m | \u001b[0m10.0     \u001b[0m | \u001b[0m1.0      \u001b[0m | \u001b[0m849.4    \u001b[0m | \u001b[0m10.64    \u001b[0m | \u001b[0m0.5      \u001b[0m |\n",
      "| \u001b[0m134      \u001b[0m | \u001b[0m-0.02684 \u001b[0m | \u001b[0m0.5      \u001b[0m | \u001b[0m0.2      \u001b[0m | \u001b[0m3.0      \u001b[0m | \u001b[0m10.0     \u001b[0m | \u001b[0m368.8    \u001b[0m | \u001b[0m16.0     \u001b[0m | \u001b[0m1.0      \u001b[0m |\n"
     ]
    },
    {
     "name": "stdout",
     "output_type": "stream",
     "text": [
      "| \u001b[0m135      \u001b[0m | \u001b[0m-0.03377 \u001b[0m | \u001b[0m0.5      \u001b[0m | \u001b[0m0.2      \u001b[0m | \u001b[0m3.0      \u001b[0m | \u001b[0m1.0      \u001b[0m | \u001b[0m658.1    \u001b[0m | \u001b[0m2.0      \u001b[0m | \u001b[0m0.5      \u001b[0m |\n",
      "| \u001b[0m136      \u001b[0m | \u001b[0m-0.2363  \u001b[0m | \u001b[0m1.0      \u001b[0m | \u001b[0m0.0005   \u001b[0m | \u001b[0m10.0     \u001b[0m | \u001b[0m1.0      \u001b[0m | \u001b[0m571.9    \u001b[0m | \u001b[0m2.0      \u001b[0m | \u001b[0m1.0      \u001b[0m |\n",
      "| \u001b[0m137      \u001b[0m | \u001b[0m-0.02663 \u001b[0m | \u001b[0m1.0      \u001b[0m | \u001b[0m0.2      \u001b[0m | \u001b[0m3.0      \u001b[0m | \u001b[0m9.22     \u001b[0m | \u001b[0m741.8    \u001b[0m | \u001b[0m16.0     \u001b[0m | \u001b[0m0.5      \u001b[0m |\n",
      "| \u001b[0m138      \u001b[0m | \u001b[0m-0.1015  \u001b[0m | \u001b[0m0.8237   \u001b[0m | \u001b[0m0.002931 \u001b[0m | \u001b[0m9.689    \u001b[0m | \u001b[0m5.662    \u001b[0m | \u001b[0m423.0    \u001b[0m | \u001b[0m8.217    \u001b[0m | \u001b[0m0.5088   \u001b[0m |\n",
      "| \u001b[0m139      \u001b[0m | \u001b[0m-0.02669 \u001b[0m | \u001b[0m0.7459   \u001b[0m | \u001b[0m0.1912   \u001b[0m | \u001b[0m3.366    \u001b[0m | \u001b[0m1.816    \u001b[0m | \u001b[0m723.8    \u001b[0m | \u001b[0m6.795    \u001b[0m | \u001b[0m0.7454   \u001b[0m |\n",
      "| \u001b[0m140      \u001b[0m | \u001b[0m-0.0267  \u001b[0m | \u001b[0m0.6304   \u001b[0m | \u001b[0m0.06885  \u001b[0m | \u001b[0m3.205    \u001b[0m | \u001b[0m9.204    \u001b[0m | \u001b[0m965.9    \u001b[0m | \u001b[0m6.351    \u001b[0m | \u001b[0m0.9599   \u001b[0m |\n",
      "| \u001b[0m141      \u001b[0m | \u001b[0m-0.02766 \u001b[0m | \u001b[0m1.0      \u001b[0m | \u001b[0m0.2      \u001b[0m | \u001b[0m10.0     \u001b[0m | \u001b[0m10.0     \u001b[0m | \u001b[0m964.8    \u001b[0m | \u001b[0m11.81    \u001b[0m | \u001b[0m1.0      \u001b[0m |\n",
      "| \u001b[0m142      \u001b[0m | \u001b[0m-0.02652 \u001b[0m | \u001b[0m0.5      \u001b[0m | \u001b[0m0.1935   \u001b[0m | \u001b[0m10.0     \u001b[0m | \u001b[0m7.282    \u001b[0m | \u001b[0m870.9    \u001b[0m | \u001b[0m6.492    \u001b[0m | \u001b[0m1.0      \u001b[0m |\n",
      "| \u001b[0m143      \u001b[0m | \u001b[0m-0.02771 \u001b[0m | \u001b[0m1.0      \u001b[0m | \u001b[0m0.2      \u001b[0m | \u001b[0m10.0     \u001b[0m | \u001b[0m1.0      \u001b[0m | \u001b[0m407.3    \u001b[0m | \u001b[0m16.0     \u001b[0m | \u001b[0m0.5      \u001b[0m |\n",
      "| \u001b[0m144      \u001b[0m | \u001b[0m-0.1999  \u001b[0m | \u001b[0m0.5      \u001b[0m | \u001b[0m0.0005   \u001b[0m | \u001b[0m3.0      \u001b[0m | \u001b[0m1.0      \u001b[0m | \u001b[0m843.3    \u001b[0m | \u001b[0m4.311    \u001b[0m | \u001b[0m0.5      \u001b[0m |\n",
      "| \u001b[0m145      \u001b[0m | \u001b[0m-0.02794 \u001b[0m | \u001b[0m0.8799   \u001b[0m | \u001b[0m0.0483   \u001b[0m | \u001b[0m4.03     \u001b[0m | \u001b[0m9.857    \u001b[0m | \u001b[0m859.6    \u001b[0m | \u001b[0m6.102    \u001b[0m | \u001b[0m0.6948   \u001b[0m |\n",
      "| \u001b[0m146      \u001b[0m | \u001b[0m-0.1785  \u001b[0m | \u001b[0m1.0      \u001b[0m | \u001b[0m0.0005   \u001b[0m | \u001b[0m3.0      \u001b[0m | \u001b[0m10.0     \u001b[0m | \u001b[0m869.1    \u001b[0m | \u001b[0m13.54    \u001b[0m | \u001b[0m1.0      \u001b[0m |\n",
      "| \u001b[0m147      \u001b[0m | \u001b[0m-0.02629 \u001b[0m | \u001b[0m0.925    \u001b[0m | \u001b[0m0.07966  \u001b[0m | \u001b[0m9.689    \u001b[0m | \u001b[0m6.286    \u001b[0m | \u001b[0m857.1    \u001b[0m | \u001b[0m7.55     \u001b[0m | \u001b[0m0.7829   \u001b[0m |\n",
      "| \u001b[0m148      \u001b[0m | \u001b[0m-0.02777 \u001b[0m | \u001b[0m1.0      \u001b[0m | \u001b[0m0.2      \u001b[0m | \u001b[0m10.0     \u001b[0m | \u001b[0m8.453    \u001b[0m | \u001b[0m643.6    \u001b[0m | \u001b[0m13.56    \u001b[0m | \u001b[0m1.0      \u001b[0m |\n",
      "| \u001b[0m149      \u001b[0m | \u001b[0m-0.02753 \u001b[0m | \u001b[0m0.8973   \u001b[0m | \u001b[0m0.1485   \u001b[0m | \u001b[0m3.287    \u001b[0m | \u001b[0m3.441    \u001b[0m | \u001b[0m363.2    \u001b[0m | \u001b[0m9.4      \u001b[0m | \u001b[0m0.5203   \u001b[0m |\n",
      "| \u001b[0m150      \u001b[0m | \u001b[0m-0.02777 \u001b[0m | \u001b[0m0.7487   \u001b[0m | \u001b[0m0.02833  \u001b[0m | \u001b[0m4.221    \u001b[0m | \u001b[0m1.614    \u001b[0m | \u001b[0m961.3    \u001b[0m | \u001b[0m9.566    \u001b[0m | \u001b[0m0.7137   \u001b[0m |\n",
      "| \u001b[0m151      \u001b[0m | \u001b[0m-0.03251 \u001b[0m | \u001b[0m0.5      \u001b[0m | \u001b[0m0.2      \u001b[0m | \u001b[0m4.556    \u001b[0m | \u001b[0m1.733    \u001b[0m | \u001b[0m869.8    \u001b[0m | \u001b[0m2.0      \u001b[0m | \u001b[0m0.5      \u001b[0m |\n",
      "| \u001b[0m152      \u001b[0m | \u001b[0m-0.027   \u001b[0m | \u001b[0m1.0      \u001b[0m | \u001b[0m0.2      \u001b[0m | \u001b[0m10.0     \u001b[0m | \u001b[0m6.543    \u001b[0m | \u001b[0m734.0    \u001b[0m | \u001b[0m9.475    \u001b[0m | \u001b[0m0.5      \u001b[0m |\n",
      "| \u001b[0m153      \u001b[0m | \u001b[0m-0.2274  \u001b[0m | \u001b[0m1.0      \u001b[0m | \u001b[0m0.0005   \u001b[0m | \u001b[0m10.0     \u001b[0m | \u001b[0m1.0      \u001b[0m | \u001b[0m727.9    \u001b[0m | \u001b[0m2.0      \u001b[0m | \u001b[0m1.0      \u001b[0m |\n",
      "| \u001b[0m154      \u001b[0m | \u001b[0m-0.02741 \u001b[0m | \u001b[0m0.9361   \u001b[0m | \u001b[0m0.08936  \u001b[0m | \u001b[0m3.019    \u001b[0m | \u001b[0m7.827    \u001b[0m | \u001b[0m717.7    \u001b[0m | \u001b[0m5.112    \u001b[0m | \u001b[0m0.5054   \u001b[0m |\n",
      "| \u001b[0m155      \u001b[0m | \u001b[0m-0.03253 \u001b[0m | \u001b[0m0.5      \u001b[0m | \u001b[0m0.2      \u001b[0m | \u001b[0m10.0     \u001b[0m | \u001b[0m9.343    \u001b[0m | \u001b[0m864.2    \u001b[0m | \u001b[0m2.0      \u001b[0m | \u001b[0m0.5      \u001b[0m |\n",
      "| \u001b[0m156      \u001b[0m | \u001b[0m-0.02769 \u001b[0m | \u001b[0m0.5      \u001b[0m | \u001b[0m0.2      \u001b[0m | \u001b[0m10.0     \u001b[0m | \u001b[0m1.0      \u001b[0m | \u001b[0m858.8    \u001b[0m | \u001b[0m14.83    \u001b[0m | \u001b[0m0.5      \u001b[0m |\n",
      "| \u001b[0m157      \u001b[0m | \u001b[0m-0.02706 \u001b[0m | \u001b[0m0.7894   \u001b[0m | \u001b[0m0.1287   \u001b[0m | \u001b[0m9.669    \u001b[0m | \u001b[0m6.263    \u001b[0m | \u001b[0m841.1    \u001b[0m | \u001b[0m15.55    \u001b[0m | \u001b[0m0.7968   \u001b[0m |\n",
      "| \u001b[0m158      \u001b[0m | \u001b[0m-0.0277  \u001b[0m | \u001b[0m1.0      \u001b[0m | \u001b[0m0.2      \u001b[0m | \u001b[0m10.0     \u001b[0m | \u001b[0m10.0     \u001b[0m | \u001b[0m412.7    \u001b[0m | \u001b[0m16.0     \u001b[0m | \u001b[0m0.5      \u001b[0m |\n",
      "| \u001b[0m159      \u001b[0m | \u001b[0m-0.1969  \u001b[0m | \u001b[0m0.5      \u001b[0m | \u001b[0m0.0005   \u001b[0m | \u001b[0m3.0      \u001b[0m | \u001b[0m1.0      \u001b[0m | \u001b[0m723.8    \u001b[0m | \u001b[0m16.0     \u001b[0m | \u001b[0m1.0      \u001b[0m |\n",
      "| \u001b[0m160      \u001b[0m | \u001b[0m-0.02727 \u001b[0m | \u001b[0m0.7695   \u001b[0m | \u001b[0m0.08636  \u001b[0m | \u001b[0m8.48     \u001b[0m | \u001b[0m3.859    \u001b[0m | \u001b[0m411.9    \u001b[0m | \u001b[0m10.46    \u001b[0m | \u001b[0m0.6683   \u001b[0m |\n",
      "| \u001b[0m161      \u001b[0m | \u001b[0m-0.02694 \u001b[0m | \u001b[0m1.0      \u001b[0m | \u001b[0m0.2      \u001b[0m | \u001b[0m3.0      \u001b[0m | \u001b[0m1.828    \u001b[0m | \u001b[0m392.8    \u001b[0m | \u001b[0m11.29    \u001b[0m | \u001b[0m0.9552   \u001b[0m |\n",
      "| \u001b[0m162      \u001b[0m | \u001b[0m-0.02712 \u001b[0m | \u001b[0m0.7326   \u001b[0m | \u001b[0m0.07562  \u001b[0m | \u001b[0m3.208    \u001b[0m | \u001b[0m3.771    \u001b[0m | \u001b[0m652.8    \u001b[0m | \u001b[0m8.359    \u001b[0m | \u001b[0m0.6317   \u001b[0m |\n",
      "| \u001b[0m163      \u001b[0m | \u001b[0m-0.02674 \u001b[0m | \u001b[0m0.5      \u001b[0m | \u001b[0m0.2      \u001b[0m | \u001b[0m10.0     \u001b[0m | \u001b[0m1.0      \u001b[0m | \u001b[0m865.7    \u001b[0m | \u001b[0m9.145    \u001b[0m | \u001b[0m0.5      \u001b[0m |\n",
      "| \u001b[0m164      \u001b[0m | \u001b[0m-0.02624 \u001b[0m | \u001b[0m0.8853   \u001b[0m | \u001b[0m0.08113  \u001b[0m | \u001b[0m9.591    \u001b[0m | \u001b[0m9.138    \u001b[0m | \u001b[0m808.9    \u001b[0m | \u001b[0m11.54    \u001b[0m | \u001b[0m0.5151   \u001b[0m |\n",
      "| \u001b[0m165      \u001b[0m | \u001b[0m-0.02701 \u001b[0m | \u001b[0m0.8332   \u001b[0m | \u001b[0m0.1588   \u001b[0m | \u001b[0m9.852    \u001b[0m | \u001b[0m9.106    \u001b[0m | \u001b[0m727.6    \u001b[0m | \u001b[0m13.57    \u001b[0m | \u001b[0m0.791    \u001b[0m |\n",
      "| \u001b[0m166      \u001b[0m | \u001b[0m-0.02704 \u001b[0m | \u001b[0m1.0      \u001b[0m | \u001b[0m0.2      \u001b[0m | \u001b[0m10.0     \u001b[0m | \u001b[0m10.0     \u001b[0m | \u001b[0m846.0    \u001b[0m | \u001b[0m8.985    \u001b[0m | \u001b[0m1.0      \u001b[0m |\n",
      "| \u001b[0m167      \u001b[0m | \u001b[0m-0.1834  \u001b[0m | \u001b[0m1.0      \u001b[0m | \u001b[0m0.0005   \u001b[0m | \u001b[0m3.0      \u001b[0m | \u001b[0m3.343    \u001b[0m | \u001b[0m810.0    \u001b[0m | \u001b[0m12.49    \u001b[0m | \u001b[0m1.0      \u001b[0m |\n",
      "| \u001b[0m168      \u001b[0m | \u001b[0m-0.02643 \u001b[0m | \u001b[0m0.7291   \u001b[0m | \u001b[0m0.1037   \u001b[0m | \u001b[0m8.617    \u001b[0m | \u001b[0m8.859    \u001b[0m | \u001b[0m800.1    \u001b[0m | \u001b[0m12.86    \u001b[0m | \u001b[0m0.8316   \u001b[0m |\n",
      "| \u001b[0m169      \u001b[0m | \u001b[0m-0.02778 \u001b[0m | \u001b[0m0.8932   \u001b[0m | \u001b[0m0.1046   \u001b[0m | \u001b[0m3.452    \u001b[0m | \u001b[0m9.838    \u001b[0m | \u001b[0m414.2    \u001b[0m | \u001b[0m9.839    \u001b[0m | \u001b[0m0.9907   \u001b[0m |\n",
      "| \u001b[0m170      \u001b[0m | \u001b[0m-0.02673 \u001b[0m | \u001b[0m1.0      \u001b[0m | \u001b[0m0.2      \u001b[0m | \u001b[0m3.0      \u001b[0m | \u001b[0m1.0      \u001b[0m | \u001b[0m712.5    \u001b[0m | \u001b[0m7.041    \u001b[0m | \u001b[0m1.0      \u001b[0m |\n",
      "| \u001b[0m171      \u001b[0m | \u001b[0m-0.02793 \u001b[0m | \u001b[0m0.5      \u001b[0m | \u001b[0m0.2      \u001b[0m | \u001b[0m10.0     \u001b[0m | \u001b[0m1.62     \u001b[0m | \u001b[0m736.1    \u001b[0m | \u001b[0m16.0     \u001b[0m | \u001b[0m0.5      \u001b[0m |\n",
      "| \u001b[0m172      \u001b[0m | \u001b[0m-0.0328  \u001b[0m | \u001b[0m0.5      \u001b[0m | \u001b[0m0.2      \u001b[0m | \u001b[0m10.0     \u001b[0m | \u001b[0m10.0     \u001b[0m | \u001b[0m810.8    \u001b[0m | \u001b[0m2.372    \u001b[0m | \u001b[0m0.5      \u001b[0m |\n",
      "| \u001b[0m173      \u001b[0m | \u001b[0m-0.2154  \u001b[0m | \u001b[0m1.0      \u001b[0m | \u001b[0m0.0005   \u001b[0m | \u001b[0m10.0     \u001b[0m | \u001b[0m7.065    \u001b[0m | \u001b[0m967.0    \u001b[0m | \u001b[0m2.0      \u001b[0m | \u001b[0m1.0      \u001b[0m |\n",
      "| \u001b[0m174      \u001b[0m | \u001b[0m-0.02633 \u001b[0m | \u001b[0m0.5      \u001b[0m | \u001b[0m0.2      \u001b[0m | \u001b[0m3.0      \u001b[0m | \u001b[0m6.448    \u001b[0m | \u001b[0m974.1    \u001b[0m | \u001b[0m11.24    \u001b[0m | \u001b[0m1.0      \u001b[0m |\n",
      "| \u001b[95m175      \u001b[0m | \u001b[95m-0.02614 \u001b[0m | \u001b[95m0.5083   \u001b[0m | \u001b[95m0.08893  \u001b[0m | \u001b[95m8.349    \u001b[0m | \u001b[95m2.313    \u001b[0m | \u001b[95m970.5    \u001b[0m | \u001b[95m15.74    \u001b[0m | \u001b[95m0.7151   \u001b[0m |\n",
      "| \u001b[0m176      \u001b[0m | \u001b[0m-0.02709 \u001b[0m | \u001b[0m0.5      \u001b[0m | \u001b[0m0.2      \u001b[0m | \u001b[0m9.586    \u001b[0m | \u001b[0m5.019    \u001b[0m | \u001b[0m953.5    \u001b[0m | \u001b[0m10.19    \u001b[0m | \u001b[0m0.8306   \u001b[0m |\n",
      "| \u001b[0m177      \u001b[0m | \u001b[0m-0.02665 \u001b[0m | \u001b[0m0.7093   \u001b[0m | \u001b[0m0.1435   \u001b[0m | \u001b[0m7.122    \u001b[0m | \u001b[0m10.0     \u001b[0m | \u001b[0m949.3    \u001b[0m | \u001b[0m3.872    \u001b[0m | \u001b[0m0.8826   \u001b[0m |\n",
      "| \u001b[0m178      \u001b[0m | \u001b[0m-0.03342 \u001b[0m | \u001b[0m0.8328   \u001b[0m | \u001b[0m0.0194   \u001b[0m | \u001b[0m3.056    \u001b[0m | \u001b[0m9.772    \u001b[0m | \u001b[0m850.7    \u001b[0m | \u001b[0m12.62    \u001b[0m | \u001b[0m0.7122   \u001b[0m |\n",
      "| \u001b[0m179      \u001b[0m | \u001b[0m-0.02623 \u001b[0m | \u001b[0m0.5      \u001b[0m | \u001b[0m0.2      \u001b[0m | \u001b[0m3.0      \u001b[0m | \u001b[0m10.0     \u001b[0m | \u001b[0m724.1    \u001b[0m | \u001b[0m7.866    \u001b[0m | \u001b[0m1.0      \u001b[0m |\n"
     ]
    },
    {
     "name": "stdout",
     "output_type": "stream",
     "text": [
      "| \u001b[0m180      \u001b[0m | \u001b[0m-0.02623 \u001b[0m | \u001b[0m0.5      \u001b[0m | \u001b[0m0.2      \u001b[0m | \u001b[0m3.0      \u001b[0m | \u001b[0m10.0     \u001b[0m | \u001b[0m733.8    \u001b[0m | \u001b[0m9.232    \u001b[0m | \u001b[0m0.5      \u001b[0m |\n",
      "| \u001b[0m181      \u001b[0m | \u001b[0m-0.02622 \u001b[0m | \u001b[0m0.5      \u001b[0m | \u001b[0m0.2      \u001b[0m | \u001b[0m3.0      \u001b[0m | \u001b[0m10.0     \u001b[0m | \u001b[0m823.7    \u001b[0m | \u001b[0m9.17     \u001b[0m | \u001b[0m0.5      \u001b[0m |\n",
      "| \u001b[0m182      \u001b[0m | \u001b[0m-0.0351  \u001b[0m | \u001b[0m0.9677   \u001b[0m | \u001b[0m0.1038   \u001b[0m | \u001b[0m10.0     \u001b[0m | \u001b[0m1.661    \u001b[0m | \u001b[0m949.6    \u001b[0m | \u001b[0m2.0      \u001b[0m | \u001b[0m0.9112   \u001b[0m |\n",
      "| \u001b[0m183      \u001b[0m | \u001b[0m-0.02665 \u001b[0m | \u001b[0m1.0      \u001b[0m | \u001b[0m0.2      \u001b[0m | \u001b[0m3.0      \u001b[0m | \u001b[0m2.081    \u001b[0m | \u001b[0m630.1    \u001b[0m | \u001b[0m16.0     \u001b[0m | \u001b[0m1.0      \u001b[0m |\n",
      "| \u001b[0m184      \u001b[0m | \u001b[0m-0.02666 \u001b[0m | \u001b[0m1.0      \u001b[0m | \u001b[0m0.2      \u001b[0m | \u001b[0m3.0      \u001b[0m | \u001b[0m10.0     \u001b[0m | \u001b[0m624.9    \u001b[0m | \u001b[0m16.0     \u001b[0m | \u001b[0m1.0      \u001b[0m |\n",
      "| \u001b[0m185      \u001b[0m | \u001b[0m-0.0265  \u001b[0m | \u001b[0m0.9458   \u001b[0m | \u001b[0m0.07578  \u001b[0m | \u001b[0m9.013    \u001b[0m | \u001b[0m9.957    \u001b[0m | \u001b[0m834.1    \u001b[0m | \u001b[0m10.95    \u001b[0m | \u001b[0m0.7129   \u001b[0m |\n",
      "| \u001b[95m186      \u001b[0m | \u001b[95m-0.0261  \u001b[0m | \u001b[95m0.5534   \u001b[0m | \u001b[95m0.07009  \u001b[0m | \u001b[95m9.938    \u001b[0m | \u001b[95m1.618    \u001b[0m | \u001b[95m878.0    \u001b[0m | \u001b[95m15.09    \u001b[0m | \u001b[95m0.5714   \u001b[0m |\n",
      "| \u001b[0m187      \u001b[0m | \u001b[0m-0.02874 \u001b[0m | \u001b[0m0.6909   \u001b[0m | \u001b[0m0.04219  \u001b[0m | \u001b[0m3.293    \u001b[0m | \u001b[0m1.287    \u001b[0m | \u001b[0m773.5    \u001b[0m | \u001b[0m7.679    \u001b[0m | \u001b[0m0.9264   \u001b[0m |\n",
      "| \u001b[0m188      \u001b[0m | \u001b[0m-0.02696 \u001b[0m | \u001b[0m0.8082   \u001b[0m | \u001b[0m0.1266   \u001b[0m | \u001b[0m9.069    \u001b[0m | \u001b[0m9.659    \u001b[0m | \u001b[0m327.2    \u001b[0m | \u001b[0m15.82    \u001b[0m | \u001b[0m0.8198   \u001b[0m |\n",
      "| \u001b[0m189      \u001b[0m | \u001b[0m-0.02877 \u001b[0m | \u001b[0m0.9951   \u001b[0m | \u001b[0m0.1039   \u001b[0m | \u001b[0m3.298    \u001b[0m | \u001b[0m3.502    \u001b[0m | \u001b[0m323.9    \u001b[0m | \u001b[0m15.92    \u001b[0m | \u001b[0m0.877    \u001b[0m |\n",
      "| \u001b[0m190      \u001b[0m | \u001b[0m-0.02889 \u001b[0m | \u001b[0m0.8563   \u001b[0m | \u001b[0m0.07299  \u001b[0m | \u001b[0m9.654    \u001b[0m | \u001b[0m1.98     \u001b[0m | \u001b[0m325.7    \u001b[0m | \u001b[0m8.318    \u001b[0m | \u001b[0m0.7125   \u001b[0m |\n",
      "| \u001b[0m191      \u001b[0m | \u001b[0m-0.1924  \u001b[0m | \u001b[0m0.5      \u001b[0m | \u001b[0m0.0005   \u001b[0m | \u001b[0m3.0      \u001b[0m | \u001b[0m4.015    \u001b[0m | \u001b[0m953.9    \u001b[0m | \u001b[0m4.349    \u001b[0m | \u001b[0m0.5      \u001b[0m |\n",
      "| \u001b[0m192      \u001b[0m | \u001b[0m-0.0265  \u001b[0m | \u001b[0m0.6697   \u001b[0m | \u001b[0m0.04831  \u001b[0m | \u001b[0m9.011    \u001b[0m | \u001b[0m9.623    \u001b[0m | \u001b[0m771.9    \u001b[0m | \u001b[0m11.85    \u001b[0m | \u001b[0m0.6962   \u001b[0m |\n",
      "| \u001b[0m193      \u001b[0m | \u001b[0m-0.02678 \u001b[0m | \u001b[0m1.0      \u001b[0m | \u001b[0m0.2      \u001b[0m | \u001b[0m3.0      \u001b[0m | \u001b[0m1.0      \u001b[0m | \u001b[0m964.6    \u001b[0m | \u001b[0m16.0     \u001b[0m | \u001b[0m0.5      \u001b[0m |\n",
      "| \u001b[0m194      \u001b[0m | \u001b[0m-0.02674 \u001b[0m | \u001b[0m0.5      \u001b[0m | \u001b[0m0.2      \u001b[0m | \u001b[0m3.0      \u001b[0m | \u001b[0m10.0     \u001b[0m | \u001b[0m399.8    \u001b[0m | \u001b[0m16.0     \u001b[0m | \u001b[0m0.5      \u001b[0m |\n",
      "| \u001b[0m195      \u001b[0m | \u001b[0m-0.02709 \u001b[0m | \u001b[0m0.6981   \u001b[0m | \u001b[0m0.1542   \u001b[0m | \u001b[0m3.365    \u001b[0m | \u001b[0m1.284    \u001b[0m | \u001b[0m421.1    \u001b[0m | \u001b[0m15.15    \u001b[0m | \u001b[0m0.5242   \u001b[0m |\n",
      "| \u001b[0m196      \u001b[0m | \u001b[0m-0.2273  \u001b[0m | \u001b[0m0.5      \u001b[0m | \u001b[0m0.0005   \u001b[0m | \u001b[0m3.0      \u001b[0m | \u001b[0m4.172    \u001b[0m | \u001b[0m763.1    \u001b[0m | \u001b[0m2.0      \u001b[0m | \u001b[0m1.0      \u001b[0m |\n",
      "| \u001b[0m197      \u001b[0m | \u001b[0m-0.02988 \u001b[0m | \u001b[0m0.5847   \u001b[0m | \u001b[0m0.04288  \u001b[0m | \u001b[0m8.75     \u001b[0m | \u001b[0m6.817    \u001b[0m | \u001b[0m777.7    \u001b[0m | \u001b[0m4.733    \u001b[0m | \u001b[0m0.8479   \u001b[0m |\n",
      "| \u001b[0m198      \u001b[0m | \u001b[0m-0.2223  \u001b[0m | \u001b[0m1.0      \u001b[0m | \u001b[0m0.0005   \u001b[0m | \u001b[0m10.0     \u001b[0m | \u001b[0m10.0     \u001b[0m | \u001b[0m826.2    \u001b[0m | \u001b[0m2.307    \u001b[0m | \u001b[0m1.0      \u001b[0m |\n",
      "| \u001b[0m199      \u001b[0m | \u001b[0m-0.02739 \u001b[0m | \u001b[0m1.0      \u001b[0m | \u001b[0m0.2      \u001b[0m | \u001b[0m8.253    \u001b[0m | \u001b[0m6.784    \u001b[0m | \u001b[0m395.3    \u001b[0m | \u001b[0m16.0     \u001b[0m | \u001b[0m1.0      \u001b[0m |\n",
      "| \u001b[0m200      \u001b[0m | \u001b[0m-0.0263  \u001b[0m | \u001b[0m0.5      \u001b[0m | \u001b[0m0.2      \u001b[0m | \u001b[0m3.0      \u001b[0m | \u001b[0m10.0     \u001b[0m | \u001b[0m631.6    \u001b[0m | \u001b[0m10.2     \u001b[0m | \u001b[0m0.5      \u001b[0m |\n",
      "| \u001b[0m201      \u001b[0m | \u001b[0m-0.04284 \u001b[0m | \u001b[0m0.9243   \u001b[0m | \u001b[0m0.008907 \u001b[0m | \u001b[0m9.812    \u001b[0m | \u001b[0m9.645    \u001b[0m | \u001b[0m369.1    \u001b[0m | \u001b[0m15.99    \u001b[0m | \u001b[0m0.7056   \u001b[0m |\n",
      "| \u001b[0m202      \u001b[0m | \u001b[0m-0.03404 \u001b[0m | \u001b[0m0.6674   \u001b[0m | \u001b[0m0.009535 \u001b[0m | \u001b[0m9.704    \u001b[0m | \u001b[0m1.819    \u001b[0m | \u001b[0m650.1    \u001b[0m | \u001b[0m13.13    \u001b[0m | \u001b[0m0.5876   \u001b[0m |\n",
      "| \u001b[0m203      \u001b[0m | \u001b[0m-0.02782 \u001b[0m | \u001b[0m0.5      \u001b[0m | \u001b[0m0.2      \u001b[0m | \u001b[0m10.0     \u001b[0m | \u001b[0m10.0     \u001b[0m | \u001b[0m620.1    \u001b[0m | \u001b[0m16.0     \u001b[0m | \u001b[0m1.0      \u001b[0m |\n",
      "| \u001b[0m204      \u001b[0m | \u001b[0m-0.02857 \u001b[0m | \u001b[0m0.5108   \u001b[0m | \u001b[0m0.03643  \u001b[0m | \u001b[0m9.626    \u001b[0m | \u001b[0m1.91     \u001b[0m | \u001b[0m360.3    \u001b[0m | \u001b[0m15.41    \u001b[0m | \u001b[0m0.8818   \u001b[0m |\n",
      "| \u001b[0m205      \u001b[0m | \u001b[0m-0.02758 \u001b[0m | \u001b[0m1.0      \u001b[0m | \u001b[0m0.2      \u001b[0m | \u001b[0m10.0     \u001b[0m | \u001b[0m10.0     \u001b[0m | \u001b[0m946.2    \u001b[0m | \u001b[0m10.32    \u001b[0m | \u001b[0m1.0      \u001b[0m |\n",
      "| \u001b[0m206      \u001b[0m | \u001b[0m-0.02687 \u001b[0m | \u001b[0m0.5      \u001b[0m | \u001b[0m0.2      \u001b[0m | \u001b[0m10.0     \u001b[0m | \u001b[0m6.055    \u001b[0m | \u001b[0m554.8    \u001b[0m | \u001b[0m6.818    \u001b[0m | \u001b[0m0.5      \u001b[0m |\n",
      "| \u001b[0m207      \u001b[0m | \u001b[0m-0.03211 \u001b[0m | \u001b[0m0.8671   \u001b[0m | \u001b[0m0.06048  \u001b[0m | \u001b[0m3.993    \u001b[0m | \u001b[0m7.116    \u001b[0m | \u001b[0m547.7    \u001b[0m | \u001b[0m3.954    \u001b[0m | \u001b[0m0.5964   \u001b[0m |\n",
      "| \u001b[0m208      \u001b[0m | \u001b[0m-0.02683 \u001b[0m | \u001b[0m0.509    \u001b[0m | \u001b[0m0.05603  \u001b[0m | \u001b[0m4.869    \u001b[0m | \u001b[0m1.373    \u001b[0m | \u001b[0m552.3    \u001b[0m | \u001b[0m11.8     \u001b[0m | \u001b[0m0.9746   \u001b[0m |\n",
      "| \u001b[0m209      \u001b[0m | \u001b[0m-0.03297 \u001b[0m | \u001b[0m0.5003   \u001b[0m | \u001b[0m0.2      \u001b[0m | \u001b[0m3.0      \u001b[0m | \u001b[0m10.0     \u001b[0m | \u001b[0m780.8    \u001b[0m | \u001b[0m2.0      \u001b[0m | \u001b[0m0.5      \u001b[0m |\n",
      "| \u001b[0m210      \u001b[0m | \u001b[0m-0.0267  \u001b[0m | \u001b[0m0.6651   \u001b[0m | \u001b[0m0.1307   \u001b[0m | \u001b[0m8.776    \u001b[0m | \u001b[0m8.681    \u001b[0m | \u001b[0m547.3    \u001b[0m | \u001b[0m13.05    \u001b[0m | \u001b[0m0.8685   \u001b[0m |\n",
      "=============================================================================================================\n"
     ]
    }
   ],
   "source": [
    "pbounds = { 'learning_rate': (0.0005, 0.2),\n",
    "            'n_estimators': (16, 1024),\n",
    "            'max_depth': (3,10),   \n",
    "            'subsample': (0.5,1), \n",
    "            'colsample_bytree': (0.5,1),   \n",
    "            'num_leaves': (2,16),\n",
    "            'min_child_weight': (1, 10)}\n",
    "\n",
    "\n",
    "def lgbm_opt(learning_rate, n_estimators, max_depth, subsample, colsample_bytree, num_leaves, min_child_weight):\n",
    "\n",
    "    params = {\n",
    "        'learning_rate': learning_rate,\n",
    "        'n_estimators' : int(round(n_estimators)),\n",
    "        'max_depth' : int(round(max_depth)),\n",
    "        'subsample': subsample,\n",
    "        'colsample_bytree' : colsample_bytree,\n",
    "        'num_leaves' : int(round(num_leaves)),\n",
    "        'min_child_weight' : min_child_weight,\n",
    "        'n_jobs' : -1\n",
    "    }\n",
    "    \n",
    "    lgbm = lgb.LGBMRegressor(**params)\n",
    "    \n",
    "    kf = KFold(n_splits=5 , shuffle=True, random_state=50)\n",
    "\n",
    "    score = cross_val_score(lgbm, X_train, y_train, scoring='neg_mean_squared_error', cv=kf, n_jobs=-1)\n",
    "    \n",
    "    return np.mean(score)\n",
    "                   \n",
    "BO_lgbm = BayesianOptimization(f = lgbm_opt, pbounds = pbounds, random_state=RANDOM_SEED, verbose=2) \n",
    "\n",
    "BO_lgbm.maximize(init_points=10, n_iter = 200)\n",
    "\n",
    "BO_lgbm.max\n",
    "\n",
    "params = BO_lgbm.max['params']\n",
    "params['max_depth'] = int(round(params['max_depth']))\n",
    "params['n_estimators'] = int(round(params['n_estimators']))\n",
    "params['num_leaves'] = int(round(params['num_leaves']))\n",
    "\n",
    "lgbm = lgb.LGBMRegressor(seed = RANDOM_SEED, **params)\n",
    "lgbm.fit(X_train, y_train)\n",
    "\n",
    "\n",
    "pred_lgbm = np.expm1(lgbm.predict(X_test))"
   ]
  },
  {
   "cell_type": "code",
   "execution_count": 24,
   "metadata": {},
   "outputs": [
    {
     "data": {
      "text/plain": [
       "array([ 516412.82681629,  484104.37714833, 1313749.20186284, ...,\n",
       "        464876.10463881,  322488.57858796,  435345.49672596])"
      ]
     },
     "execution_count": 24,
     "metadata": {},
     "output_type": "execute_result"
    }
   ],
   "source": [
    "pred_lgbm"
   ]
  },
  {
   "cell_type": "code",
   "execution_count": 26,
   "metadata": {},
   "outputs": [],
   "source": [
    "sub = pd.read_csv(\"kaggle-kakr-housing-data/sample_submission.csv\")\n",
    "sub[\"price\"] = pred_lgbm\n",
    "sub.to_csv(\"submission_last2.csv\",index=False)"
   ]
  },
  {
   "cell_type": "code",
   "execution_count": null,
   "metadata": {},
   "outputs": [],
   "source": []
  }
 ],
 "metadata": {
  "kernelspec": {
   "display_name": "Python 3 (ipykernel)",
   "language": "python",
   "name": "python3"
  },
  "language_info": {
   "codemirror_mode": {
    "name": "ipython",
    "version": 3
   },
   "file_extension": ".py",
   "mimetype": "text/x-python",
   "name": "python",
   "nbconvert_exporter": "python",
   "pygments_lexer": "ipython3",
   "version": "3.9.16"
  }
 },
 "nbformat": 4,
 "nbformat_minor": 2
}
