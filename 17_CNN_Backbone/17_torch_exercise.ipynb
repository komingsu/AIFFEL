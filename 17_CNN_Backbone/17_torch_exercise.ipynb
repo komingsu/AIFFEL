{
 "cells": [
  {
   "cell_type": "code",
   "execution_count": 2,
   "id": "3a2b2f17",
   "metadata": {
    "ExecuteTime": {
     "end_time": "2023-05-30T01:34:19.831618Z",
     "start_time": "2023-05-30T01:34:19.820186Z"
    }
   },
   "outputs": [
    {
     "name": "stdout",
     "output_type": "stream",
     "text": [
      "torch 2.0.1+cu118\n",
      "torchvision 0.15.2+cu118\n",
      "1.3.0\n",
      "cv2 4.7.0\n"
     ]
    }
   ],
   "source": [
    "import torch;print(torch.__name__, torch.__version__)\n",
    "import torchvision;print(torchvision.__name__, torchvision.__version__)\n",
    "import albumentations as A;print(A.__version__)\n",
    "import torchvision.transforms as transforms\n",
    "import cv2;print(cv2.__name__, cv2.__version__)"
   ]
  },
  {
   "cell_type": "code",
   "execution_count": 8,
   "id": "76a123f5",
   "metadata": {
    "ExecuteTime": {
     "end_time": "2023-05-30T01:34:47.621859Z",
     "start_time": "2023-05-30T01:34:46.253241Z"
    }
   },
   "outputs": [
    {
     "name": "stdout",
     "output_type": "stream",
     "text": [
      "Files already downloaded and verified\n",
      "Files already downloaded and verified\n"
     ]
    }
   ],
   "source": [
    "# Compose : tensorflow, torch의 torchvision 과 같은 효과\n",
    "\n",
    "# ToTensor\n",
    "# Convert a PIL Image or ndarray to tensor and scale the values accordingly.\n",
    "# numpy.ndarray (H x W x C) range[0, 255] -> Tensor (C x H x W) range [0.0, 1.0] \n",
    "\n",
    "# Normalize\n",
    "# 보통은 transforms.Normalize((0.485, 0.456, 0.406), (0.229, 0.224, 0.225))를 사용\n",
    "# 혹은 직접 평균, 편차를 구하여 계산\n",
    "def calculate_norm(dataset):\n",
    "    # dataset의 axis=1, 2에 대한 평균 산출\n",
    "    mean_ = np.array([np.mean(x.numpy(), axis=(1, 2)) for x, _ in dataset])\n",
    "    # r, g, b 채널에 대한 각각의 평균 산출\n",
    "    mean_r = mean_[:, 0].mean()\n",
    "    mean_g = mean_[:, 1].mean()\n",
    "    mean_b = mean_[:, 2].mean()\n",
    "\n",
    "    # dataset의 axis=1, 2에 대한 표준편차 산출\n",
    "    std_ = np.array([np.std(x.numpy(), axis=(1, 2)) for x, _ in dataset])\n",
    "    # r, g, b 채널에 대한 각각의 표준편차 산출\n",
    "    std_r = std_[:, 0].mean()\n",
    "    std_g = std_[:, 1].mean()\n",
    "    std_b = std_[:, 2].mean()\n",
    "    \n",
    "    return (mean_r, mean_g, mean_b), (std_r, std_g, std_b)\n",
    "# 0.5를 뺀 뒤 0.5로 나누어 정규화\n",
    "\n",
    "transform = transforms.Compose(\n",
    "    [transforms.ToTensor(), # 0~1의 범위를 가지도록 정규화\n",
    "    transforms.Normalize((0.5, 0.5, 0.5), (0.5, 0.5, 0.5))] # -1~1의 범위를 가지도록 정규화 (standard)\n",
    ")\n",
    "\n",
    "BATCH_SIZE = 4\n",
    "\n",
    "trainset = torchvision.datasets.CIFAR10(root=\"../data/ex17\", train=True,download=True,transform=transform)\n",
    "testset = torchvision.datasets.CIFAR10(root=\"../data/ex17\", train=False,download=True,transform=transform)\n",
    "\n",
    "# tensorflow의 dataset 개념과 비슷?\n",
    "# num_workers의 default는 0인데 왜 2로 세팅하는지 check\n",
    "trainloader = torch.utils.data.DataLoader(trainset, batch_size=BATCH_SIZE, shuffle=True, num_workers=2)\n",
    "testloader = torch.utils.data.DataLoader(testset, batch_size=BATCH_SIZE, shuffle=False, num_workers=2)\n",
    "\n",
    "classes = ('plane', 'car', 'bird', 'cat',\n",
    "           'deer', 'dog', 'frog', 'horse', 'ship', 'truck')"
   ]
  },
  {
   "cell_type": "code",
   "execution_count": 9,
   "id": "136334ac",
   "metadata": {
    "ExecuteTime": {
     "end_time": "2023-05-30T01:34:49.041419Z",
     "start_time": "2023-05-30T01:34:49.025792Z"
    }
   },
   "outputs": [
    {
     "name": "stdout",
     "output_type": "stream",
     "text": [
      "torch.Size([3, 32, 32])\n",
      "<class 'int'>\n"
     ]
    }
   ],
   "source": [
    "for image, label in trainset:\n",
    "    print(image.size())\n",
    "    print(type(label))\n",
    "    break"
   ]
  },
  {
   "cell_type": "code",
   "execution_count": 10,
   "id": "bd5be95f",
   "metadata": {
    "ExecuteTime": {
     "end_time": "2023-05-30T01:34:56.566036Z",
     "start_time": "2023-05-30T01:34:50.034644Z"
    }
   },
   "outputs": [
    {
     "data": {
      "image/png": "[encoded data removed]",
      "text/plain": [
       "<Figure size 640x480 with 1 Axes>"
      ]
     },
     "metadata": {},
     "output_type": "display_data"
    },
    {
     "name": "stdout",
     "output_type": "stream",
     "text": [
      "plane car   ship  ship \n"
     ]
    }
   ],
   "source": [
    "import matplotlib.pyplot as plt\n",
    "import numpy as np\n",
    "\n",
    "def imshow(img):\n",
    "    img = img / 2 + 0.5\n",
    "    img = img.numpy()\n",
    "    plt.imshow(np.transpose(img, (1,2,0)))\n",
    "    plt.show()\n",
    "    \n",
    "data_iter = iter(trainloader)\n",
    "images, labels = next(data_iter)\n",
    "\n",
    "imshow(torchvision.utils.make_grid(images, padding=0))\n",
    "\n",
    "print(' '.join(f\"{classes[labels[j]]:5s}\" for j in range(BATCH_SIZE)))"
   ]
  },
  {
   "cell_type": "code",
   "execution_count": null,
   "id": "ee909b09",
   "metadata": {},
   "outputs": [],
   "source": []
  },
  {
   "cell_type": "code",
   "execution_count": 11,
   "id": "ca92f4da",
   "metadata": {
    "ExecuteTime": {
     "end_time": "2023-05-30T01:34:58.131715Z",
     "start_time": "2023-05-30T01:34:58.113656Z"
    }
   },
   "outputs": [
    {
     "data": {
      "text/plain": [
       "Net(\n",
       "  (conv1): Conv2d(3, 6, kernel_size=(5, 5), stride=(1, 1))\n",
       "  (pool): MaxPool2d(kernel_size=2, stride=2, padding=0, dilation=1, ceil_mode=False)\n",
       "  (conv2): Conv2d(6, 16, kernel_size=(5, 5), stride=(1, 1))\n",
       "  (fc1): Linear(in_features=400, out_features=120, bias=True)\n",
       "  (fc2): Linear(in_features=120, out_features=84, bias=True)\n",
       "  (fc3): Linear(in_features=84, out_features=10, bias=True)\n",
       ")"
      ]
     },
     "execution_count": 11,
     "metadata": {},
     "output_type": "execute_result"
    }
   ],
   "source": [
    "import torch.nn as nn\n",
    "import torch.nn.functional as F\n",
    "\n",
    "# Conv2d class\n",
    "# Conv2d(in_channels, out_channels, kernel_size,\n",
    "#        stride=1, padding=0, dilation=1,groups=1,\n",
    "#        bias=True, padding_mode='zeros', device=None, dtype=None)\n",
    "\n",
    "\n",
    "class Net(nn.Module):\n",
    "    def __init__(self):\n",
    "        super().__init__()\n",
    "        self.conv1 = nn.Conv2d(3,6,5) # input_ch 3 -> output_ch 6, 32->28\n",
    "        self.pool = nn.MaxPool2d(2, 2) # kernel_size, stride=None, padding=0, 28->14\n",
    "        self.conv2 = nn.Conv2d(6,16,5) # 14->10\n",
    "        self.fc1 = nn.Linear(16*5*5, 120) # input, output\n",
    "        self.fc2 = nn.Linear(120, 84)\n",
    "        self.fc3 = nn.Linear(84, 10)\n",
    "        \n",
    "    def forward(self, x):\n",
    "        x = self.pool(F.relu(self.conv1(x)))\n",
    "        x = self.pool(F.relu(self.conv2(x)))\n",
    "        x = torch.flatten(x,1) # flatten에 1 dim은 Batch dim\n",
    "        x = F.relu(self.fc1(x))\n",
    "        x = F.relu(self.fc2(x))\n",
    "        x = self.fc3(x)\n",
    "        return x\n",
    "    \n",
    "net = Net()\n",
    "net = net.to(\"cuda\")\n",
    "net"
   ]
  },
  {
   "cell_type": "code",
   "execution_count": 12,
   "id": "bd0c4776",
   "metadata": {
    "ExecuteTime": {
     "end_time": "2023-05-30T01:34:59.395194Z",
     "start_time": "2023-05-30T01:34:59.383011Z"
    }
   },
   "outputs": [],
   "source": [
    "import torch.optim as optim\n",
    "\n",
    "criterion = nn.CrossEntropyLoss().to(\"cuda\")\n",
    "optimizer = optim.Adam(net.parameters()) # optmizizer 안에 network의 parameters를 넣어둠"
   ]
  },
  {
   "cell_type": "code",
   "execution_count": null,
   "id": "2b497426",
   "metadata": {
    "ExecuteTime": {
     "end_time": "2023-05-30T01:35:33.665801Z",
     "start_time": "2023-05-30T01:35:33.665801Z"
    }
   },
   "outputs": [],
   "source": [
    "EPOCHS = 10\n",
    "for epoch in range(EPOCHS):\n",
    "    \n",
    "    running_loss = 0.0\n",
    "    for i, data in enumerate(trainloader, 0):\n",
    "        inputs, labels = data\n",
    "        inputs = inputs.to(\"cuda\")\n",
    "        labels = labels.to(\"cuda\")\n",
    "        \n",
    "        # optimizer 안의 grad를 초기화\n",
    "        optimizer.zero_grad()\n",
    "        \n",
    "        # forward\n",
    "        outputs = net(inputs) # last activation 없음\n",
    "        \n",
    "        # loss\n",
    "        loss = criterion(outputs, labels)\n",
    "        \n",
    "        # calc gard\n",
    "        loss.backward()\n",
    "        \n",
    "        # backpropagation\n",
    "        optimizer.step()\n",
    "        \n",
    "        # show\n",
    "        running_loss += loss.item() # 로스값 추가\n",
    "        if i % 2000 == 1999:\n",
    "            print(f\"[{epoch+1:2d}/{EPOCHS}, iter:{i+1:5d}], loss:{running_loss/2000:.6f}\")\n",
    "            running_loss = 0.0\n",
    "print(\"End\")"
   ]
  },
  {
   "cell_type": "code",
   "execution_count": 31,
   "id": "8ad9d499",
   "metadata": {},
   "outputs": [],
   "source": [
    "os.mkdir(\"train_sample\")"
   ]
  },
  {
   "cell_type": "code",
   "execution_count": 32,
   "id": "079a650f",
   "metadata": {},
   "outputs": [],
   "source": [
    "# save model\n",
    "PATH = 'train_sample/cifar_net.pth'\n",
    "torch.save(net.state_dict(), PATH) # 가중치만?, 통째로?"
   ]
  },
  {
   "cell_type": "code",
   "execution_count": 33,
   "id": "9ab4e456",
   "metadata": {},
   "outputs": [
    {
     "data": {
      "image/png": "[encoded data removed]",
      "text/plain": [
       "<Figure size 640x480 with 1 Axes>"
      ]
     },
     "metadata": {},
     "output_type": "display_data"
    },
    {
     "name": "stdout",
     "output_type": "stream",
     "text": [
      "GroundTruth:  cat   ship  ship  plane\n"
     ]
    },
    {
     "data": {
      "text/plain": [
       "<All keys matched successfully>"
      ]
     },
     "execution_count": 33,
     "metadata": {},
     "output_type": "execute_result"
    }
   ],
   "source": [
    "# test\n",
    "data_iter = iter(testloader)\n",
    "images, labels = next(data_iter)\n",
    "\n",
    "imshow(torchvision.utils.make_grid(images, padding=0))\n",
    "print('GroundTruth: ', ' '.join(f'{classes[labels[j]]:5s}' for j in range(4)))\n",
    "\n",
    "net = Net()\n",
    "net.load_state_dict(torch.load(PATH)) # 가중치만 가져오는 save"
   ]
  },
  {
   "cell_type": "code",
   "execution_count": 34,
   "id": "41890b8a",
   "metadata": {},
   "outputs": [
    {
     "data": {
      "text/plain": [
       "tensor([[ -6.0908,  -7.9045,  -2.8587,   1.7719,  -3.8318,  -0.2172,  -1.7282,\n",
       "          -4.0815,  -6.6338,  -6.2928],\n",
       "        [ -5.8367,  -1.6055, -15.6593, -18.8138, -18.4160, -22.7295, -20.4771,\n",
       "         -25.5356,  -3.8893,  -8.0697],\n",
       "        [ -2.3581,   0.2124,  -5.2556,  -6.0454,  -5.3960,  -7.1415,  -7.4206,\n",
       "          -7.1199,  -0.2649,  -1.2072],\n",
       "        [  0.5378,  -4.5250,  -2.7709,  -6.4537,  -4.2079,  -7.7793,  -7.2232,\n",
       "          -7.7823,  -0.5120,  -5.9123]], grad_fn=<AddmmBackward0>)"
      ]
     },
     "execution_count": 34,
     "metadata": {},
     "output_type": "execute_result"
    }
   ],
   "source": [
    "outputs = net(images)\n",
    "outputs"
   ]
  },
  {
   "cell_type": "code",
   "execution_count": 35,
   "id": "52f8926e",
   "metadata": {},
   "outputs": [
    {
     "data": {
      "text/plain": [
       "torch.return_types.max(\n",
       "values=tensor([ 1.7719, -1.6055,  0.2124,  0.5378], grad_fn=<MaxBackward0>),\n",
       "indices=tensor([3, 1, 1, 0]))"
      ]
     },
     "execution_count": 35,
     "metadata": {},
     "output_type": "execute_result"
    }
   ],
   "source": [
    "torch.max(outputs, 1) # torch.max는 값과 위치를 반환, max, argmax"
   ]
  },
  {
   "cell_type": "code",
   "execution_count": 36,
   "id": "842a1922",
   "metadata": {},
   "outputs": [
    {
     "name": "stdout",
     "output_type": "stream",
     "text": [
      "predicted:  cat   car   car   plane\n"
     ]
    }
   ],
   "source": [
    "_, predict = torch.max(outputs, 1)\n",
    "\n",
    "print(\"predicted: \", \" \".join(f\"{classes[predict[j]]:5s}\"for j in range(4)))"
   ]
  },
  {
   "cell_type": "code",
   "execution_count": 44,
   "id": "fd803595",
   "metadata": {},
   "outputs": [
    {
     "name": "stdout",
     "output_type": "stream",
     "text": [
      "60\n"
     ]
    }
   ],
   "source": [
    "# test metric\n",
    "\n",
    "correct = 0\n",
    "total = 0\n",
    "\n",
    "# no grad calc\n",
    "with torch.no_grad():\n",
    "    for data in testloader:\n",
    "        images, labels = data\n",
    "        outputs = net(images)\n",
    "        _, predicted = torch.max(outputs, 1)\n",
    "        total += labels.size(0)\n",
    "        correct += (predicted==labels).sum().item() # tensor값을 벗어날때 .item() 이용\n",
    "        \n",
    "print(100*correct//total)"
   ]
  },
  {
   "cell_type": "code",
   "execution_count": 46,
   "id": "0f4f15cf",
   "metadata": {},
   "outputs": [
    {
     "name": "stdout",
     "output_type": "stream",
     "text": [
      "plane is 59.300\n",
      "car   is 76.600\n",
      "bird  is 30.000\n",
      "cat   is 37.000\n",
      "deer  is 61.600\n",
      "dog   is 52.500\n",
      "frog  is 69.800\n",
      "horse is 73.600\n",
      "ship  is 70.700\n",
      "truck is 75.100\n"
     ]
    }
   ],
   "source": [
    "# acc per class\n",
    "correct = {classname:0 for classname in classes}\n",
    "total = {classname:0 for classname in classes}\n",
    "\n",
    "with torch.no_grad():\n",
    "    \n",
    "    for data in testloader:\n",
    "        images, labels = data\n",
    "        outputs = net(images)\n",
    "        _, predicted = torch.max(outputs, 1)\n",
    "        \n",
    "        for label, pred in zip(labels, predicted):\n",
    "            if label==pred:\n",
    "                correct[classes[label]]+=1\n",
    "            total[classes[label]]+=1\n",
    "\n",
    "for classname, count in correct.items():\n",
    "    acc = 100.0*count/total[classname]\n",
    "    print(f'{classname:5s} is {acc:.3f}')"
   ]
  },
  {
   "cell_type": "code",
   "execution_count": 51,
   "id": "593e4a14",
   "metadata": {},
   "outputs": [
    {
     "name": "stdout",
     "output_type": "stream",
     "text": [
      "cuda:0\n"
     ]
    },
    {
     "data": {
      "text/plain": [
       "device(type='cuda', index=0)"
      ]
     },
     "execution_count": 51,
     "metadata": {},
     "output_type": "execute_result"
    }
   ],
   "source": [
    "# train with gpu\n",
    "device = torch.device(\"cuda:0\" if torch.cuda.is_available() else 'cpu')\n",
    "print(device)\n",
    "device"
   ]
  },
  {
   "cell_type": "code",
   "execution_count": 54,
   "id": "18fee3e6",
   "metadata": {},
   "outputs": [
    {
     "data": {
      "text/plain": [
       "Net(\n",
       "  (conv1): Conv2d(3, 6, kernel_size=(5, 5), stride=(1, 1))\n",
       "  (pool): MaxPool2d(kernel_size=2, stride=2, padding=0, dilation=1, ceil_mode=False)\n",
       "  (conv2): Conv2d(6, 16, kernel_size=(5, 5), stride=(1, 1))\n",
       "  (fc1): Linear(in_features=400, out_features=120, bias=True)\n",
       "  (fc2): Linear(in_features=120, out_features=84, bias=True)\n",
       "  (fc3): Linear(in_features=84, out_features=10, bias=True)\n",
       ")"
      ]
     },
     "execution_count": 54,
     "metadata": {},
     "output_type": "execute_result"
    }
   ],
   "source": [
    "# 모델을 device에 지정\n",
    "net.to(device) # 그냥 model.cuda() 해도 된다."
   ]
  },
  {
   "cell_type": "code",
   "execution_count": 56,
   "id": "e3a77c56",
   "metadata": {},
   "outputs": [
    {
     "name": "stdout",
     "output_type": "stream",
     "text": [
      "----------------------------------------------------------------\n",
      "        Layer (type)               Output Shape         Param #\n",
      "================================================================\n",
      "            Conv2d-1            [-1, 6, 28, 28]             456\n",
      "         MaxPool2d-2            [-1, 6, 14, 14]               0\n",
      "            Conv2d-3           [-1, 16, 10, 10]           2,416\n",
      "         MaxPool2d-4             [-1, 16, 5, 5]               0\n",
      "            Linear-5                  [-1, 120]          48,120\n",
      "            Linear-6                   [-1, 84]          10,164\n",
      "            Linear-7                   [-1, 10]             850\n",
      "================================================================\n",
      "Total params: 62,006\n",
      "Trainable params: 62,006\n",
      "Non-trainable params: 0\n",
      "----------------------------------------------------------------\n",
      "Input size (MB): 0.01\n",
      "Forward/backward pass size (MB): 0.06\n",
      "Params size (MB): 0.24\n",
      "Estimated Total Size (MB): 0.31\n",
      "----------------------------------------------------------------\n"
     ]
    }
   ],
   "source": [
    "from torchsummary import summary\n",
    "\n",
    "summary(net, (3,32,32))"
   ]
  },
  {
   "cell_type": "code",
   "execution_count": 70,
   "id": "6fd3d352",
   "metadata": {},
   "outputs": [
    {
     "name": "stdout",
     "output_type": "stream",
     "text": [
      "torch.Size([4, 3, 32, 32]) torch.Size([4])\n"
     ]
    },
    {
     "data": {
      "text/plain": [
       "tensor([[[[-0.3647, -0.2863, -0.2314,  ..., -0.3569, -0.3333, -0.2627],\n",
       "          [-0.3255, -0.2235, -0.1686,  ..., -0.1529, -0.0980, -0.0431],\n",
       "          [-0.2392, -0.1843, -0.1373,  ..., -0.3412, -0.1451, -0.0196],\n",
       "          ...,\n",
       "          [ 0.2784,  0.2863,  0.0902,  ...,  0.1765,  0.0980,  0.1686],\n",
       "          [ 0.2549,  0.3333,  0.1373,  ...,  0.2549,  0.1922, -0.0745],\n",
       "          [-0.0588, -0.0902,  0.0667,  ...,  0.2157,  0.3412,  0.3098]],\n",
       "\n",
       "         [[-0.5529, -0.4588, -0.4118,  ..., -0.2627, -0.2706, -0.2784],\n",
       "          [-0.4824, -0.4353, -0.3569,  ..., -0.2471, -0.2549, -0.2549],\n",
       "          [-0.4275, -0.3804, -0.3490,  ..., -0.2627, -0.2549, -0.2392],\n",
       "          ...,\n",
       "          [ 0.3961,  0.2471,  0.0431,  ...,  0.0980, -0.0353,  0.1686],\n",
       "          [ 0.5373,  0.4824,  0.0824,  ...,  0.2706,  0.1843,  0.0118],\n",
       "          [ 0.3020,  0.1922,  0.2941,  ...,  0.0902,  0.3098,  0.2863]],\n",
       "\n",
       "         [[-0.6627, -0.5843, -0.5059,  ..., -0.0902, -0.1137, -0.2000],\n",
       "          [-0.5765, -0.5451, -0.4902,  ..., -0.2627, -0.3255, -0.3725],\n",
       "          [-0.5373, -0.4902, -0.4588,  ..., -0.0824, -0.2863, -0.3882],\n",
       "          ...,\n",
       "          [ 0.4667,  0.1608,  0.0039,  ...,  0.0510, -0.1137,  0.0824],\n",
       "          [ 0.6941,  0.5843,  0.0196,  ...,  0.3098,  0.1922,  0.1137],\n",
       "          [ 0.5608,  0.4431,  0.4275,  ...,  0.0118,  0.1529,  0.2549]]],\n",
       "\n",
       "\n",
       "        [[[-0.8431, -0.8510, -0.8824,  ..., -0.9216, -0.9059, -0.8980],\n",
       "          [-0.8353, -0.8431, -0.8588,  ..., -0.9216, -0.9216, -0.9059],\n",
       "          [-0.8353, -0.8353, -0.8431,  ..., -0.9059, -0.9059, -0.8980],\n",
       "          ...,\n",
       "          [-0.7412, -0.7333, -0.7333,  ..., -0.7804, -0.7725, -0.8196],\n",
       "          [-0.7412, -0.7333, -0.7333,  ..., -0.7882, -0.7882, -0.8039],\n",
       "          [-0.7569, -0.7490, -0.7412,  ..., -0.8118, -0.7961, -0.8039]],\n",
       "\n",
       "         [[-0.8824, -0.8902, -0.8902,  ..., -0.9294, -0.9137, -0.9059],\n",
       "          [-0.8745, -0.8745, -0.8667,  ..., -0.9294, -0.9294, -0.9137],\n",
       "          [-0.8745, -0.8667, -0.8588,  ..., -0.9137, -0.9137, -0.9059],\n",
       "          ...,\n",
       "          [-0.8039, -0.7961, -0.7961,  ..., -0.8039, -0.8039, -0.8431],\n",
       "          [-0.8039, -0.7961, -0.7961,  ..., -0.8118, -0.8118, -0.8275],\n",
       "          [-0.8196, -0.8118, -0.8039,  ..., -0.8196, -0.8196, -0.8431]],\n",
       "\n",
       "         [[-0.9059, -0.9137, -0.9137,  ..., -0.9451, -0.9294, -0.9216],\n",
       "          [-0.8980, -0.8980, -0.9059,  ..., -0.9451, -0.9451, -0.9294],\n",
       "          [-0.8980, -0.9059, -0.9137,  ..., -0.9294, -0.9294, -0.9216],\n",
       "          ...,\n",
       "          [-0.8980, -0.8824, -0.8824,  ..., -0.5922, -0.5451, -0.6706],\n",
       "          [-0.8902, -0.8824, -0.8824,  ..., -0.5922, -0.5608, -0.6314],\n",
       "          [-0.9059, -0.8980, -0.8902,  ..., -0.6078, -0.5843, -0.6314]]],\n",
       "\n",
       "\n",
       "        [[[-0.8039, -0.8824, -0.8196,  ..., -0.5216, -0.2784, -0.4118],\n",
       "          [-0.9059, -0.8431, -0.8118,  ..., -0.0980,  0.1686, -0.1843],\n",
       "          [-0.9059, -0.8824, -0.7333,  ...,  0.2078,  0.2314, -0.0902],\n",
       "          ...,\n",
       "          [-0.2157, -0.1922, -0.1843,  ..., -0.2392, -0.2314, -0.2863],\n",
       "          [-0.1922, -0.1843, -0.1608,  ..., -0.2078, -0.2235, -0.2784],\n",
       "          [-0.2549, -0.2549, -0.2078,  ..., -0.2706, -0.2549, -0.2784]],\n",
       "\n",
       "         [[-0.6863, -0.7176, -0.6784,  ..., -0.3569, -0.1137, -0.3020],\n",
       "          [-0.8039, -0.7098, -0.7176,  ...,  0.0510,  0.3176, -0.0824],\n",
       "          [-0.8039, -0.7725, -0.6863,  ...,  0.3490,  0.3725,  0.0118],\n",
       "          ...,\n",
       "          [ 0.0118,  0.0353,  0.0510,  ...,  0.0039, -0.0118, -0.0510],\n",
       "          [ 0.0353,  0.0275,  0.0588,  ...,  0.0353, -0.0039, -0.0510],\n",
       "          [-0.0118, -0.0353,  0.0039,  ..., -0.0275, -0.0353, -0.0588]],\n",
       "\n",
       "         [[-0.9059, -0.9765, -0.8588,  ..., -0.3882, -0.1216, -0.2784],\n",
       "          [-0.9529, -0.9451, -0.8824,  ...,  0.0824,  0.3882,  0.0275],\n",
       "          [-0.9137, -0.9529, -0.8118,  ...,  0.4275,  0.5059,  0.1843],\n",
       "          ...,\n",
       "          [-0.3647, -0.3412, -0.3255,  ..., -0.3412, -0.3412, -0.3804],\n",
       "          [-0.3490, -0.3490, -0.3176,  ..., -0.3176, -0.3412, -0.3804],\n",
       "          [-0.3882, -0.4039, -0.3647,  ..., -0.3725, -0.3647, -0.3725]]],\n",
       "\n",
       "\n",
       "        [[[-0.4275, -0.2314, -0.2235,  ...,  0.0588,  0.0588,  0.5922],\n",
       "          [-0.4588, -0.3412, -0.4667,  ..., -0.3333, -0.4431, -0.0588],\n",
       "          [-0.4588, -0.2941, -0.5137,  ..., -0.4196, -0.5843, -0.5137],\n",
       "          ...,\n",
       "          [-0.0353,  0.0353,  0.0118,  ..., -0.1529, -0.5137, -0.7882],\n",
       "          [-0.0980, -0.0353,  0.0118,  ..., -0.0980, -0.4824, -0.7882],\n",
       "          [-0.0902, -0.0510,  0.0118,  ..., -0.0902, -0.4667, -0.7882]],\n",
       "\n",
       "         [[-0.3882, -0.1922, -0.1686,  ...,  0.1765,  0.1686,  0.6863],\n",
       "          [-0.4275, -0.3020, -0.4118,  ..., -0.2549, -0.3569,  0.0431],\n",
       "          [-0.4275, -0.2549, -0.4431,  ..., -0.3647, -0.5137, -0.4196],\n",
       "          ...,\n",
       "          [ 0.0039,  0.0353,  0.0039,  ..., -0.1608, -0.5294, -0.7882],\n",
       "          [-0.0510, -0.0275, -0.0118,  ..., -0.0902, -0.4902, -0.7882],\n",
       "          [-0.0588, -0.0431,  0.0039,  ..., -0.0980, -0.4902, -0.7961]],\n",
       "\n",
       "         [[-0.4118, -0.1137, -0.1059,  ...,  0.1922,  0.2078,  0.7490],\n",
       "          [-0.4510, -0.2392, -0.3647,  ..., -0.3020, -0.3725,  0.0588],\n",
       "          [-0.4510, -0.2157, -0.4196,  ..., -0.4510, -0.5765, -0.4588],\n",
       "          ...,\n",
       "          [-0.2471, -0.2000, -0.2157,  ..., -0.3098, -0.5686, -0.7804],\n",
       "          [-0.2863, -0.2549, -0.2235,  ..., -0.2627, -0.5373, -0.7882],\n",
       "          [-0.2941, -0.2627, -0.2078,  ..., -0.2627, -0.5451, -0.7961]]]])"
      ]
     },
     "execution_count": 70,
     "metadata": {},
     "output_type": "execute_result"
    }
   ],
   "source": [
    "image, label = data\n",
    "print(image.size(), label.size()) # torch는 shape을 찍을때 .size() 를 사용\n",
    "image"
   ]
  },
  {
   "cell_type": "code",
   "execution_count": 71,
   "id": "92be19a6",
   "metadata": {},
   "outputs": [
    {
     "data": {
      "text/plain": [
       "tensor([[[[-0.3647, -0.2863, -0.2314,  ..., -0.3569, -0.3333, -0.2627],\n",
       "          [-0.3255, -0.2235, -0.1686,  ..., -0.1529, -0.0980, -0.0431],\n",
       "          [-0.2392, -0.1843, -0.1373,  ..., -0.3412, -0.1451, -0.0196],\n",
       "          ...,\n",
       "          [ 0.2784,  0.2863,  0.0902,  ...,  0.1765,  0.0980,  0.1686],\n",
       "          [ 0.2549,  0.3333,  0.1373,  ...,  0.2549,  0.1922, -0.0745],\n",
       "          [-0.0588, -0.0902,  0.0667,  ...,  0.2157,  0.3412,  0.3098]],\n",
       "\n",
       "         [[-0.5529, -0.4588, -0.4118,  ..., -0.2627, -0.2706, -0.2784],\n",
       "          [-0.4824, -0.4353, -0.3569,  ..., -0.2471, -0.2549, -0.2549],\n",
       "          [-0.4275, -0.3804, -0.3490,  ..., -0.2627, -0.2549, -0.2392],\n",
       "          ...,\n",
       "          [ 0.3961,  0.2471,  0.0431,  ...,  0.0980, -0.0353,  0.1686],\n",
       "          [ 0.5373,  0.4824,  0.0824,  ...,  0.2706,  0.1843,  0.0118],\n",
       "          [ 0.3020,  0.1922,  0.2941,  ...,  0.0902,  0.3098,  0.2863]],\n",
       "\n",
       "         [[-0.6627, -0.5843, -0.5059,  ..., -0.0902, -0.1137, -0.2000],\n",
       "          [-0.5765, -0.5451, -0.4902,  ..., -0.2627, -0.3255, -0.3725],\n",
       "          [-0.5373, -0.4902, -0.4588,  ..., -0.0824, -0.2863, -0.3882],\n",
       "          ...,\n",
       "          [ 0.4667,  0.1608,  0.0039,  ...,  0.0510, -0.1137,  0.0824],\n",
       "          [ 0.6941,  0.5843,  0.0196,  ...,  0.3098,  0.1922,  0.1137],\n",
       "          [ 0.5608,  0.4431,  0.4275,  ...,  0.0118,  0.1529,  0.2549]]],\n",
       "\n",
       "\n",
       "        [[[-0.8431, -0.8510, -0.8824,  ..., -0.9216, -0.9059, -0.8980],\n",
       "          [-0.8353, -0.8431, -0.8588,  ..., -0.9216, -0.9216, -0.9059],\n",
       "          [-0.8353, -0.8353, -0.8431,  ..., -0.9059, -0.9059, -0.8980],\n",
       "          ...,\n",
       "          [-0.7412, -0.7333, -0.7333,  ..., -0.7804, -0.7725, -0.8196],\n",
       "          [-0.7412, -0.7333, -0.7333,  ..., -0.7882, -0.7882, -0.8039],\n",
       "          [-0.7569, -0.7490, -0.7412,  ..., -0.8118, -0.7961, -0.8039]],\n",
       "\n",
       "         [[-0.8824, -0.8902, -0.8902,  ..., -0.9294, -0.9137, -0.9059],\n",
       "          [-0.8745, -0.8745, -0.8667,  ..., -0.9294, -0.9294, -0.9137],\n",
       "          [-0.8745, -0.8667, -0.8588,  ..., -0.9137, -0.9137, -0.9059],\n",
       "          ...,\n",
       "          [-0.8039, -0.7961, -0.7961,  ..., -0.8039, -0.8039, -0.8431],\n",
       "          [-0.8039, -0.7961, -0.7961,  ..., -0.8118, -0.8118, -0.8275],\n",
       "          [-0.8196, -0.8118, -0.8039,  ..., -0.8196, -0.8196, -0.8431]],\n",
       "\n",
       "         [[-0.9059, -0.9137, -0.9137,  ..., -0.9451, -0.9294, -0.9216],\n",
       "          [-0.8980, -0.8980, -0.9059,  ..., -0.9451, -0.9451, -0.9294],\n",
       "          [-0.8980, -0.9059, -0.9137,  ..., -0.9294, -0.9294, -0.9216],\n",
       "          ...,\n",
       "          [-0.8980, -0.8824, -0.8824,  ..., -0.5922, -0.5451, -0.6706],\n",
       "          [-0.8902, -0.8824, -0.8824,  ..., -0.5922, -0.5608, -0.6314],\n",
       "          [-0.9059, -0.8980, -0.8902,  ..., -0.6078, -0.5843, -0.6314]]],\n",
       "\n",
       "\n",
       "        [[[-0.8039, -0.8824, -0.8196,  ..., -0.5216, -0.2784, -0.4118],\n",
       "          [-0.9059, -0.8431, -0.8118,  ..., -0.0980,  0.1686, -0.1843],\n",
       "          [-0.9059, -0.8824, -0.7333,  ...,  0.2078,  0.2314, -0.0902],\n",
       "          ...,\n",
       "          [-0.2157, -0.1922, -0.1843,  ..., -0.2392, -0.2314, -0.2863],\n",
       "          [-0.1922, -0.1843, -0.1608,  ..., -0.2078, -0.2235, -0.2784],\n",
       "          [-0.2549, -0.2549, -0.2078,  ..., -0.2706, -0.2549, -0.2784]],\n",
       "\n",
       "         [[-0.6863, -0.7176, -0.6784,  ..., -0.3569, -0.1137, -0.3020],\n",
       "          [-0.8039, -0.7098, -0.7176,  ...,  0.0510,  0.3176, -0.0824],\n",
       "          [-0.8039, -0.7725, -0.6863,  ...,  0.3490,  0.3725,  0.0118],\n",
       "          ...,\n",
       "          [ 0.0118,  0.0353,  0.0510,  ...,  0.0039, -0.0118, -0.0510],\n",
       "          [ 0.0353,  0.0275,  0.0588,  ...,  0.0353, -0.0039, -0.0510],\n",
       "          [-0.0118, -0.0353,  0.0039,  ..., -0.0275, -0.0353, -0.0588]],\n",
       "\n",
       "         [[-0.9059, -0.9765, -0.8588,  ..., -0.3882, -0.1216, -0.2784],\n",
       "          [-0.9529, -0.9451, -0.8824,  ...,  0.0824,  0.3882,  0.0275],\n",
       "          [-0.9137, -0.9529, -0.8118,  ...,  0.4275,  0.5059,  0.1843],\n",
       "          ...,\n",
       "          [-0.3647, -0.3412, -0.3255,  ..., -0.3412, -0.3412, -0.3804],\n",
       "          [-0.3490, -0.3490, -0.3176,  ..., -0.3176, -0.3412, -0.3804],\n",
       "          [-0.3882, -0.4039, -0.3647,  ..., -0.3725, -0.3647, -0.3725]]],\n",
       "\n",
       "\n",
       "        [[[-0.4275, -0.2314, -0.2235,  ...,  0.0588,  0.0588,  0.5922],\n",
       "          [-0.4588, -0.3412, -0.4667,  ..., -0.3333, -0.4431, -0.0588],\n",
       "          [-0.4588, -0.2941, -0.5137,  ..., -0.4196, -0.5843, -0.5137],\n",
       "          ...,\n",
       "          [-0.0353,  0.0353,  0.0118,  ..., -0.1529, -0.5137, -0.7882],\n",
       "          [-0.0980, -0.0353,  0.0118,  ..., -0.0980, -0.4824, -0.7882],\n",
       "          [-0.0902, -0.0510,  0.0118,  ..., -0.0902, -0.4667, -0.7882]],\n",
       "\n",
       "         [[-0.3882, -0.1922, -0.1686,  ...,  0.1765,  0.1686,  0.6863],\n",
       "          [-0.4275, -0.3020, -0.4118,  ..., -0.2549, -0.3569,  0.0431],\n",
       "          [-0.4275, -0.2549, -0.4431,  ..., -0.3647, -0.5137, -0.4196],\n",
       "          ...,\n",
       "          [ 0.0039,  0.0353,  0.0039,  ..., -0.1608, -0.5294, -0.7882],\n",
       "          [-0.0510, -0.0275, -0.0118,  ..., -0.0902, -0.4902, -0.7882],\n",
       "          [-0.0588, -0.0431,  0.0039,  ..., -0.0980, -0.4902, -0.7961]],\n",
       "\n",
       "         [[-0.4118, -0.1137, -0.1059,  ...,  0.1922,  0.2078,  0.7490],\n",
       "          [-0.4510, -0.2392, -0.3647,  ..., -0.3020, -0.3725,  0.0588],\n",
       "          [-0.4510, -0.2157, -0.4196,  ..., -0.4510, -0.5765, -0.4588],\n",
       "          ...,\n",
       "          [-0.2471, -0.2000, -0.2157,  ..., -0.3098, -0.5686, -0.7804],\n",
       "          [-0.2863, -0.2549, -0.2235,  ..., -0.2627, -0.5373, -0.7882],\n",
       "          [-0.2941, -0.2627, -0.2078,  ..., -0.2627, -0.5451, -0.7961]]]],\n",
       "       device='cuda:0')"
      ]
     },
     "execution_count": 71,
     "metadata": {},
     "output_type": "execute_result"
    }
   ],
   "source": [
    "# gpu를 사용할 때 model 뿐아니라 data도 넣어줘야함\n",
    "image, label = data[0].to(device), data[1].to(device)\n",
    "image"
   ]
  },
  {
   "cell_type": "code",
   "execution_count": 14,
   "id": "27cbcf8b",
   "metadata": {
    "ExecuteTime": {
     "end_time": "2023-05-25T07:10:25.667433Z",
     "start_time": "2023-05-25T07:10:25.655198Z"
    }
   },
   "outputs": [
    {
     "data": {
      "text/plain": [
       "[(1, 1), (2, 2), (3, 3), (4, 4), (5, 5)]"
      ]
     },
     "execution_count": 14,
     "metadata": {},
     "output_type": "execute_result"
    }
   ],
   "source": [
    "a = [1,2,3,4,5]\n",
    "b = [1,2,3,4,5]\n",
    "\n",
    "c = list(zip(a,b))\n",
    "c"
   ]
  },
  {
   "cell_type": "code",
   "execution_count": 17,
   "id": "2912547e",
   "metadata": {
    "ExecuteTime": {
     "end_time": "2023-05-25T07:10:36.909269Z",
     "start_time": "2023-05-25T07:10:36.902060Z"
    }
   },
   "outputs": [
    {
     "data": {
      "text/plain": [
       "[1, 2, 3, 4, 5, 1, 2, 3, 4, 5]"
      ]
     },
     "execution_count": 17,
     "metadata": {},
     "output_type": "execute_result"
    }
   ],
   "source": [
    "d = [*a,*b]\n",
    "d"
   ]
  },
  {
   "cell_type": "code",
   "execution_count": null,
   "id": "1abe5a82",
   "metadata": {},
   "outputs": [],
   "source": []
  }
 ],
 "metadata": {
  "kernelspec": {
   "display_name": "Python 3 (ipykernel)",
   "language": "python",
   "name": "python3"
  },
  "language_info": {
   "codemirror_mode": {
    "name": "ipython",
    "version": 3
   },
   "file_extension": ".py",
   "mimetype": "text/x-python",
   "name": "python",
   "nbconvert_exporter": "python",
   "pygments_lexer": "ipython3",
   "version": "3.9.0"
  },
  "toc": {
   "base_numbering": 1,
   "nav_menu": {},
   "number_sections": true,
   "sideBar": true,
   "skip_h1_title": false,
   "title_cell": "Table of Contents",
   "title_sidebar": "Contents",
   "toc_cell": false,
   "toc_position": {},
   "toc_section_display": true,
   "toc_window_display": false
  },
  "varInspector": {
   "cols": {
    "lenName": 16,
    "lenType": 16,
    "lenVar": 40
   },
   "kernels_config": {
    "python": {
     "delete_cmd_postfix": "",
     "delete_cmd_prefix": "del ",
     "library": "var_list.py",
     "varRefreshCmd": "print(var_dic_list())"
    },
    "r": {
     "delete_cmd_postfix": ") ",
     "delete_cmd_prefix": "rm(",
     "library": "var_list.r",
     "varRefreshCmd": "cat(var_dic_list()) "
    }
   },
   "types_to_exclude": [
    "module",
    "function",
    "builtin_function_or_method",
    "instance",
    "_Feature"
   ],
   "window_display": false
  }
 },
 "nbformat": 4,
 "nbformat_minor": 5
}
