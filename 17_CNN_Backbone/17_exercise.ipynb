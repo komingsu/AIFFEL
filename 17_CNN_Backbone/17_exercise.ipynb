{
 "cells": [
  {
   "cell_type": "code",
   "execution_count": 1,
   "id": "2101c0c2",
   "metadata": {
    "ExecuteTime": {
     "end_time": "2023-05-25T14:52:44.351877Z",
     "start_time": "2023-05-25T14:52:41.030117Z"
    }
   },
   "outputs": [],
   "source": [
    "from collections import defaultdict\n",
    "import copy\n",
    "import random\n",
    "import os\n",
    "import shutil\n",
    "import glob\n",
    "from urllib.request import urlretrieve\n",
    "\n",
    "import albumentations as A\n",
    "from albumentations.pytorch import ToTensorV2\n",
    "import cv2\n",
    "import matplotlib.pyplot as plt\n",
    "from tqdm import tqdm\n",
    "import torch\n",
    "import torch.backends.cudnn as cudnn\n",
    "import torch.nn as nn\n",
    "import torch.optim\n",
    "from torch.utils.data import Dataset, DataLoader\n",
    "import torchvision.models as models\n",
    "\n",
    "cudnn.benchmark = True"
   ]
  },
  {
   "cell_type": "code",
   "execution_count": 2,
   "id": "94c9f628",
   "metadata": {
    "ExecuteTime": {
     "end_time": "2023-05-25T14:52:45.552946Z",
     "start_time": "2023-05-25T14:52:44.353999Z"
    }
   },
   "outputs": [
    {
     "data": {
      "text/plain": [
       "device(type='cuda')"
      ]
     },
     "execution_count": 2,
     "metadata": {},
     "output_type": "execute_result"
    }
   ],
   "source": [
    "# gpu?\n",
    "device = torch.device(\"cuda\" if torch.cuda.is_available() else \"cpu\")\n",
    "device"
   ]
  },
  {
   "cell_type": "code",
   "execution_count": 3,
   "id": "d303db04",
   "metadata": {
    "ExecuteTime": {
     "end_time": "2023-05-25T14:52:45.785457Z",
     "start_time": "2023-05-25T14:52:45.554946Z"
    }
   },
   "outputs": [
    {
     "data": {
      "text/plain": [
       "['C:/Users/rh987/.fastai/data/cifar10/train\\\\airplane\\\\10008_airplane.png',\n",
       " 'C:/Users/rh987/.fastai/data/cifar10/train\\\\airplane\\\\10010_airplane.png']"
      ]
     },
     "execution_count": 3,
     "metadata": {},
     "output_type": "execute_result"
    }
   ],
   "source": [
    "traindata_path = glob.glob(\"C:/Users/rh987/.fastai/data/cifar10/train/*/*\")\n",
    "testdata_path = glob.glob(\"C:/Users/rh987/.fastai/data/cifar10/test/*/*\")\n",
    "traindata_path[:2]"
   ]
  },
  {
   "cell_type": "code",
   "execution_count": 4,
   "id": "0bbc022b",
   "metadata": {
    "ExecuteTime": {
     "end_time": "2023-05-25T14:52:45.800746Z",
     "start_time": "2023-05-25T14:52:45.786562Z"
    }
   },
   "outputs": [
    {
     "data": {
      "text/plain": [
       "['airplane',\n",
       " 'automobile',\n",
       " 'bird',\n",
       " 'cat',\n",
       " 'deer',\n",
       " 'dog',\n",
       " 'frog',\n",
       " 'horse',\n",
       " 'ship',\n",
       " 'truck']"
      ]
     },
     "execution_count": 4,
     "metadata": {},
     "output_type": "execute_result"
    }
   ],
   "source": [
    "classes = [i.split(\"\\\\\")[-1] for i in glob.glob(\"C:/Users/rh987/.fastai/data/cifar10/train/*\")]\n",
    "classes"
   ]
  },
  {
   "cell_type": "code",
   "execution_count": 5,
   "id": "17db2316",
   "metadata": {
    "ExecuteTime": {
     "end_time": "2023-05-25T14:52:45.816769Z",
     "start_time": "2023-05-25T14:52:45.802747Z"
    }
   },
   "outputs": [],
   "source": [
    "from torch.utils.data import Dataset\n",
    "\n",
    "# super init이 필요없다.\n",
    "\n",
    "class CIFAR10Dataset(Dataset):\n",
    "    def __init__(self, images_filepaths, transform=None):\n",
    "        self.images_filepaths = images_filepaths\n",
    "        self.transform = transform\n",
    "\n",
    "    def __len__(self):\n",
    "        return len(self.images_filepaths)\n",
    "\n",
    "    def __getitem__(self, idx):\n",
    "        image_filepath = self.images_filepaths[idx]\n",
    "        image = cv2.imread(image_filepath)\n",
    "        image = cv2.cvtColor(image, cv2.COLOR_BGR2RGB)\n",
    "        label = image_filepath.split(\"\\\\\")[-2] # classname\n",
    "        label = classes.index(label)\n",
    "        if self.transform is not None:\n",
    "            image = self.transform(img=image)\n",
    "        return image, label"
   ]
  },
  {
   "cell_type": "code",
   "execution_count": 6,
   "id": "b8259d91",
   "metadata": {
    "ExecuteTime": {
     "end_time": "2023-05-25T14:52:45.832697Z",
     "start_time": "2023-05-25T14:52:45.819285Z"
    }
   },
   "outputs": [],
   "source": [
    "import torchvision.transforms as transforms\n",
    "import torchvision\n",
    "\n",
    "train_transform = transforms.Compose(\n",
    "    [transforms.ToTensor(), # 0~1의 범위를 가지도록 정규화\n",
    "    transforms.Normalize((0.5, 0.5, 0.5), (0.5, 0.5, 0.5))] # -1~1의 범위를 가지도록 정규화 (standard)\n",
    ")\n",
    "\n",
    "train_dataset = CIFAR10Dataset(images_filepaths=traindata_path, transform=train_transform)"
   ]
  },
  {
   "cell_type": "code",
   "execution_count": 7,
   "id": "d6628e5e",
   "metadata": {
    "ExecuteTime": {
     "end_time": "2023-05-25T14:52:45.848190Z",
     "start_time": "2023-05-25T14:52:45.834696Z"
    }
   },
   "outputs": [],
   "source": [
    "val_transform = transforms.Compose(\n",
    "    [transforms.ToTensor(), # 0~1의 범위를 가지도록 정규화\n",
    "    transforms.Normalize((0.5, 0.5, 0.5), (0.5, 0.5, 0.5))] # -1~1의 범위를 가지도록 정규화 (standard)\n",
    ")\n",
    "\n",
    "\n",
    "val_dataset = CIFAR10Dataset(images_filepaths=testdata_path, transform=val_transform)"
   ]
  },
  {
   "cell_type": "code",
   "execution_count": 8,
   "id": "533e10db",
   "metadata": {
    "ExecuteTime": {
     "end_time": "2023-05-25T14:52:45.863773Z",
     "start_time": "2023-05-25T14:52:45.849699Z"
    }
   },
   "outputs": [
    {
     "name": "stdout",
     "output_type": "stream",
     "text": [
      "torch.Size([3, 32, 32])\n",
      "<class 'int'>\n"
     ]
    }
   ],
   "source": [
    "for image, label in train_dataset:\n",
    "    print(image.size())\n",
    "    print(type(label))\n",
    "    break"
   ]
  },
  {
   "cell_type": "code",
   "execution_count": 9,
   "id": "1149d8af",
   "metadata": {
    "ExecuteTime": {
     "end_time": "2023-05-25T14:52:45.878968Z",
     "start_time": "2023-05-25T14:52:45.866423Z"
    }
   },
   "outputs": [],
   "source": [
    "params = {\n",
    "    \"device\": \"cuda\",\n",
    "    \"lr\": 0.001,\n",
    "    \"batch_size\": 64,\n",
    "    \"num_workers\": 0,\n",
    "    \"epochs\": 10,\n",
    "}"
   ]
  },
  {
   "cell_type": "code",
   "execution_count": 10,
   "id": "7a69d7bb",
   "metadata": {
    "ExecuteTime": {
     "end_time": "2023-05-25T14:52:45.894646Z",
     "start_time": "2023-05-25T14:52:45.880976Z"
    }
   },
   "outputs": [],
   "source": [
    "train_loader = DataLoader(train_dataset, batch_size=params[\"batch_size\"], shuffle=True, num_workers=0)\n",
    "val_loader = DataLoader(val_dataset, batch_size=params[\"batch_size\"], shuffle=False, num_workers=0)"
   ]
  },
  {
   "cell_type": "markdown",
   "id": "8dbfffae",
   "metadata": {},
   "source": [
    "## VGG16 Network"
   ]
  },
  {
   "cell_type": "code",
   "execution_count": 11,
   "id": "9510097b",
   "metadata": {
    "ExecuteTime": {
     "end_time": "2023-05-25T14:52:49.811483Z",
     "start_time": "2023-05-25T14:52:45.896645Z"
    }
   },
   "outputs": [
    {
     "name": "stdout",
     "output_type": "stream",
     "text": [
      "----------------------------------------------------------------\n",
      "        Layer (type)               Output Shape         Param #\n",
      "================================================================\n",
      "            Conv2d-1           [-1, 64, 32, 32]           1,792\n",
      "            Conv2d-2           [-1, 64, 32, 32]          36,928\n",
      "         MaxPool2d-3           [-1, 64, 16, 16]               0\n",
      "            Conv2d-4          [-1, 128, 16, 16]          73,856\n",
      "            Conv2d-5          [-1, 128, 16, 16]         147,584\n",
      "         MaxPool2d-6            [-1, 128, 8, 8]               0\n",
      "            Conv2d-7            [-1, 256, 8, 8]         295,168\n",
      "            Conv2d-8            [-1, 256, 8, 8]         590,080\n",
      "            Conv2d-9            [-1, 256, 8, 8]         590,080\n",
      "        MaxPool2d-10            [-1, 256, 4, 4]               0\n",
      "           Conv2d-11            [-1, 512, 4, 4]       1,180,160\n",
      "           Conv2d-12            [-1, 512, 4, 4]       2,359,808\n",
      "           Conv2d-13            [-1, 512, 4, 4]       2,359,808\n",
      "        MaxPool2d-14            [-1, 512, 2, 2]               0\n",
      "           Conv2d-15            [-1, 512, 2, 2]       2,359,808\n",
      "           Conv2d-16            [-1, 512, 2, 2]       2,359,808\n",
      "           Conv2d-17            [-1, 512, 2, 2]       2,359,808\n",
      "        MaxPool2d-18            [-1, 512, 1, 1]               0\n",
      "           Linear-19                 [-1, 1024]         525,312\n",
      "           Linear-20                 [-1, 1024]       1,049,600\n",
      "           Linear-21                   [-1, 10]          10,250\n",
      "================================================================\n",
      "Total params: 16,299,850\n",
      "Trainable params: 16,299,850\n",
      "Non-trainable params: 0\n",
      "----------------------------------------------------------------\n",
      "Input size (MB): 0.01\n",
      "Forward/backward pass size (MB): 2.36\n",
      "Params size (MB): 62.18\n",
      "Estimated Total Size (MB): 64.55\n",
      "----------------------------------------------------------------\n"
     ]
    }
   ],
   "source": [
    "import torch.nn as nn\n",
    "import torch.nn.functional as F\n",
    "\n",
    "from torchsummary import summary\n",
    "\n",
    "# Conv2d class\n",
    "# Conv2d(in_channels, out_channels, kernel_size,\n",
    "#        stride=1, padding=0, dilation=1,groups=1,\n",
    "#        bias=True, padding_mode='zeros', device=None, dtype=None)\n",
    "# MaxPool2d(kernel_size, stride=None, padding=0)\n",
    "\n",
    "class VGG16_Net(nn.Module):\n",
    "    def __init__(self):\n",
    "        super().__init__()\n",
    "        self.vgg_block1 = nn.Sequential(\n",
    "            nn.Conv2d(3,64,3,stride=1,padding=1),\n",
    "            nn.Conv2d(64,64,3,stride=1,padding=1),\n",
    "            nn.MaxPool2d(2,2)\n",
    "        )\n",
    "        self.vgg_block2 = nn.Sequential(\n",
    "            nn.Conv2d(64,128,3,stride=1,padding=1),\n",
    "            nn.Conv2d(128,128,3,stride=1,padding=1),\n",
    "            nn.MaxPool2d(2,stride=2)\n",
    "        )\n",
    "        self.vgg_block3 = nn.Sequential(\n",
    "            nn.Conv2d(128,256,3,stride=1,padding=1),\n",
    "            nn.Conv2d(256,256,3,stride=1,padding=1),\n",
    "            nn.Conv2d(256,256,3,stride=1,padding=1),\n",
    "            nn.MaxPool2d(2,stride=2)\n",
    "        )\n",
    "        self.vgg_block4 = nn.Sequential(\n",
    "            nn.Conv2d(256,512,3,stride=1,padding=1),\n",
    "            nn.Conv2d(512,512,3,stride=1,padding=1),\n",
    "            nn.Conv2d(512,512,3,stride=1,padding=1),\n",
    "            nn.MaxPool2d(2,stride=2)\n",
    "        )\n",
    "        self.vgg_block5 = nn.Sequential(\n",
    "            nn.Conv2d(512,512,3,stride=1,padding=1),\n",
    "            nn.Conv2d(512,512,3,stride=1,padding=1),\n",
    "            nn.Conv2d(512,512,3,stride=1,padding=1),\n",
    "            nn.MaxPool2d(2,stride=2)\n",
    "        )\n",
    "        self.fc1 = nn.Linear(512,1024) # 너무 커서 대체\n",
    "        self.fc2 = nn.Linear(1024,1024)\n",
    "        self.fc3 = nn.Linear(1024,10)\n",
    "        \n",
    "    def forward(self, x):\n",
    "        x = self.vgg_block1(x)\n",
    "        x = self.vgg_block2(x)\n",
    "        x = self.vgg_block3(x)\n",
    "        x = self.vgg_block4(x)\n",
    "        x = self.vgg_block5(x)\n",
    "        x = torch.flatten(x,1)\n",
    "        x = self.fc1(x)\n",
    "        x = self.fc2(x)\n",
    "        x = self.fc3(x)\n",
    "        return x\n",
    "    \n",
    "net = VGG16_Net().to(device)\n",
    "\n",
    "# summary 는 device에 넣어야 볼 수 있다.\n",
    "summary(net, (3,32,32))"
   ]
  },
  {
   "cell_type": "code",
   "execution_count": 12,
   "id": "b22e5bcb",
   "metadata": {
    "ExecuteTime": {
     "end_time": "2023-05-25T14:52:49.827990Z",
     "start_time": "2023-05-25T14:52:49.813831Z"
    }
   },
   "outputs": [],
   "source": [
    "import torch.optim as optim\n",
    "\n",
    "criterion = nn.CrossEntropyLoss().to(device)\n",
    "optimizer = optim.Adam(net.parameters(), lr=params[\"lr\"]) # optmizizer 안에 network의 parameters를 넣어둠"
   ]
  },
  {
   "cell_type": "code",
   "execution_count": null,
   "id": "85bdbd4a",
   "metadata": {
    "ExecuteTime": {
     "start_time": "2023-05-25T14:52:41.022Z"
    }
   },
   "outputs": [
    {
     "name": "stdout",
     "output_type": "stream",
     "text": [
      "[ 1/10, iter:  200], loss:94.916866\n",
      "[ 1/10, iter:  400], loss:4.040245\n",
      "[ 1/10, iter:  600], loss:3.662735\n"
     ]
    }
   ],
   "source": [
    "EPOCHS = 10\n",
    "\n",
    "for epoch in range(EPOCHS):\n",
    "    \n",
    "    running_loss = 0.0\n",
    "    for i, data in enumerate(train_loader, 0):\n",
    "        inputs, labels = data\n",
    "        inputs = inputs.to(device)\n",
    "        labels = labels.to(device)\n",
    "        \n",
    "        # optimizer 안의 grad를 초기화\n",
    "        optimizer.zero_grad()\n",
    "        \n",
    "        # forward\n",
    "        outputs = net(inputs) # last activation 없음\n",
    "        \n",
    "        # loss\n",
    "        loss = criterion(outputs, labels)\n",
    "        \n",
    "        # calc gard\n",
    "        loss.backward()\n",
    "        \n",
    "        # backpropagation\n",
    "        optimizer.step()\n",
    "        \n",
    "        # show\n",
    "        running_loss += loss.item() # 로스값 추가\n",
    "        if i % 200 == 199:\n",
    "            print(f\"[{epoch+1:2d}/{EPOCHS}, iter:{i+1:5d}], loss:{running_loss/200:.6f}\")\n",
    "            running_loss = 0.0\n",
    "print(\"End\")"
   ]
  },
  {
   "cell_type": "markdown",
   "id": "79ef1fe1",
   "metadata": {},
   "source": [
    "이게되네"
   ]
  },
  {
   "cell_type": "code",
   "execution_count": null,
   "id": "ddb5172d",
   "metadata": {},
   "outputs": [],
   "source": []
  }
 ],
 "metadata": {
  "kernelspec": {
   "display_name": "Python 3 (ipykernel)",
   "language": "python",
   "name": "python3"
  },
  "language_info": {
   "codemirror_mode": {
    "name": "ipython",
    "version": 3
   },
   "file_extension": ".py",
   "mimetype": "text/x-python",
   "name": "python",
   "nbconvert_exporter": "python",
   "pygments_lexer": "ipython3",
   "version": "3.9.0"
  },
  "toc": {
   "base_numbering": 1,
   "nav_menu": {},
   "number_sections": true,
   "sideBar": true,
   "skip_h1_title": false,
   "title_cell": "Table of Contents",
   "title_sidebar": "Contents",
   "toc_cell": false,
   "toc_position": {},
   "toc_section_display": true,
   "toc_window_display": false
  },
  "varInspector": {
   "cols": {
    "lenName": 16,
    "lenType": 16,
    "lenVar": 40
   },
   "kernels_config": {
    "python": {
     "delete_cmd_postfix": "",
     "delete_cmd_prefix": "del ",
     "library": "var_list.py",
     "varRefreshCmd": "print(var_dic_list())"
    },
    "r": {
     "delete_cmd_postfix": ") ",
     "delete_cmd_prefix": "rm(",
     "library": "var_list.r",
     "varRefreshCmd": "cat(var_dic_list()) "
    }
   },
   "types_to_exclude": [
    "module",
    "function",
    "builtin_function_or_method",
    "instance",
    "_Feature"
   ],
   "window_display": false
  }
 },
 "nbformat": 4,
 "nbformat_minor": 5
}
