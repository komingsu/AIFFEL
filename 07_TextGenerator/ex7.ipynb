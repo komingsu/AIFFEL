{
 "cells": [
  {
   "cell_type": "markdown",
   "id": "5294ee1a",
   "metadata": {},
   "source": [
    "### 연습1. 셰익스피어의 책을 읽고 셰익스피어를 따라하는 TextGenerator를 만들어 봅시다.\n",
    "\n",
    "1. 책을 깔끔하게 정리해서 불러옵니다.\n",
    "2. 필요한 특수문자 선별,소문자화, 공백정리, 시작토큰 추가, 종료토큰 추가를 해줍니다.\n",
    "<img src=\"../data/ex7/17_1.png\" width=\"40%\" height=\"40%\">\n",
    "3. 위 과정에서 빈 문장들을 정리합니다.\n",
    "4. 단어사전을 제작하고 토큰화하여 임베딩합니다.\n",
    "5. LSTM을 이용하여 단어가 들어가면 단어사전의 개수만큼 multi_class 분류를 통해 다음 단어를 예측합니다.\n",
    "6. 첫 단어를 주고 이후 단어를 예측, 그 이후.. \\<end> 토큰이 나오거나 max_len 에 도달할때까지 다음 단어를 예측합니다.\n",
    "\n",
    "7. 결과\n",
    "    1. LSTM layer가 한개인 모델에서 예측 (10 epochs)\n",
    "|모델|결과물|\n",
    "|:--:|:---:|\n",
    "|<img src=\"../data/ex7/17_2.png\" width=\"100%\" height=\"100%\">| <img src=\"../data/ex7/17_3.png\" width=\"80%\" height=\"80%\">|\n",
    "    2. LSTM layer가 두개인 모델에서 예측 (10 epochs)\n",
    "|모델|결과물|\n",
    "|:---:|:---:|\n",
    "|<img src=\"../data/ex7/17_4.png\" width=\"80%\" height=\"80%\">| <img src=\"../data/ex7/17_5.png\" width=\"80%\" height=\"80%\">| \n",
    "    3. LSTM layer가 두개인 모델에서 예측 (20 epochs)\n",
    "|결과물|\n",
    "|:---:|\n",
    "|<img src=\"../data/ex7/17_6.png\" width=\"80%\" height=\"80%\">|\n",
    "\n",
    "결과를 보면 확실히 2개의 레이어를 쓰는것이 좋아보인다.\n",
    "\n",
    "또한 10 epochs를 학습했을때는 모르는 단어가 보이는데 20 epochs에서는 모르는 단어를 거의 예측하지 않는것 같다.\n",
    "\n",
    "이를 과적합으로 봐야할지는 모르겠지만 20 epochs에서 과적합이 일어난 것은 아닌것으로 보인다"
   ]
  },
  {
   "cell_type": "markdown",
   "id": "71db4695",
   "metadata": {},
   "source": [
    "### 연습2. 노래 가사를 읽고 노래 가사를 써봅시다.\n",
    "\n",
    "위 연습1 의 과정을 따라하지만 Train, Valid 데이터를 나눠서 학습하면서 Valid_loss를 모니터링 합니다.\n",
    "\n",
    "1. 모델은 LSTM layer 2개, Epoch = 20으로 진행합니다.\n",
    "\n",
    "    |padding위치|결과|\n",
    "    |:--:|:--:|\n",
    "    |<img src=\"../data/ex7/17_7.png\" width=\"80%\" height=\"80%\">|<img src=\"../data/ex7/17_8.png\" width=\"80%\" height=\"80%\">|\n",
    "    |<img src=\"../data/ex7/17_9.png\" width=\"80%\" height=\"80%\">|<img src=\"../data/ex7/17_10.png\" width=\"80%\" height=\"80%\">|\n",
    "   \n",
    "    결과를 토대로 보면 pre,padding이 훨씬 더 좋은 결과를 보이는 것같다. 특히 문장의 max_len까지 결과를 뽑아주는 것이 좋아보인다.\n",
    "    \n",
    "    웃긴것은 fuck은 랩이랑 연관이 있어보이고, fuck that nigga가 붙어서 예측되는것이다.\n",
    "    "
   ]
  },
  {
   "cell_type": "markdown",
   "id": "a6a12916-5c80-4fec-a738-fc0aabb4e5b6",
   "metadata": {},
   "source": [
    "# 데이터 다듬기"
   ]
  },
  {
   "cell_type": "markdown",
   "id": "1ae14c09-9848-4e6c-8c57-196bdeeaaf46",
   "metadata": {},
   "source": [
    "데이터 확인"
   ]
  },
  {
   "cell_type": "code",
   "execution_count": 27,
   "id": "676ac18d-4ab4-49f9-892e-8f794de9ee86",
   "metadata": {
    "ExecuteTime": {
     "end_time": "2023-05-31T03:03:20.180338Z",
     "start_time": "2023-05-31T03:03:20.157372Z"
    }
   },
   "outputs": [
    {
     "name": "stdout",
     "output_type": "stream",
     "text": [
      "First Citizen:\n",
      "Before we proceed any further, hear me speak.\n",
      "\n",
      "All:\n",
      "Speak, speak.\n",
      "\n",
      "First Citizen:\n",
      "You are all resolved rather to die than to famish?\n",
      "\n",
      "All:\n",
      "Resolved. resolved.\n",
      "\n",
      "First Citizen:\n",
      "First, you know Caius Marcius is chief enemy to the people.\n",
      "\n",
      "All:\n",
      "We know't, we know't.\n",
      "\n",
      "First Citizen:\n",
      "Let us kill him, and we'll have corn at our own price.\n"
     ]
    }
   ],
   "source": [
    "# os: Operating System의 줄임말로, 운영체제에서 제공되는 여러 기능을 파이썬에서 사용할 수 있도록 함 (Ex. 디렉토리 경로 이동, 시스템 환경 변수 가져오기 등)\n",
    "# re: Regular Expression의 줄임말로, 파이썬 정규표현식을 사용하기 위한 모듈\n",
    "# numpy(NumPy): 행렬이나 대규모 다차원 배열을 쉽게 처리할 수 있도록 지원하는 라이브러리. 데이터 구조 외에도 수치 계산을 위해 효율적으로 구현된 기능을 제공\n",
    "# tensorflow(TensorFlow): 데이터 흐름 프로그래밍을 위한 라이브러리. 데이터 그래프를 수치적으로 연산하기 위해 구글에서 만든 오픈 소스 라이브러리.\n",
    "import os, re \n",
    "import numpy as np\n",
    "import tensorflow as tf\n",
    "\n",
    "\n",
    "# 파일을 읽기모드로 열고\n",
    "# 라인 단위로 끊어서 list 형태로 읽어옵니다.\n",
    "file_path = '../data/shakespeare.txt'\n",
    "with open(file_path, \"r\") as f:\n",
    "    raw_corpus = f.read().splitlines()\n",
    "\n",
    "# sample\n",
    "for i in raw_corpus[:20]:\n",
    "    print(i)"
   ]
  },
  {
   "cell_type": "markdown",
   "id": "851db3d1-72a5-4b39-bb9e-e49530e42abc",
   "metadata": {},
   "source": [
    "문장 전처리"
   ]
  },
  {
   "cell_type": "code",
   "execution_count": 2,
   "id": "64bfeb78-d2c8-404d-838b-a646072ed600",
   "metadata": {
    "ExecuteTime": {
     "end_time": "2023-05-31T02:24:06.006281Z",
     "start_time": "2023-05-31T02:24:05.769446Z"
    }
   },
   "outputs": [
    {
     "data": {
      "text/plain": [
       "['<start> before we proceed any further , hear me speak . <end>',\n",
       " '<start> speak , speak . <end>',\n",
       " '<start> you are all resolved rather to die than to famish ? <end>',\n",
       " '<start> resolved . resolved . <end>',\n",
       " '<start> first , you know caius marcius is chief enemy to the people . <end>',\n",
       " '<start> we know t , we know t . <end>',\n",
       " '<start> let us kill him , and we ll have corn at our own price . <end>',\n",
       " '<start> is t a verdict ? <end>',\n",
       " '<start> no more talking on t let it be done away , away ! <end>',\n",
       " '<start> one word , good citizens . <end>']"
      ]
     },
     "execution_count": 2,
     "metadata": {},
     "output_type": "execute_result"
    }
   ],
   "source": [
    "# 문장 전처리 함수\n",
    "def preprocess_sentence(sentence):\n",
    "    sentence = sentence.lower().strip() # 1. 소문자로 바꾸고, 양쪽 공백을 지웁니다\n",
    "    sentence = re.sub(r\"([?.!,¿])\", r\" \\1 \", sentence) # 2. 특수문자 양쪽에 공백을 넣고\n",
    "    sentence = re.sub(r'[\" \"]+', \" \", sentence) # 3. 여러개의 공백은 하나의 공백으로 바꿉니다\n",
    "    sentence = re.sub(r\"[^a-zA-Z?.!,¿]+\", \" \", sentence) # 4. a-zA-Z?.!,¿가 아닌 모든 문자를 하나의 공백으로 바꿉니다\n",
    "    sentence = sentence.strip() # 5. 다시 양쪽 공백을 지웁니다\n",
    "    sentence = '<start> ' + sentence + ' <end>' # 6. 문장 시작에는 <start>, 끝에는 <end>를 추가합니다\n",
    "    return sentence\n",
    "\n",
    "# 여기에 정제된 문장을 모을겁니다\n",
    "corpus = []\n",
    "\n",
    "# raw_corpus list에 저장된 문장들을 순서대로 반환하여 sentence에 저장\n",
    "for sentence in raw_corpus:\n",
    "    # 필요없는 문장제거\n",
    "    if len(sentence) == 0: continue # 없는 문장\n",
    "    if sentence[-1] == \":\": continue # 끝이 : 인 문장\n",
    "    \n",
    "    # 문장 cleansing\n",
    "    preprocessed_sentence = preprocess_sentence(sentence)\n",
    "    # 담기\n",
    "    corpus.append(preprocessed_sentence)\n",
    "        \n",
    "# 정제된 결과를 10개만 확인해보죠\n",
    "corpus[:10]"
   ]
  },
  {
   "cell_type": "markdown",
   "id": "950cafe3-2c99-455f-b453-c8f539f163f9",
   "metadata": {},
   "source": [
    " 단어 사전 생성 및 문장 토큰화"
   ]
  },
  {
   "cell_type": "code",
   "execution_count": 7,
   "id": "5b9231ce-aa13-436a-a582-a15a63609c9f",
   "metadata": {
    "ExecuteTime": {
     "end_time": "2023-05-31T02:29:34.492939Z",
     "start_time": "2023-05-31T02:29:34.126826Z"
    }
   },
   "outputs": [
    {
     "name": "stdout",
     "output_type": "stream",
     "text": [
      "토큰화된 텐서 sample 3개\n",
      "[[   2  143   40  933  140  591    4  124   24  110]\n",
      " [   2  110    4  110    5    3    0    0    0    0]\n",
      " [   2   11   50   43 1201  316    9  201   74    9]]\n",
      "\n",
      "단어 사전 단어 sample 10개\n",
      "1 : <unk>\n",
      "2 : <start>\n",
      "3 : <end>\n",
      "4 : ,\n",
      "5 : .\n",
      "6 : the\n",
      "7 : and\n",
      "8 : i\n",
      "9 : to\n",
      "10 : of\n",
      "\n",
      "input, target 샘플\n",
      "[  2 143  40 933 140 591   4 124  24 110   5   3   0   0   0   0   0   0\n",
      "   0]\n",
      "[143  40 933 140 591   4 124  24 110   5   3   0   0   0   0   0   0   0\n",
      "   0]\n"
     ]
    }
   ],
   "source": [
    "# 토큰화 할 때 텐서플로우의 Tokenizer와 pad_sequences를 사용합니다\n",
    "# https://www.tensorflow.org/api_docs/python/tf/keras/preprocessing/text/Tokenizer\n",
    "# https://www.tensorflow.org/api_docs/python/tf/keras/preprocessing/sequence/pad_sequences\n",
    "\n",
    "def tokenize(corpus):\n",
    "    # 7000단어에 포함되지 못한 단어는 '<unk>'로 바꿀거에요\n",
    "    tokenizer = tf.keras.preprocessing.text.Tokenizer(\n",
    "        num_words=7000, # 토큰화할 단어 수\n",
    "        filters=' ', # 문장을 정제할 필터함수\n",
    "        oov_token=\"<unk>\" # 모르는 단어 처리\n",
    "    )\n",
    "    # 사전 제작\n",
    "    tokenizer.fit_on_texts(corpus)\n",
    "    # 토큰화된 문장\n",
    "    tensor = tokenizer.texts_to_sequences(corpus)\n",
    "    \n",
    "    # 문장의 길이 맞추기\n",
    "    # padding='pre'은 문장 앞에 padding, 'post'는 문장 뒤\n",
    "    tensor = tf.keras.preprocessing.sequence.pad_sequences(tensor, padding='post',maxlen=20)  \n",
    "    return tensor, tokenizer\n",
    "\n",
    "tensor, tokenizer = tokenize(corpus)\n",
    "\n",
    "# sample\n",
    "print(\"토큰화된 텐서 sample 3개\")\n",
    "print(tensor[:3, :10])\n",
    "\n",
    "# 단어 사전 sample\n",
    "print(\"\\n단어 사전 단어 sample 10개\")\n",
    "for idx in tokenizer.index_word:\n",
    "    print(idx, \":\", tokenizer.index_word[idx])\n",
    "    if idx >= 10: break\n",
    "\n",
    "    \n",
    "# tensor에서 마지막 토큰을 잘라내서 소스 문장을 생성합니다\n",
    "# tensor에서 <start>를 잘라내서 타겟 문장을 생성합니다.\n",
    "src_input = tensor[:, :-1]  \n",
    "tgt_input = tensor[:, 1:]    \n",
    "\n",
    "# input, target - sample\n",
    "print(\"\\ninput, target 샘플\")\n",
    "print(src_input[0])\n",
    "print(tgt_input[0])"
   ]
  },
  {
   "cell_type": "markdown",
   "id": "09730b2c-b8c6-4ab0-b7e6-309ed899b306",
   "metadata": {},
   "source": [
    "# 언어 모델 학습"
   ]
  },
  {
   "cell_type": "code",
   "execution_count": 8,
   "id": "dc0190db-a95f-488d-8c53-cb1f39e7200b",
   "metadata": {
    "ExecuteTime": {
     "end_time": "2023-05-31T02:29:35.573853Z",
     "start_time": "2023-05-31T02:29:35.561415Z"
    }
   },
   "outputs": [
    {
     "data": {
      "text/plain": [
       "<PrefetchDataset element_spec=(TensorSpec(shape=(256, 19), dtype=tf.int32, name=None), TensorSpec(shape=(256, 19), dtype=tf.int32, name=None))>"
      ]
     },
     "execution_count": 8,
     "metadata": {},
     "output_type": "execute_result"
    }
   ],
   "source": [
    "BUFFER_SIZE = len(src_input)\n",
    "BATCH_SIZE = 256\n",
    "steps_per_epoch = len(src_input) // BATCH_SIZE\n",
    "\n",
    "# 단어 사전 크기 ( 7000 + 1 <0:pad> )\n",
    "VOCAB_SIZE = tokenizer.num_words + 1   \n",
    "\n",
    "# [input x, target y] 형태의 데이터셋 생성\n",
    "dataset = tf.data.Dataset.from_tensor_slices((src_input, tgt_input))\n",
    "dataset = dataset.cache()\n",
    "dataset = dataset.shuffle(BUFFER_SIZE)\n",
    "dataset = dataset.batch(BATCH_SIZE, drop_remainder=True)\n",
    "dataset = dataset.prefetch(buffer_size=tf.data.experimental.AUTOTUNE)\n",
    "dataset"
   ]
  },
  {
   "cell_type": "code",
   "execution_count": 19,
   "id": "252d16c1-bf2e-4813-92b3-54582b270905",
   "metadata": {
    "ExecuteTime": {
     "end_time": "2023-05-31T02:40:36.323899Z",
     "start_time": "2023-05-31T02:40:34.089138Z"
    }
   },
   "outputs": [
    {
     "name": "stdout",
     "output_type": "stream",
     "text": [
      "Model: \"text_generator_4\"\n",
      "_________________________________________________________________\n",
      " Layer (type)                Output Shape              Param #   \n",
      "=================================================================\n",
      " embedding_4 (Embedding)     multiple                  1792256   \n",
      "                                                                 \n",
      " lstm_6 (LSTM)               multiple                  5246976   \n",
      "                                                                 \n",
      " lstm_7 (LSTM)               multiple                  8392704   \n",
      "                                                                 \n",
      " dense_4 (Dense)             multiple                  7176025   \n",
      "                                                                 \n",
      "=================================================================\n",
      "Total params: 22,607,961\n",
      "Trainable params: 22,607,961\n",
      "Non-trainable params: 0\n",
      "_________________________________________________________________\n"
     ]
    }
   ],
   "source": [
    "class TextGenerator(tf.keras.Model):\n",
    "    def __init__(self, vocab_size, embedding_size, hidden_size):\n",
    "        super().__init__()\n",
    "        # Embedding 레이어, 2개의 LSTM 레이어, 1개의 Dense 레이어로 구성되어 있다.\n",
    "        # Embedding 레이어는 단어 사전의 인덱스 값을 해당 인덱스 번째의 워드 벡터로 바꿔준다.\n",
    "        # 이 워드 벡터는 의미 벡터 공간에서 단어의 추상적 표현으로 사용된다. \n",
    "        self.embedding = tf.keras.layers.Embedding(vocab_size, embedding_size) \n",
    "        self.rnn_1 = tf.keras.layers.LSTM(hidden_size, return_sequences=True)  \n",
    "        self.rnn_2 = tf.keras.layers.LSTM(hidden_size, return_sequences=True) \n",
    "        self.linear = tf.keras.layers.Dense(vocab_size)\n",
    "        \n",
    "    def call(self, x):\n",
    "        out = self.embedding(x)\n",
    "        out = self.rnn_1(out)\n",
    "        out = self.rnn_2(out)\n",
    "        out = self.linear(out)\n",
    "        return out\n",
    "\n",
    "embedding_size = 256\n",
    "hidden_size = 1024\n",
    "model = TextGenerator(VOCAB_SIZE, embedding_size , hidden_size)\n",
    "\n",
    "for src_sample, tgt_sample in dataset.take(1): break\n",
    "\n",
    "# 한 배치만 불러온 데이터를 모델에 넣어봅니다\n",
    "# class api로 모델을 부를때는 데이터를 넣어줘야 summary를 확인할 수 있습니다.\n",
    "model(src_sample)\n",
    "\n",
    "model.summary()"
   ]
  },
  {
   "cell_type": "markdown",
   "id": "c1876705-5797-4b3e-b0e2-12d1f7b4b0a5",
   "metadata": {},
   "source": [
    " 학습"
   ]
  },
  {
   "cell_type": "code",
   "execution_count": 22,
   "id": "38a2b753-df95-4718-9fff-f2cc322a78ea",
   "metadata": {
    "ExecuteTime": {
     "end_time": "2023-05-31T02:47:09.615538Z",
     "start_time": "2023-05-31T02:44:34.185009Z"
    }
   },
   "outputs": [
    {
     "name": "stdout",
     "output_type": "stream",
     "text": [
      "Epoch 1/10\n",
      "93/93 [==============================] - 17s 160ms/step - loss: 2.3458\n",
      "Epoch 2/10\n",
      "93/93 [==============================] - 15s 162ms/step - loss: 2.2542\n",
      "Epoch 3/10\n",
      "93/93 [==============================] - 15s 164ms/step - loss: 2.1935\n",
      "Epoch 4/10\n",
      "93/93 [==============================] - 15s 164ms/step - loss: 2.1289\n",
      "Epoch 5/10\n",
      "93/93 [==============================] - 15s 165ms/step - loss: 2.0595\n",
      "Epoch 6/10\n",
      "93/93 [==============================] - 15s 166ms/step - loss: 1.9843\n",
      "Epoch 7/10\n",
      "93/93 [==============================] - 15s 166ms/step - loss: 1.9047\n",
      "Epoch 8/10\n",
      "93/93 [==============================] - 15s 166ms/step - loss: 1.8257\n",
      "Epoch 9/10\n",
      "93/93 [==============================] - 16s 167ms/step - loss: 1.7436\n",
      "Epoch 10/10\n",
      "93/93 [==============================] - 16s 167ms/step - loss: 1.6614\n"
     ]
    },
    {
     "data": {
      "text/plain": [
       "<keras.callbacks.History at 0x155a9b5bdc0>"
      ]
     },
     "execution_count": 22,
     "metadata": {},
     "output_type": "execute_result"
    }
   ],
   "source": [
    "optimizer = tf.keras.optimizers.Adam()\n",
    "loss = tf.keras.losses.SparseCategoricalCrossentropy(\n",
    "    from_logits=True, # 기본값은 False이다. True이면 softmax함수가 적용되지 않았다는걸 의미한다. \n",
    "    reduction='none'  # 기본값은 SUM이다. 각자 나오는 값의 반환 원할 때 None을 사용한다.\n",
    ")\n",
    "# 모델을 학습시키키 위한 학습과정을 설정하는 단계이다.\n",
    "model.compile(loss=loss, optimizer=optimizer) # 손실함수와 훈련과정을 설정했다.\n",
    "model.fit(dataset, epochs=10) # 만들어둔 데이터셋으로 모델을 학습한다. 10번 학습을 반복하겠다는 의미다."
   ]
  },
  {
   "cell_type": "markdown",
   "id": "1a856f5c-2b0c-41a4-86ac-ff9875bd24ac",
   "metadata": {},
   "source": [
    "# 문장 생성"
   ]
  },
  {
   "cell_type": "code",
   "execution_count": 14,
   "id": "331d4c93-fe1a-4b10-9209-312fead93a3d",
   "metadata": {
    "ExecuteTime": {
     "end_time": "2023-05-31T02:32:41.620212Z",
     "start_time": "2023-05-31T02:32:41.611788Z"
    }
   },
   "outputs": [],
   "source": [
    "#문장생성 함수 정의\n",
    "#모델에게 시작 문장을 전달하면 모델이 시작 문장을 바탕으로 작문을 진행\n",
    "def generate_text(model, tokenizer, init_sentence=\"<start>\", max_len=20): #시작 문자열을 init_sentence 로 받으며 디폴트값은 <start> 를 받는다\n",
    "    # 테스트를 위해서 입력받은 init_sentence도 텐서로 변환합니다\n",
    "    test_input = tokenizer.texts_to_sequences([init_sentence]) #텍스트 안의 단어들을 숫자의 시퀀스의 형태로 변환\n",
    "    test_tensor = tf.convert_to_tensor(test_input, dtype=tf.int64)\n",
    "    end_token = tokenizer.word_index[\"<end>\"]\n",
    "\n",
    "    # 단어 하나씩 예측해 문장을 만듭니다\n",
    "    while True:\n",
    "        predict = model(test_tensor) # 1. 입력받은 문장의 텐서를 입력합니다\n",
    "        predict_word = tf.argmax(tf.nn.softmax(predict, axis=-1), axis=-1)[:, -1] # 2. 예측된 값 중 가장 높은 확률인 word index를 뽑아냅니다\n",
    "        test_tensor = tf.concat([test_tensor, tf.expand_dims(predict_word, axis=0)], axis=-1) # 3. 2에서 예측된 word index를 문장 뒤에 붙입니다\n",
    "        \n",
    "        # 4.모델이 <end>를 예측했거나, max_len에 도달했다면 문장 생성을 마칩니다\n",
    "        if predict_word.numpy()[0] == end_token: break\n",
    "        if test_tensor.shape[1] >= max_len: break\n",
    "\n",
    "    generated = \"\"\n",
    "    # tokenizer를 이용해 word index를 단어로 하나씩 변환합니다 \n",
    "    for word_index in test_tensor[0].numpy():\n",
    "        generated += tokenizer.index_word[word_index] + \" \"\n",
    "\n",
    "    return generated #최종적으로 모델이 생성한 문장을 반환"
   ]
  },
  {
   "cell_type": "code",
   "execution_count": 23,
   "id": "867a7fc1-1c31-4ceb-aca8-72de998d73eb",
   "metadata": {
    "ExecuteTime": {
     "end_time": "2023-05-31T02:47:13.805201Z",
     "start_time": "2023-05-31T02:47:13.402875Z"
    }
   },
   "outputs": [
    {
     "name": "stdout",
     "output_type": "stream",
     "text": [
      "<start> he is not fourteen . <end> \n",
      "<start> she is not fourteen . <end> \n",
      "<start> you are welcome , sir . <end> \n",
      "<start> i ll tell you what you will , sir , i pray you , <end> \n"
     ]
    }
   ],
   "source": [
    "first_ward_list = [\"he\",\"she\",\"you\",\"i\"]\n",
    "for ward in first_ward_list:\n",
    "    text = generate_text(model, tokenizer, init_sentence=f\"<start> {ward}\") # 시작문장으로 he를 넣어 문장생성 함수 실행\n",
    "    print(text)"
   ]
  },
  {
   "cell_type": "markdown",
   "id": "47bac3f6-8726-4523-b344-12efd6b67bea",
   "metadata": {},
   "source": [
    "---"
   ]
  },
  {
   "cell_type": "markdown",
   "id": "7cd988ee-5246-45a2-9918-7f4823ad635b",
   "metadata": {},
   "source": [
    "# EX TASK"
   ]
  },
  {
   "cell_type": "markdown",
   "id": "5b67e53e-19f9-4c0d-a35a-8eb7a1f014cb",
   "metadata": {},
   "source": [
    "* 데이터 불러오기"
   ]
  },
  {
   "cell_type": "code",
   "execution_count": 1,
   "id": "03df2d09-0603-4572-bb30-3829d27d0c5d",
   "metadata": {
    "ExecuteTime": {
     "end_time": "2023-05-31T03:39:30.373015Z",
     "start_time": "2023-05-31T03:39:26.826748Z"
    }
   },
   "outputs": [],
   "source": [
    "import os\n",
    "import re\n",
    "from glob import glob\n",
    "\n",
    "import tensorflow as tf\n",
    "from sklearn.model_selection import train_test_split"
   ]
  },
  {
   "cell_type": "code",
   "execution_count": 2,
   "id": "466bd778-399c-42c8-8cf7-0e4f1417efa8",
   "metadata": {
    "ExecuteTime": {
     "end_time": "2023-05-31T03:39:31.445161Z",
     "start_time": "2023-05-31T03:39:31.389190Z"
    }
   },
   "outputs": [],
   "source": [
    "txt_file_path = '../data/lyrics/*' #os.getenv(x)함수는 환경 변수x의 값을 포함하는 문자열 변수를 반환합니다. txt_file_path 에 \"/root/aiffel/lyricist/data/lyrics/*\" 저장\n",
    "\n",
    "txt_list = glob(txt_file_path) #txt_file_path 경로에 있는 모든 파일명을 리스트 형식으로 txt_list 에 할당\n",
    "\n",
    "raw_corpus = [] \n",
    "\n",
    "# 여러개의 txt 파일을 모두 읽어서 raw_corpus 에 담습니다.\n",
    "for txt_file in txt_list:\n",
    "    with open(txt_file, \"r\", encoding='UTF8') as f:\n",
    "        try:\n",
    "            raw = f.read().splitlines() #read() : 파일 전체의 내용을 하나의 문자열로 읽어온다. , splitlines()  : 여러라인으로 구분되어 있는 문자열을 한라인씩 분리하여 리스트로 반환\n",
    "            raw_corpus.extend(raw) # extend() : 리스트함수로 추가적인 내용을 연장 한다.\n",
    "        except:\n",
    "            print(\"read fail\")"
   ]
  },
  {
   "cell_type": "code",
   "execution_count": 3,
   "id": "0dd5dec3",
   "metadata": {
    "ExecuteTime": {
     "end_time": "2023-05-31T03:39:33.247318Z",
     "start_time": "2023-05-31T03:39:33.238360Z"
    }
   },
   "outputs": [
    {
     "name": "stdout",
     "output_type": "stream",
     "text": [
      "데이터 크기: 187088\n",
      "Examples:\n",
      " ['Looking for some education', 'Made my way into the night', 'All that bullshit conversation', \"Baby, can't you read the signs? I won't bore you with the details, baby\", \"I don't even wanna waste your time\", \"Let's just say that maybe\", 'You could help me ease my mind', \"I ain't Mr. Right But if you're looking for fast love\", \"If that's love in your eyes\", \"It's more than enough\", 'Had some bad love', \"So fast love is all that I've got on my mind Ooh, ooh\", 'Ooh, ooh Looking for some affirmation', 'Made my way into the sun', 'My friends got their ladies', \"And they're all having babies\", \"I just wanna have some fun I won't bore you with the details, baby\", \"I don't even wanna waste your time\", \"Let's just say that maybe\", 'You could help me ease my mind']\n",
      "Examples:\n",
      " ['This is the new America', 'We are the new America', 'This is the new America', 'We are the new America', 'This is the new America', 'We are the new America Breathe out, breathe in', 'American oxygen', 'Every breath I breathe', \"Chasin' this American Dream\", 'We sweat for a nickel and a dime', 'Turn it into an empire', 'Breathe in, this feeling', 'American, American oxygen American oxygen', 'Breathe in, this feeling', 'American, American Oxygen American oxygen', 'Breathe in, this feeling', 'American, American Oxygen This is the new America', 'We are the new America', 'This is the new America', 'We are the new America ']\n"
     ]
    }
   ],
   "source": [
    "print(\"데이터 크기:\", len(raw_corpus))\n",
    "print(\"Examples:\\n\", raw_corpus[:20])\n",
    "print(\"Examples:\\n\", raw_corpus[-20:])"
   ]
  },
  {
   "cell_type": "markdown",
   "id": "98fc9047-fb67-49dd-8e8a-140cf2d097bd",
   "metadata": {},
   "source": [
    "* 문장 전처리"
   ]
  },
  {
   "cell_type": "code",
   "execution_count": 4,
   "id": "811dc096-e8bc-4257-beab-2c03641e3cd4",
   "metadata": {
    "ExecuteTime": {
     "end_time": "2023-05-31T03:39:36.357870Z",
     "start_time": "2023-05-31T03:39:34.993238Z"
    }
   },
   "outputs": [
    {
     "data": {
      "text/plain": [
       "['<start> looking for some education <end>',\n",
       " '<start> made my way into the night <end>',\n",
       " '<start> all that bullshit conversation <end>',\n",
       " '<start> baby , can t you read the signs ? i won t bore you with the details , baby <end>',\n",
       " '<start> i don t even wanna waste your time <end>',\n",
       " '<start> let s just say that maybe <end>',\n",
       " '<start> you could help me ease my mind <end>',\n",
       " '<start> i ain t mr . right but if you re looking for fast love <end>',\n",
       " '<start> if that s love in your eyes <end>',\n",
       " '<start> it s more than enough <end>']"
      ]
     },
     "execution_count": 4,
     "metadata": {},
     "output_type": "execute_result"
    }
   ],
   "source": [
    "def preprocess_sentence(sentence):\n",
    "    sentence = sentence.lower().strip() \n",
    "    sentence = re.sub(r\"([?.!,¿])\", r\" \\1 \", sentence)\n",
    "    sentence = re.sub(r'[\" \"]+', \" \", sentence)\n",
    "    sentence = re.sub(r\"[^a-zA-Z?.!,¿]+\", \" \", sentence)\n",
    "    sentence = sentence.strip() \n",
    "    sentence = '<start> ' + sentence + ' <end>'\n",
    "    return sentence\n",
    "\n",
    "corpus = []\n",
    "for sentence in raw_corpus:\n",
    "    if len(sentence) == 0: continue \n",
    "    if sentence[-1] == \":\": continue \n",
    "\n",
    "    preprocessed_sentence = preprocess_sentence(sentence)\n",
    "    corpus.append(preprocessed_sentence)\n",
    "    \n",
    "corpus[:10]"
   ]
  },
  {
   "cell_type": "markdown",
   "id": "fa1eae78-edd7-40b2-91cb-4161a17f2663",
   "metadata": {},
   "source": [
    "* 토큰화"
   ]
  },
  {
   "cell_type": "code",
   "execution_count": 5,
   "id": "f76c8fb2-2451-4708-abb1-729d9fa623fe",
   "metadata": {
    "ExecuteTime": {
     "end_time": "2023-05-31T03:39:39.901211Z",
     "start_time": "2023-05-31T03:39:37.189730Z"
    },
    "tags": []
   },
   "outputs": [],
   "source": [
    "def tokenize(corpus):\n",
    "    tokenizer = tf.keras.preprocessing.text.Tokenizer(\n",
    "        num_words=12000, # 단어 수\n",
    "        filters=' ',\n",
    "        oov_token=\"<unk>\"\n",
    "    )\n",
    "    tokenizer.fit_on_texts(corpus)\n",
    "    tensor = tokenizer.texts_to_sequences(corpus)\n",
    "    tensor = tf.keras.preprocessing.sequence.pad_sequences(tensor, padding='pre',maxlen=20) # 최대 길이 15, 앞쪽 padding\n",
    "    return tensor, tokenizer\n",
    "\n",
    "tensor, tokenizer = tokenize(corpus)\n",
    "\n",
    "src_input = tensor[:, :-1]\n",
    "tgt_input = tensor[:, 1:]"
   ]
  },
  {
   "cell_type": "markdown",
   "id": "90b05490-5440-4863-9d9e-5e17e2957031",
   "metadata": {},
   "source": [
    "* TTS"
   ]
  },
  {
   "cell_type": "code",
   "execution_count": 7,
   "id": "2d1beb11-341c-4f46-9207-7baac1c40336",
   "metadata": {
    "ExecuteTime": {
     "end_time": "2023-05-31T03:39:42.365623Z",
     "start_time": "2023-05-31T03:39:42.323188Z"
    }
   },
   "outputs": [],
   "source": [
    "enc_train, enc_val, dec_train, dec_val = train_test_split(src_input, tgt_input, train_size=0.8)"
   ]
  },
  {
   "cell_type": "code",
   "execution_count": 8,
   "id": "919c0602-4922-4e57-ae74-9ad8e96e3a1b",
   "metadata": {
    "ExecuteTime": {
     "end_time": "2023-05-31T03:39:42.875889Z",
     "start_time": "2023-05-31T03:39:42.863312Z"
    }
   },
   "outputs": [
    {
     "data": {
      "text/plain": [
       "(array([  0,   0,   2, 330,   4,  50,   7,  91, 297,  13, 675,   4,  50,\n",
       "          7,  91, 297,  13, 966,  20]),\n",
       " array([  0,   2, 330,   4,  50,   7,  91, 297,  13, 675,   4,  50,   7,\n",
       "         91, 297,  13, 966,  20,   3]),\n",
       " array([   0,    0,    0,    0,    0,    0,    0,    0,    2,    5,   76,\n",
       "         171,  268,   17,   11,   16,    9, 1879,    4]),\n",
       " array([   0,    0,    0,    0,    0,    0,    0,    2,    5,   76,  171,\n",
       "         268,   17,   11,   16,    9, 1879,    4,    3]))"
      ]
     },
     "execution_count": 8,
     "metadata": {},
     "output_type": "execute_result"
    }
   ],
   "source": [
    "enc_train[0], dec_train[0], enc_val[0], dec_val[0]"
   ]
  },
  {
   "cell_type": "markdown",
   "id": "7284ec2c-983a-4cca-b15f-d34879b6b8d8",
   "metadata": {},
   "source": [
    "* 언어 모델 학습"
   ]
  },
  {
   "cell_type": "code",
   "execution_count": 9,
   "id": "344c49c2-9a40-47b3-9732-36ceb6a3a9dd",
   "metadata": {
    "ExecuteTime": {
     "end_time": "2023-05-31T03:39:46.952250Z",
     "start_time": "2023-05-31T03:39:44.600993Z"
    }
   },
   "outputs": [
    {
     "name": "stdout",
     "output_type": "stream",
     "text": [
      "Model: \"text_generator\"\n",
      "_________________________________________________________________\n",
      " Layer (type)                Output Shape              Param #   \n",
      "=================================================================\n",
      " embedding (Embedding)       multiple                  48004000  \n",
      "                                                                 \n",
      " lstm (LSTM)                 multiple                  4359168   \n",
      "                                                                 \n",
      " lstm_1 (LSTM)               multiple                  525312    \n",
      "                                                                 \n",
      " dense (Dense)               multiple                  3084257   \n",
      "                                                                 \n",
      "=================================================================\n",
      "Total params: 55,972,737\n",
      "Trainable params: 55,972,737\n",
      "Non-trainable params: 0\n",
      "_________________________________________________________________\n"
     ]
    }
   ],
   "source": [
    "BUFFER_SIZE = len(src_input)\n",
    "BATCH_SIZE = 256\n",
    "steps_per_epoch = len(src_input) // BATCH_SIZE\n",
    "\n",
    "VOCAB_SIZE = tokenizer.num_words + 1   \n",
    "\n",
    "train_dataset = tf.data.Dataset.from_tensor_slices((enc_train, dec_train))\n",
    "train_dataset = train_dataset.cache()\n",
    "train_dataset = train_dataset.shuffle(BUFFER_SIZE)\n",
    "train_dataset = train_dataset.batch(BATCH_SIZE, drop_remainder=True)\n",
    "train_dataset = train_dataset.prefetch(buffer_size=tf.data.experimental.AUTOTUNE)\n",
    "train_dataset\n",
    "\n",
    "test_dataset = tf.data.Dataset.from_tensor_slices((enc_val, dec_val))\n",
    "test_dataset = test_dataset.cache()\n",
    "test_dataset = test_dataset.shuffle(BUFFER_SIZE)\n",
    "test_dataset = test_dataset.batch(BATCH_SIZE, drop_remainder=True)\n",
    "test_dataset = test_dataset.prefetch(buffer_size=tf.data.experimental.AUTOTUNE)\n",
    "test_dataset\n",
    "\n",
    "class TextGenerator(tf.keras.Model):\n",
    "    def __init__(self, vocab_size, embedding_size, hidden_size):\n",
    "        super().__init__()\n",
    "        self.embedding = tf.keras.layers.Embedding(vocab_size, embedding_size) \n",
    "        self.rnn_1 = tf.keras.layers.LSTM(hidden_size, return_sequences=True)\n",
    "        self.rnn_2 = tf.keras.layers.LSTM(hidden_size, return_sequences=True)\n",
    "        self.linear = tf.keras.layers.Dense(vocab_size)\n",
    "        \n",
    "    def call(self, x):\n",
    "        out = self.embedding(x)\n",
    "        out = self.rnn_1(out)\n",
    "        out = self.rnn_2(out)\n",
    "        out = self.linear(out)\n",
    "        return out\n",
    "\n",
    "embedding_size = 4000\n",
    "hidden_size = 256\n",
    "model = TextGenerator(VOCAB_SIZE, embedding_size , hidden_size)\n",
    "\n",
    "for src_sample, tgt_sample in train_dataset.take(1): break\n",
    "\n",
    "model(src_sample)\n",
    "model.summary()"
   ]
  },
  {
   "cell_type": "code",
   "execution_count": 10,
   "id": "c1fa302b-ccf2-40ab-8ba6-ffe9b9f87e28",
   "metadata": {
    "ExecuteTime": {
     "end_time": "2023-05-31T03:55:36.134300Z",
     "start_time": "2023-05-31T03:39:47.967320Z"
    }
   },
   "outputs": [
    {
     "name": "stdout",
     "output_type": "stream",
     "text": [
      "Epoch 1/20\n",
      "549/549 [==============================] - 50s 87ms/step - loss: 3.4309 - val_loss: 2.8994\n",
      "Epoch 2/20\n",
      "549/549 [==============================] - 47s 86ms/step - loss: 2.6909 - val_loss: 2.5614\n",
      "Epoch 3/20\n",
      "549/549 [==============================] - 47s 86ms/step - loss: 2.4981 - val_loss: 2.4554\n",
      "Epoch 4/20\n",
      "549/549 [==============================] - 47s 86ms/step - loss: 2.4093 - val_loss: 2.3947\n",
      "Epoch 5/20\n",
      "549/549 [==============================] - 47s 86ms/step - loss: 2.3352 - val_loss: 2.3390\n",
      "Epoch 6/20\n",
      "549/549 [==============================] - 47s 86ms/step - loss: 2.2669 - val_loss: 2.2955\n",
      "Epoch 7/20\n",
      "549/549 [==============================] - 47s 86ms/step - loss: 2.2117 - val_loss: 2.2618\n",
      "Epoch 8/20\n",
      "549/549 [==============================] - 47s 86ms/step - loss: 2.1559 - val_loss: 2.2298\n",
      "Epoch 9/20\n",
      "549/549 [==============================] - 47s 86ms/step - loss: 2.1104 - val_loss: 2.2004\n",
      "Epoch 10/20\n",
      "549/549 [==============================] - 47s 86ms/step - loss: 2.0582 - val_loss: 2.1770\n",
      "Epoch 11/20\n",
      "549/549 [==============================] - 47s 86ms/step - loss: 2.0128 - val_loss: 2.1545\n",
      "Epoch 12/20\n",
      "549/549 [==============================] - 47s 86ms/step - loss: 1.9726 - val_loss: 2.1359\n",
      "Epoch 13/20\n",
      "549/549 [==============================] - 47s 86ms/step - loss: 1.9253 - val_loss: 2.1213\n",
      "Epoch 14/20\n",
      "549/549 [==============================] - 47s 86ms/step - loss: 1.8854 - val_loss: 2.1060\n",
      "Epoch 15/20\n",
      "549/549 [==============================] - 47s 86ms/step - loss: 1.8475 - val_loss: 2.0946\n",
      "Epoch 16/20\n",
      "549/549 [==============================] - 47s 86ms/step - loss: 1.8111 - val_loss: 2.0870\n",
      "Epoch 17/20\n",
      "549/549 [==============================] - 47s 86ms/step - loss: 1.7783 - val_loss: 2.0755\n",
      "Epoch 18/20\n",
      "549/549 [==============================] - 47s 86ms/step - loss: 1.7420 - val_loss: 2.0662\n",
      "Epoch 19/20\n",
      "549/549 [==============================] - 47s 86ms/step - loss: 1.7110 - val_loss: 2.0650\n",
      "Epoch 20/20\n",
      "549/549 [==============================] - 47s 86ms/step - loss: 1.6820 - val_loss: 2.0623\n"
     ]
    },
    {
     "data": {
      "text/plain": [
       "<keras.callbacks.History at 0x1b1b9534790>"
      ]
     },
     "execution_count": 10,
     "metadata": {},
     "output_type": "execute_result"
    }
   ],
   "source": [
    "optimizer = tf.keras.optimizers.Adam()\n",
    "loss = tf.keras.losses.SparseCategoricalCrossentropy(from_logits=True,reduction='none')\n",
    "\n",
    "model.compile(loss=loss, optimizer=optimizer)\n",
    "model.fit(train_dataset, validation_data=test_dataset, epochs=20)"
   ]
  },
  {
   "cell_type": "markdown",
   "id": "0c3e32e3-aa56-45dd-ba38-6d8666f43ced",
   "metadata": {},
   "source": [
    "* 문장생성"
   ]
  },
  {
   "cell_type": "code",
   "execution_count": 11,
   "id": "16a5e9c0-ac50-4a9f-ad91-b10ef107690d",
   "metadata": {
    "ExecuteTime": {
     "end_time": "2023-05-31T03:55:45.070356Z",
     "start_time": "2023-05-31T03:55:45.062636Z"
    }
   },
   "outputs": [],
   "source": [
    "#문장생성 함수 정의\n",
    "#모델에게 시작 문장을 전달하면 모델이 시작 문장을 바탕으로 작문을 진행\n",
    "def generate_text(model, tokenizer, init_sentence=\"<start>\", max_len=20): #시작 문자열을 init_sentence 로 받으며 디폴트값은 <start> 를 받는다\n",
    "    # 테스트를 위해서 입력받은 init_sentence도 텐서로 변환합니다\n",
    "    test_input = tokenizer.texts_to_sequences([init_sentence]) #텍스트 안의 단어들을 숫자의 시퀀스의 형태로 변환\n",
    "    test_tensor = tf.convert_to_tensor(test_input, dtype=tf.int64)\n",
    "    end_token = tokenizer.word_index[\"<end>\"]\n",
    "\n",
    "    # 단어 하나씩 예측해 문장을 만듭니다\n",
    "    while True:\n",
    "        predict = model(test_tensor) # 1. 입력받은 문장의 텐서를 입력합니다\n",
    "        predict_word = tf.argmax(tf.nn.softmax(predict, axis=-1), axis=-1)[:, -1] # 2. 예측된 값 중 가장 높은 확률인 word index를 뽑아냅니다\n",
    "        test_tensor = tf.concat([test_tensor, tf.expand_dims(predict_word, axis=0)], axis=-1) # 3. 2에서 예측된 word index를 문장 뒤에 붙입니다\n",
    "        \n",
    "        # 4.모델이 <end>를 예측했거나, max_len에 도달했다면 문장 생성을 마칩니다\n",
    "        if predict_word.numpy()[0] == end_token: break\n",
    "        if test_tensor.shape[1] >= max_len: break\n",
    "\n",
    "    generated = \"\"\n",
    "    # tokenizer를 이용해 word index를 단어로 하나씩 변환합니다 \n",
    "    for word_index in test_tensor[0].numpy():\n",
    "        generated += tokenizer.index_word[word_index] + \" \"\n",
    "\n",
    "    return generated #최종적으로 모델이 생성한 문장을 반환"
   ]
  },
  {
   "cell_type": "code",
   "execution_count": 12,
   "id": "79817d2b-a4a6-4fb5-9819-fca8cbcdd74a",
   "metadata": {
    "ExecuteTime": {
     "end_time": "2023-05-31T03:55:48.230868Z",
     "start_time": "2023-05-31T03:55:45.815374Z"
    }
   },
   "outputs": [
    {
     "name": "stdout",
     "output_type": "stream",
     "text": [
      "<start> he s got a big , i m a <unk> , i m a flirt it s alright <end> \n",
      "<start> she s a monster and i m a flirt it s like a <unk> , i m a <end> \n",
      "<start> you know that i m not gonna be there for you , i m a flirt with you <end> \n",
      "<start> i m the one , yeah , yeah , yeah , yeah , yeah , yeah , yeah <end> \n",
      "<start> what i m gonna do what you want with me ? i m not gonna be the one <end> \n",
      "<start> how i m going to be with you , i ll be there for you , oh <end> \n",
      "<start> love , love , love , love , love , love , love , love , love , <end> \n",
      "<start> fuck all the money and the world is on my knees and i m a diamond ring <end> \n",
      "<start> why are you ready ? i m not gonna be , i m a flirt now no <end> \n",
      "<start> shut up and i m a go getter ! that s all i ve been through . <end> \n",
      "<start> hey , hey , hey , hey , hey , hey , hey , hey , hey , <end> \n",
      "<start> my love , love , love , love , love , love , love , love , love <end> \n",
      "<start> got a matching rollie , that s on the back , and the lincoln jeeps ooh ooh ooh <end> \n"
     ]
    }
   ],
   "source": [
    "first_ward_list = [\"he\",\"she\",\"you\",\"i\",\"what\",\"how\",\"love\",\"fuck\",\"why\",\"shut\",\"hey\",\"my\",\"Got\"]\n",
    "for ward in first_ward_list:\n",
    "    text = generate_text(model, tokenizer, init_sentence=f\"<start> {ward}\") # 시작문장으로 he를 넣어 문장생성 함수 실행\n",
    "    print(text)"
   ]
  },
  {
   "cell_type": "code",
   "execution_count": null,
   "id": "1081a47c-c7b5-4415-8805-b07d1ab9d491",
   "metadata": {},
   "outputs": [],
   "source": []
  }
 ],
 "metadata": {
  "kernelspec": {
   "display_name": "Python 3 (ipykernel)",
   "language": "python",
   "name": "python3"
  },
  "language_info": {
   "codemirror_mode": {
    "name": "ipython",
    "version": 3
   },
   "file_extension": ".py",
   "mimetype": "text/x-python",
   "name": "python",
   "nbconvert_exporter": "python",
   "pygments_lexer": "ipython3",
   "version": "3.9.0"
  },
  "varInspector": {
   "cols": {
    "lenName": 16,
    "lenType": 16,
    "lenVar": 40
   },
   "kernels_config": {
    "python": {
     "delete_cmd_postfix": "",
     "delete_cmd_prefix": "del ",
     "library": "var_list.py",
     "varRefreshCmd": "print(var_dic_list())"
    },
    "r": {
     "delete_cmd_postfix": ") ",
     "delete_cmd_prefix": "rm(",
     "library": "var_list.r",
     "varRefreshCmd": "cat(var_dic_list()) "
    }
   },
   "types_to_exclude": [
    "module",
    "function",
    "builtin_function_or_method",
    "instance",
    "_Feature"
   ],
   "window_display": false
  }
 },
 "nbformat": 4,
 "nbformat_minor": 5
}
