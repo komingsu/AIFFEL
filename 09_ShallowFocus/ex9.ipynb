{
 "cells": [
  {
   "cell_type": "markdown",
   "id": "01412b83-806b-4b7a-85f1-65d6b9bb4a38",
   "metadata": {},
   "source": [
    "ex"
   ]
  },
  {
   "cell_type": "code",
   "execution_count": null,
   "id": "6d662478-fbb2-4314-92ba-f69e4da1a2ec",
   "metadata": {},
   "outputs": [],
   "source": []
  }
 ],
 "metadata": {
  "kernelspec": {
   "display_name": "Python 3 (ipykernel)",
   "language": "python",
   "name": "python3"
  },
  "language_info": {
   "codemirror_mode": {
    "name": "ipython",
    "version": 3
   },
   "file_extension": ".py",
   "mimetype": "text/x-python",
   "name": "python",
   "nbconvert_exporter": "python",
   "pygments_lexer": "ipython3",
   "version": "3.9.16"
  }
 },
 "nbformat": 4,
 "nbformat_minor": 5
}
