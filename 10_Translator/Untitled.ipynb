{
 "cells": [
  {
   "cell_type": "code",
   "execution_count": 1,
   "id": "0307c1c8-b7e7-4821-b84c-971f001e2b3e",
   "metadata": {},
   "outputs": [],
   "source": [
    "import pandas as pd\n",
    "from tensorflow.keras.preprocessing.text import Tokenizer\n",
    "from tensorflow.keras.preprocessing.sequence import pad_sequences\n",
    "from tensorflow.keras.utils import to_categorical\n",
    "import numpy as np"
   ]
  },
  {
   "cell_type": "code",
   "execution_count": 4,
   "id": "be29414b-fa29-4e07-891b-5072de6fa354",
   "metadata": {},
   "outputs": [
    {
     "name": "stdout",
     "output_type": "stream",
     "text": [
      "전체 샘플의 수 : 217975\n"
     ]
    },
    {
     "data": {
      "text/html": [
       "<div>\n",
       "<style scoped>\n",
       "    .dataframe tbody tr th:only-of-type {\n",
       "        vertical-align: middle;\n",
       "    }\n",
       "\n",
       "    .dataframe tbody tr th {\n",
       "        vertical-align: top;\n",
       "    }\n",
       "\n",
       "    .dataframe thead th {\n",
       "        text-align: right;\n",
       "    }\n",
       "</style>\n",
       "<table border=\"1\" class=\"dataframe\">\n",
       "  <thead>\n",
       "    <tr style=\"text-align: right;\">\n",
       "      <th></th>\n",
       "      <th>eng</th>\n",
       "      <th>fra</th>\n",
       "      <th>cc</th>\n",
       "    </tr>\n",
       "  </thead>\n",
       "  <tbody>\n",
       "    <tr>\n",
       "      <th>123060</th>\n",
       "      <td>I'm going to go get some food.</td>\n",
       "      <td>Je vais aller chercher à manger.</td>\n",
       "      <td>CC-BY 2.0 (France) Attribution: tatoeba.org #2...</td>\n",
       "    </tr>\n",
       "    <tr>\n",
       "      <th>58471</th>\n",
       "      <td>Tom is ready to begin.</td>\n",
       "      <td>Tom est prêt à commencer.</td>\n",
       "      <td>CC-BY 2.0 (France) Attribution: tatoeba.org #6...</td>\n",
       "    </tr>\n",
       "    <tr>\n",
       "      <th>95658</th>\n",
       "      <td>He will make a good doctor.</td>\n",
       "      <td>Il fera un bon médecin.</td>\n",
       "      <td>CC-BY 2.0 (France) Attribution: tatoeba.org #2...</td>\n",
       "    </tr>\n",
       "    <tr>\n",
       "      <th>189847</th>\n",
       "      <td>Let's see what you've got in your suitcase.</td>\n",
       "      <td>Voyons voir ce que vous avez dans votre valise.</td>\n",
       "      <td>CC-BY 2.0 (France) Attribution: tatoeba.org #3...</td>\n",
       "    </tr>\n",
       "    <tr>\n",
       "      <th>114072</th>\n",
       "      <td>I regret to say I can't come.</td>\n",
       "      <td>J'ai le regret d'annoncer que je ne peux pas v...</td>\n",
       "      <td>CC-BY 2.0 (France) Attribution: tatoeba.org #6...</td>\n",
       "    </tr>\n",
       "  </tbody>\n",
       "</table>\n",
       "</div>"
      ],
      "text/plain": [
       "                                                eng  \\\n",
       "123060               I'm going to go get some food.   \n",
       "58471                        Tom is ready to begin.   \n",
       "95658                   He will make a good doctor.   \n",
       "189847  Let's see what you've got in your suitcase.   \n",
       "114072                I regret to say I can't come.   \n",
       "\n",
       "                                                      fra  \\\n",
       "123060                   Je vais aller chercher à manger.   \n",
       "58471                           Tom est prêt à commencer.   \n",
       "95658                             Il fera un bon médecin.   \n",
       "189847    Voyons voir ce que vous avez dans votre valise.   \n",
       "114072  J'ai le regret d'annoncer que je ne peux pas v...   \n",
       "\n",
       "                                                       cc  \n",
       "123060  CC-BY 2.0 (France) Attribution: tatoeba.org #2...  \n",
       "58471   CC-BY 2.0 (France) Attribution: tatoeba.org #6...  \n",
       "95658   CC-BY 2.0 (France) Attribution: tatoeba.org #2...  \n",
       "189847  CC-BY 2.0 (France) Attribution: tatoeba.org #3...  \n",
       "114072  CC-BY 2.0 (France) Attribution: tatoeba.org #6...  "
      ]
     },
     "execution_count": 4,
     "metadata": {},
     "output_type": "execute_result"
    }
   ],
   "source": [
    "import os\n",
    "file_path = '../data/ex10/fra-eng/fra.txt'\n",
    "lines = pd.read_csv(file_path, names=['eng', 'fra', 'cc'], sep='\\t')\n",
    "print('전체 샘플의 수 :',len(lines))\n",
    "lines.sample(5) #샘플 5개 출력"
   ]
  },
  {
   "cell_type": "code",
   "execution_count": 7,
   "id": "962a535f-4f96-4653-a034-51656a191b26",
   "metadata": {},
   "outputs": [
    {
     "data": {
      "text/html": [
       "<div>\n",
       "<style scoped>\n",
       "    .dataframe tbody tr th:only-of-type {\n",
       "        vertical-align: middle;\n",
       "    }\n",
       "\n",
       "    .dataframe tbody tr th {\n",
       "        vertical-align: top;\n",
       "    }\n",
       "\n",
       "    .dataframe thead th {\n",
       "        text-align: right;\n",
       "    }\n",
       "</style>\n",
       "<table border=\"1\" class=\"dataframe\">\n",
       "  <thead>\n",
       "    <tr style=\"text-align: right;\">\n",
       "      <th></th>\n",
       "      <th>eng</th>\n",
       "      <th>fra</th>\n",
       "    </tr>\n",
       "  </thead>\n",
       "  <tbody>\n",
       "    <tr>\n",
       "      <th>12006</th>\n",
       "      <td>Leave my house.</td>\n",
       "      <td>\\t Quitte ma maison ! \\n</td>\n",
       "    </tr>\n",
       "    <tr>\n",
       "      <th>11799</th>\n",
       "      <td>It isn't funny.</td>\n",
       "      <td>\\t Ce n'est pas marrant. \\n</td>\n",
       "    </tr>\n",
       "    <tr>\n",
       "      <th>36023</th>\n",
       "      <td>Watch your fingers!</td>\n",
       "      <td>\\t Attention à vos doigts ! \\n</td>\n",
       "    </tr>\n",
       "    <tr>\n",
       "      <th>20518</th>\n",
       "      <td>I want to travel.</td>\n",
       "      <td>\\t Je veux voyager. \\n</td>\n",
       "    </tr>\n",
       "    <tr>\n",
       "      <th>20867</th>\n",
       "      <td>I'm not finished.</td>\n",
       "      <td>\\t Je n'en ai pas terminé. \\n</td>\n",
       "    </tr>\n",
       "  </tbody>\n",
       "</table>\n",
       "</div>"
      ],
      "text/plain": [
       "                       eng                             fra\n",
       "12006      Leave my house.        \\t Quitte ma maison ! \\n\n",
       "11799      It isn't funny.     \\t Ce n'est pas marrant. \\n\n",
       "36023  Watch your fingers!  \\t Attention à vos doigts ! \\n\n",
       "20518    I want to travel.          \\t Je veux voyager. \\n\n",
       "20867    I'm not finished.   \\t Je n'en ai pas terminé. \\n"
      ]
     },
     "execution_count": 7,
     "metadata": {},
     "output_type": "execute_result"
    }
   ],
   "source": [
    "lines = lines[['eng', 'fra']]\n",
    "lines.sample(5)"
   ]
  },
  {
   "cell_type": "code",
   "execution_count": 6,
   "id": "87fbab85-75e5-49a6-b1af-8e9b6a689d40",
   "metadata": {},
   "outputs": [
    {
     "name": "stdout",
     "output_type": "stream",
     "text": [
      "전체 샘플의 수 : 50000\n"
     ]
    },
    {
     "data": {
      "text/html": [
       "<div>\n",
       "<style scoped>\n",
       "    .dataframe tbody tr th:only-of-type {\n",
       "        vertical-align: middle;\n",
       "    }\n",
       "\n",
       "    .dataframe tbody tr th {\n",
       "        vertical-align: top;\n",
       "    }\n",
       "\n",
       "    .dataframe thead th {\n",
       "        text-align: right;\n",
       "    }\n",
       "</style>\n",
       "<table border=\"1\" class=\"dataframe\">\n",
       "  <thead>\n",
       "    <tr style=\"text-align: right;\">\n",
       "      <th></th>\n",
       "      <th>eng</th>\n",
       "      <th>fra</th>\n",
       "    </tr>\n",
       "  </thead>\n",
       "  <tbody>\n",
       "    <tr>\n",
       "      <th>12443</th>\n",
       "      <td>That took guts.</td>\n",
       "      <td>\\t Il fallait avoir les tripes. \\n</td>\n",
       "    </tr>\n",
       "    <tr>\n",
       "      <th>21531</th>\n",
       "      <td>No one can leave.</td>\n",
       "      <td>\\t Personne ne peut partir. \\n</td>\n",
       "    </tr>\n",
       "    <tr>\n",
       "      <th>2004</th>\n",
       "      <td>I got sick.</td>\n",
       "      <td>\\t Je suis devenue malade. \\n</td>\n",
       "    </tr>\n",
       "    <tr>\n",
       "      <th>16189</th>\n",
       "      <td>Just try it out.</td>\n",
       "      <td>\\t Faites-en simplement l'expérience. \\n</td>\n",
       "    </tr>\n",
       "    <tr>\n",
       "      <th>49856</th>\n",
       "      <td>They didn't say that.</td>\n",
       "      <td>\\t Ils n'ont pas dit ça. \\n</td>\n",
       "    </tr>\n",
       "  </tbody>\n",
       "</table>\n",
       "</div>"
      ],
      "text/plain": [
       "                         eng                                       fra\n",
       "12443        That took guts.        \\t Il fallait avoir les tripes. \\n\n",
       "21531      No one can leave.            \\t Personne ne peut partir. \\n\n",
       "2004             I got sick.             \\t Je suis devenue malade. \\n\n",
       "16189       Just try it out.  \\t Faites-en simplement l'expérience. \\n\n",
       "49856  They didn't say that.               \\t Ils n'ont pas dit ça. \\n"
      ]
     },
     "execution_count": 6,
     "metadata": {},
     "output_type": "execute_result"
    }
   ],
   "source": [
    "# 시작 토큰과 종료 토큰 추가\n",
    "sos_token = '\\t'\n",
    "eos_token = '\\n'\n",
    "lines.fra = lines.fra.apply(lambda x : '\\t '+ x + ' \\n')\n",
    "print('전체 샘플의 수 :',len(lines))\n",
    "lines.sample(5)"
   ]
  },
  {
   "cell_type": "code",
   "execution_count": null,
   "id": "145e52b4-07f5-42a6-b9c0-d3a8003b05e6",
   "metadata": {},
   "outputs": [],
   "source": []
  }
 ],
 "metadata": {
  "kernelspec": {
   "display_name": "Python 3 (ipykernel)",
   "language": "python",
   "name": "python3"
  },
  "language_info": {
   "codemirror_mode": {
    "name": "ipython",
    "version": 3
   },
   "file_extension": ".py",
   "mimetype": "text/x-python",
   "name": "python",
   "nbconvert_exporter": "python",
   "pygments_lexer": "ipython3",
   "version": "3.9.16"
  }
 },
 "nbformat": 4,
 "nbformat_minor": 5
}
